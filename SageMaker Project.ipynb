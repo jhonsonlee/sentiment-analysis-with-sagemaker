{
 "cells": [
  {
   "cell_type": "markdown",
   "metadata": {},
   "source": [
    "# Creating a Sentiment Analysis Web App\n",
    "## Using PyTorch and SageMaker\n",
    "\n",
    "_Deep Learning Nanodegree Program | Deployment_\n",
    "\n",
    "---\n",
    "\n",
    "Now that we have a basic understanding of how SageMaker works we will try to use it to construct a complete project from end to end. Our goal will be to have a simple web page which a user can use to enter a movie review. The web page will then send the review off to our deployed model which will predict the sentiment of the entered review.\n",
    "\n",
    "## Instructions\n",
    "\n",
    "Some template code has already been provided for you, and you will need to implement additional functionality to successfully complete this notebook. You will not need to modify the included code beyond what is requested. Sections that begin with '**TODO**' in the header indicate that you need to complete or implement some portion within them. Instructions will be provided for each section and the specifics of the implementation are marked in the code block with a `# TODO: ...` comment. Please be sure to read the instructions carefully!\n",
    "\n",
    "In addition to implementing code, there will be questions for you to answer which relate to the task and your implementation. Each section where you will answer a question is preceded by a '**Question:**' header. Carefully read each question and provide your answer below the '**Answer:**' header by editing the Markdown cell.\n",
    "\n",
    "> **Note**: Code and Markdown cells can be executed using the **Shift+Enter** keyboard shortcut. In addition, a cell can be edited by typically clicking it (double-click for Markdown cells) or by pressing **Enter** while it is highlighted.\n",
    "\n",
    "## General Outline\n",
    "\n",
    "Recall the general outline for SageMaker projects using a notebook instance.\n",
    "\n",
    "1. Download or otherwise retrieve the data.\n",
    "2. Process / Prepare the data.\n",
    "3. Upload the processed data to S3.\n",
    "4. Train a chosen model.\n",
    "5. Test the trained model (typically using a batch transform job).\n",
    "6. Deploy the trained model.\n",
    "7. Use the deployed model.\n",
    "\n",
    "For this project, you will be following the steps in the general outline with some modifications. \n",
    "\n",
    "First, you will not be testing the model in its own step. You will still be testing the model, however, you will do it by deploying your model and then using the deployed model by sending the test data to it. One of the reasons for doing this is so that you can make sure that your deployed model is working correctly before moving forward.\n",
    "\n",
    "In addition, you will deploy and use your trained model a second time. In the second iteration you will customize the way that your trained model is deployed by including some of your own code. In addition, your newly deployed model will be used in the sentiment analysis web app."
   ]
  },
  {
   "cell_type": "markdown",
   "metadata": {},
   "source": [
    "## Step 1: Downloading the data\n",
    "\n",
    "As in the XGBoost in SageMaker notebook, we will be using the [IMDb dataset](http://ai.stanford.edu/~amaas/data/sentiment/)\n",
    "\n",
    "> Maas, Andrew L., et al. [Learning Word Vectors for Sentiment Analysis](http://ai.stanford.edu/~amaas/data/sentiment/). In _Proceedings of the 49th Annual Meeting of the Association for Computational Linguistics: Human Language Technologies_. Association for Computational Linguistics, 2011."
   ]
  },
  {
   "cell_type": "code",
   "execution_count": 1,
   "metadata": {},
   "outputs": [
    {
     "name": "stdout",
     "output_type": "stream",
     "text": [
      "--2019-05-04 14:36:41--  http://ai.stanford.edu/~amaas/data/sentiment/aclImdb_v1.tar.gz\n",
      "Resolving ai.stanford.edu (ai.stanford.edu)... 171.64.68.10\n",
      "Connecting to ai.stanford.edu (ai.stanford.edu)|171.64.68.10|:80... connected.\n",
      "HTTP request sent, awaiting response... 200 OK\n",
      "Length: 84125825 (80M) [application/x-gzip]\n",
      "Saving to: ‘../data/aclImdb_v1.tar.gz’\n",
      "\n",
      "../data/aclImdb_v1. 100%[===================>]  80.23M  8.13MB/s    in 12s     \n",
      "\n",
      "2019-05-04 14:36:53 (6.68 MB/s) - ‘../data/aclImdb_v1.tar.gz’ saved [84125825/84125825]\n",
      "\n"
     ]
    }
   ],
   "source": [
    "%mkdir ../data\n",
    "!wget -O ../data/aclImdb_v1.tar.gz http://ai.stanford.edu/~amaas/data/sentiment/aclImdb_v1.tar.gz\n",
    "!tar -zxf ../data/aclImdb_v1.tar.gz -C ../data"
   ]
  },
  {
   "cell_type": "markdown",
   "metadata": {},
   "source": [
    "## Step 2: Preparing and Processing the data\n",
    "\n",
    "Also, as in the XGBoost notebook, we will be doing some initial data processing. The first few steps are the same as in the XGBoost example. To begin with, we will read in each of the reviews and combine them into a single input structure. Then, we will split the dataset into a training set and a testing set."
   ]
  },
  {
   "cell_type": "code",
   "execution_count": 2,
   "metadata": {},
   "outputs": [],
   "source": [
    "import os\n",
    "import glob\n",
    "\n",
    "def read_imdb_data(data_dir='../data/aclImdb'):\n",
    "    data = {}\n",
    "    labels = {}\n",
    "    \n",
    "    for data_type in ['train', 'test']:\n",
    "        data[data_type] = {}\n",
    "        labels[data_type] = {}\n",
    "        \n",
    "        for sentiment in ['pos', 'neg']:\n",
    "            data[data_type][sentiment] = []\n",
    "            labels[data_type][sentiment] = []\n",
    "            \n",
    "            path = os.path.join(data_dir, data_type, sentiment, '*.txt')\n",
    "            files = glob.glob(path)\n",
    "            \n",
    "            for f in files:\n",
    "                with open(f) as review:\n",
    "                    data[data_type][sentiment].append(review.read())\n",
    "                    # Here we represent a positive review by '1' and a negative review by '0'\n",
    "                    labels[data_type][sentiment].append(1 if sentiment == 'pos' else 0)\n",
    "                    \n",
    "            assert len(data[data_type][sentiment]) == len(labels[data_type][sentiment]), \\\n",
    "                    \"{}/{} data size does not match labels size\".format(data_type, sentiment)\n",
    "                \n",
    "    return data, labels"
   ]
  },
  {
   "cell_type": "code",
   "execution_count": 3,
   "metadata": {},
   "outputs": [
    {
     "name": "stdout",
     "output_type": "stream",
     "text": [
      "IMDB reviews: train = 12500 pos / 12500 neg, test = 12500 pos / 12500 neg\n"
     ]
    }
   ],
   "source": [
    "data, labels = read_imdb_data()\n",
    "print(\"IMDB reviews: train = {} pos / {} neg, test = {} pos / {} neg\".format(\n",
    "            len(data['train']['pos']), len(data['train']['neg']),\n",
    "            len(data['test']['pos']), len(data['test']['neg'])))"
   ]
  },
  {
   "cell_type": "markdown",
   "metadata": {},
   "source": [
    "Now that we've read the raw training and testing data from the downloaded dataset, we will combine the positive and negative reviews and shuffle the resulting records."
   ]
  },
  {
   "cell_type": "code",
   "execution_count": 4,
   "metadata": {},
   "outputs": [],
   "source": [
    "from sklearn.utils import shuffle\n",
    "\n",
    "def prepare_imdb_data(data, labels):\n",
    "    \"\"\"Prepare training and test sets from IMDb movie reviews.\"\"\"\n",
    "    \n",
    "    #Combine positive and negative reviews and labels\n",
    "    data_train = data['train']['pos'] + data['train']['neg']\n",
    "    data_test = data['test']['pos'] + data['test']['neg']\n",
    "    labels_train = labels['train']['pos'] + labels['train']['neg']\n",
    "    labels_test = labels['test']['pos'] + labels['test']['neg']\n",
    "    \n",
    "    #Shuffle reviews and corresponding labels within training and test sets\n",
    "    data_train, labels_train = shuffle(data_train, labels_train)\n",
    "    data_test, labels_test = shuffle(data_test, labels_test)\n",
    "    \n",
    "    # Return a unified training data, test data, training labels, test labets\n",
    "    return data_train, data_test, labels_train, labels_test"
   ]
  },
  {
   "cell_type": "code",
   "execution_count": 5,
   "metadata": {},
   "outputs": [
    {
     "name": "stdout",
     "output_type": "stream",
     "text": [
      "IMDb reviews (combined): train = 25000, test = 25000\n"
     ]
    }
   ],
   "source": [
    "train_X, test_X, train_y, test_y = prepare_imdb_data(data, labels)\n",
    "print(\"IMDb reviews (combined): train = {}, test = {}\".format(len(train_X), len(test_X)))"
   ]
  },
  {
   "cell_type": "markdown",
   "metadata": {},
   "source": [
    "Now that we have our training and testing sets unified and prepared, we should do a quick check and see an example of the data our model will be trained on. This is generally a good idea as it allows you to see how each of the further processing steps affects the reviews and it also ensures that the data has been loaded correctly."
   ]
  },
  {
   "cell_type": "code",
   "execution_count": 6,
   "metadata": {},
   "outputs": [
    {
     "name": "stdout",
     "output_type": "stream",
     "text": [
      "The Pallbearer is a disappointment and at times extremely boring with a love story that just doesn't work partly with the casting of Gwyneth Paltrow (Julie). Gwyneth Paltrow walks through the entire film with a confused look on her face and its hard to tell what David Schwimmer even sees in her.<br /><br />However The Pallbearer at times is funny particularly the church scene and the group scenes with his friends are a laugh but that's basically it. Watch The Pallbearer for those scenes only and fast forward the rest. Trust me you aren't missing much.\n",
      "0\n"
     ]
    }
   ],
   "source": [
    "print(train_X[100])\n",
    "print(train_y[100])"
   ]
  },
  {
   "cell_type": "markdown",
   "metadata": {},
   "source": [
    "The first step in processing the reviews is to make sure that any html tags that appear should be removed. In addition we wish to tokenize our input, that way words such as *entertained* and *entertaining* are considered the same with regard to sentiment analysis."
   ]
  },
  {
   "cell_type": "code",
   "execution_count": 7,
   "metadata": {},
   "outputs": [],
   "source": [
    "import nltk\n",
    "from nltk.corpus import stopwords\n",
    "from nltk.stem.porter import *\n",
    "\n",
    "import re\n",
    "from bs4 import BeautifulSoup\n",
    "\n",
    "def review_to_words(review):\n",
    "    nltk.download(\"stopwords\", quiet=True)\n",
    "    stemmer = PorterStemmer()\n",
    "    \n",
    "    text = BeautifulSoup(review, \"html.parser\").get_text() # Remove HTML tags\n",
    "    text = re.sub(r\"[^a-zA-Z0-9]\", \" \", text.lower()) # Convert to lower case\n",
    "    words = text.split() # Split string into words\n",
    "    words = [w for w in words if w not in stopwords.words(\"english\")] # Remove stopwords\n",
    "    words = [PorterStemmer().stem(w) for w in words] # stem\n",
    "    \n",
    "    return words"
   ]
  },
  {
   "cell_type": "markdown",
   "metadata": {},
   "source": [
    "The `review_to_words` method defined above uses `BeautifulSoup` to remove any html tags that appear and uses the `nltk` package to tokenize the reviews. As a check to ensure we know how everything is working, try applying `review_to_words` to one of the reviews in the training set."
   ]
  },
  {
   "cell_type": "code",
   "execution_count": 8,
   "metadata": {},
   "outputs": [
    {
     "name": "stdout",
     "output_type": "stream",
     "text": [
      "['pallbear', 'disappoint', 'time', 'extrem', 'bore', 'love', 'stori', 'work', 'partli', 'cast', 'gwyneth', 'paltrow', 'juli', 'gwyneth', 'paltrow', 'walk', 'entir', 'film', 'confus', 'look', 'face', 'hard', 'tell', 'david', 'schwimmer', 'even', 'see', 'howev', 'pallbear', 'time', 'funni', 'particularli', 'church', 'scene', 'group', 'scene', 'friend', 'laugh', 'basic', 'watch', 'pallbear', 'scene', 'fast', 'forward', 'rest', 'trust', 'miss', 'much']\n"
     ]
    }
   ],
   "source": [
    "# TODO: Apply review_to_words to a review (train_X[100] or any other review)\n",
    "\n",
    "## Process a review\n",
    "words = review_to_words(train_X[100])\n",
    "\n",
    "## See the processed words\n",
    "print(words)"
   ]
  },
  {
   "cell_type": "markdown",
   "metadata": {},
   "source": [
    "**Question:** Above we mentioned that `review_to_words` method removes html formatting and allows us to tokenize the words found in a review, for example, converting *entertained* and *entertaining* into *entertain* so that they are treated as though they are the same word. What else, if anything, does this method do to the input?"
   ]
  },
  {
   "cell_type": "markdown",
   "metadata": {},
   "source": [
    "**Answer:**\n",
    "1. Converts every single words into lowercase format.\n",
    "2. Extracts every single words from the input long string and stored them into a list.\n",
    "3. Removes stopwords(frequently used words which convey little information)"
   ]
  },
  {
   "cell_type": "markdown",
   "metadata": {},
   "source": [
    "The method below applies the `review_to_words` method to each of the reviews in the training and testing datasets. In addition it caches the results. This is because performing this processing step can take a long time. This way if you are unable to complete the notebook in the current session, you can come back without needing to process the data a second time."
   ]
  },
  {
   "cell_type": "code",
   "execution_count": 9,
   "metadata": {},
   "outputs": [],
   "source": [
    "import pickle\n",
    "\n",
    "cache_dir = os.path.join(\"../cache\", \"sentiment_analysis\")  # where to store cache files\n",
    "os.makedirs(cache_dir, exist_ok=True)  # ensure cache directory exists\n",
    "\n",
    "def preprocess_data(data_train, data_test, labels_train, labels_test,\n",
    "                    cache_dir=cache_dir, cache_file=\"preprocessed_data.pkl\"):\n",
    "    \"\"\"Convert each review to words; read from cache if available.\"\"\"\n",
    "\n",
    "    # If cache_file is not None, try to read from it first\n",
    "    cache_data = None\n",
    "    if cache_file is not None:\n",
    "        try:\n",
    "            with open(os.path.join(cache_dir, cache_file), \"rb\") as f:\n",
    "                cache_data = pickle.load(f)\n",
    "            print(\"Read preprocessed data from cache file:\", cache_file)\n",
    "        except:\n",
    "            pass  # unable to read from cache, but that's okay\n",
    "    \n",
    "    # If cache is missing, then do the heavy lifting\n",
    "    if cache_data is None:\n",
    "        # Preprocess training and test data to obtain words for each review\n",
    "        #words_train = list(map(review_to_words, data_train))\n",
    "        #words_test = list(map(review_to_words, data_test))\n",
    "        words_train = [review_to_words(review) for review in data_train]\n",
    "        words_test = [review_to_words(review) for review in data_test]\n",
    "        \n",
    "        # Write to cache file for future runs\n",
    "        if cache_file is not None:\n",
    "            cache_data = dict(words_train=words_train, words_test=words_test,\n",
    "                              labels_train=labels_train, labels_test=labels_test)\n",
    "            with open(os.path.join(cache_dir, cache_file), \"wb\") as f:\n",
    "                pickle.dump(cache_data, f)\n",
    "            print(\"Wrote preprocessed data to cache file:\", cache_file)\n",
    "    else:\n",
    "        # Unpack data loaded from cache file\n",
    "        words_train, words_test, labels_train, labels_test = (cache_data['words_train'],\n",
    "                cache_data['words_test'], cache_data['labels_train'], cache_data['labels_test'])\n",
    "    \n",
    "    return words_train, words_test, labels_train, labels_test"
   ]
  },
  {
   "cell_type": "code",
   "execution_count": 10,
   "metadata": {},
   "outputs": [
    {
     "name": "stdout",
     "output_type": "stream",
     "text": [
      "Wrote preprocessed data to cache file: preprocessed_data.pkl\n"
     ]
    }
   ],
   "source": [
    "# Preprocess data\n",
    "train_X, test_X, train_y, test_y = preprocess_data(train_X, test_X, train_y, test_y)"
   ]
  },
  {
   "cell_type": "markdown",
   "metadata": {},
   "source": [
    "## Transform the data\n",
    "\n",
    "In the XGBoost notebook we transformed the data from its word representation to a bag-of-words feature representation. For the model we are going to construct in this notebook we will construct a feature representation which is very similar. To start, we will represent each word as an integer. Of course, some of the words that appear in the reviews occur very infrequently and so likely don't contain much information for the purposes of sentiment analysis. The way we will deal with this problem is that we will fix the size of our working vocabulary and we will only include the words that appear most frequently. We will then combine all of the infrequent words into a single category and, in our case, we will label it as `1`.\n",
    "\n",
    "Since we will be using a recurrent neural network, it will be convenient if the length of each review is the same. To do this, we will fix a size for our reviews and then pad short reviews with the category 'no word' (which we will label `0`) and truncate long reviews."
   ]
  },
  {
   "cell_type": "markdown",
   "metadata": {},
   "source": [
    "### (TODO) Create a word dictionary\n",
    "\n",
    "To begin with, we need to construct a way to map words that appear in the reviews to integers. Here we fix the size of our vocabulary (including the 'no word' and 'infrequent' categories) to be `5000` but you may wish to change this to see how it affects the model.\n",
    "\n",
    "> **TODO:** Complete the implementation for the `build_dict()` method below. Note that even though the vocab_size is set to `5000`, we only want to construct a mapping for the most frequently appearing `4998` words. This is because we want to reserve the special labels `0` for 'no word' and `1` for 'infrequent word'."
   ]
  },
  {
   "cell_type": "code",
   "execution_count": 20,
   "metadata": {},
   "outputs": [],
   "source": [
    "import numpy as np\n",
    "from collections import Counter\n",
    "\n",
    "def build_dict(data, vocab_size = 5000):\n",
    "    \"\"\"Construct and return a dictionary mapping each of the most frequently appearing words to a unique integer.\"\"\"\n",
    "    \n",
    "    # TODO: Determine how often each word appears in `data`. Note that `data` is a list of sentences and that a\n",
    "    #       sentence is a list of words.\n",
    "    \n",
    "    word_count = Counter() # A dict storing the words that appear in the reviews along with how often they occur\n",
    "    for sentence in data:\n",
    "        for word in sentence:\n",
    "            word_count[word] += 1 # Increment each word found\n",
    "    \n",
    "    # TODO: Sort the words found in `data` so that sorted_words[0] is the most frequently appearing word and\n",
    "    #       sorted_words[-1] is the least frequently appearing word.\n",
    "    \n",
    "    sorted_words = [word for word in sorted(word_count, key=word_count.get, reverse=True)]\n",
    "    \n",
    "    word_dict = {} # This is what we are building, a dictionary that translates words into integers\n",
    "    for idx, word in enumerate(sorted_words[:vocab_size - 2]): # The -2 is so that we save room for the 'no word'\n",
    "        word_dict[word] = idx + 2                              # 'infrequent' labels\n",
    "        \n",
    "    return word_dict"
   ]
  },
  {
   "cell_type": "code",
   "execution_count": 21,
   "metadata": {},
   "outputs": [],
   "source": [
    "word_dict = build_dict(train_X)"
   ]
  },
  {
   "cell_type": "markdown",
   "metadata": {},
   "source": [
    "**Question:** What are the five most frequently appearing (tokenized) words in the training set? Does it makes sense that these words appear frequently in the training set?"
   ]
  },
  {
   "cell_type": "markdown",
   "metadata": {},
   "source": [
    "**Answer:**"
   ]
  },
  {
   "cell_type": "code",
   "execution_count": 22,
   "metadata": {},
   "outputs": [
    {
     "name": "stdout",
     "output_type": "stream",
     "text": [
      "{'movi': 2, 'film': 3, 'one': 4, 'like': 5, 'time': 6, 'good': 7, 'make': 8, 'charact': 9, 'get': 10, 'see': 11, 'watch': 12, 'stori': 13, 'even': 14, 'would': 15, 'realli': 16, 'well': 17, 'scene': 18, 'look': 19, 'show': 20, 'much': 21, 'end': 22, 'peopl': 23, 'bad': 24, 'go': 25, 'great': 26, 'also': 27, 'first': 28, 'love': 29, 'think': 30, 'way': 31, 'act': 32, 'play': 33, 'made': 34, 'thing': 35, 'could': 36, 'know': 37, 'say': 38, 'seem': 39, 'work': 40, 'plot': 41, 'two': 42, 'actor': 43, 'year': 44, 'come': 45, 'mani': 46, 'seen': 47, 'take': 48, 'life': 49, 'want': 50, 'never': 51, 'littl': 52, 'best': 53, 'tri': 54, 'man': 55, 'ever': 56, 'give': 57, 'better': 58, 'still': 59, 'perform': 60, 'find': 61, 'feel': 62, 'part': 63, 'back': 64, 'use': 65, 'someth': 66, 'director': 67, 'actual': 68, 'interest': 69, 'lot': 70, 'real': 71, 'old': 72, 'cast': 73, 'though': 74, 'live': 75, 'star': 76, 'enjoy': 77, 'guy': 78, 'anoth': 79, 'new': 80, 'role': 81, 'noth': 82, '10': 83, 'funni': 84, 'music': 85, 'point': 86, 'start': 87, 'set': 88, 'girl': 89, 'origin': 90, 'day': 91, 'world': 92, 'everi': 93, 'believ': 94, 'turn': 95, 'quit': 96, 'us': 97, 'direct': 98, 'thought': 99, 'fact': 100, 'minut': 101, 'horror': 102, 'kill': 103, 'action': 104, 'comedi': 105, 'pretti': 106, 'young': 107, 'wonder': 108, 'happen': 109, 'around': 110, 'got': 111, 'effect': 112, 'right': 113, 'long': 114, 'howev': 115, 'big': 116, 'line': 117, 'famili': 118, 'enough': 119, 'seri': 120, 'may': 121, 'need': 122, 'fan': 123, 'bit': 124, 'script': 125, 'beauti': 126, 'person': 127, 'becom': 128, 'without': 129, 'must': 130, 'alway': 131, 'friend': 132, 'tell': 133, 'reason': 134, 'saw': 135, 'last': 136, 'final': 137, 'kid': 138, 'almost': 139, 'put': 140, 'least': 141, 'sure': 142, 'done': 143, 'whole': 144, 'place': 145, 'complet': 146, 'kind': 147, 'expect': 148, 'differ': 149, 'shot': 150, 'far': 151, 'mean': 152, 'anyth': 153, 'book': 154, 'laugh': 155, 'might': 156, 'name': 157, 'sinc': 158, 'begin': 159, '2': 160, 'probabl': 161, 'woman': 162, 'help': 163, 'entertain': 164, 'let': 165, 'screen': 166, 'call': 167, 'tv': 168, 'moment': 169, 'away': 170, 'read': 171, 'yet': 172, 'rather': 173, 'worst': 174, 'run': 175, 'fun': 176, 'lead': 177, 'hard': 178, 'audienc': 179, 'idea': 180, 'anyon': 181, 'episod': 182, 'american': 183, 'found': 184, 'appear': 185, 'bore': 186, 'especi': 187, 'although': 188, 'hope': 189, 'keep': 190, 'cours': 191, 'anim': 192, 'job': 193, 'goe': 194, 'move': 195, 'sens': 196, 'version': 197, 'dvd': 198, 'war': 199, 'money': 200, 'someon': 201, 'mind': 202, 'mayb': 203, 'problem': 204, 'true': 205, 'hous': 206, 'everyth': 207, 'nice': 208, 'second': 209, 'rate': 210, 'three': 211, 'night': 212, 'face': 213, 'follow': 214, 'recommend': 215, 'product': 216, 'main': 217, 'worth': 218, 'leav': 219, 'human': 220, 'special': 221, 'excel': 222, 'togeth': 223, 'wast': 224, 'sound': 225, 'everyon': 226, 'john': 227, 'hand': 228, '1': 229, 'father': 230, 'later': 231, 'eye': 232, 'said': 233, 'view': 234, 'instead': 235, 'review': 236, 'boy': 237, 'high': 238, 'hour': 239, 'miss': 240, 'talk': 241, 'classic': 242, 'wife': 243, 'understand': 244, 'left': 245, 'care': 246, 'black': 247, 'death': 248, 'open': 249, 'murder': 250, 'write': 251, 'half': 252, 'head': 253, 'rememb': 254, 'chang': 255, 'viewer': 256, 'fight': 257, 'gener': 258, 'surpris': 259, 'includ': 260, 'short': 261, 'die': 262, 'fall': 263, 'less': 264, 'els': 265, 'entir': 266, 'piec': 267, 'involv': 268, 'pictur': 269, 'simpli': 270, 'home': 271, 'power': 272, 'top': 273, 'total': 274, 'usual': 275, 'budget': 276, 'attempt': 277, 'suppos': 278, 'releas': 279, 'hollywood': 280, 'terribl': 281, 'song': 282, 'men': 283, 'possibl': 284, 'featur': 285, 'portray': 286, 'disappoint': 287, 'poor': 288, '3': 289, 'coupl': 290, 'stupid': 291, 'camera': 292, 'dead': 293, 'wrong': 294, 'produc': 295, 'low': 296, 'video': 297, 'either': 298, 'aw': 299, 'definit': 300, 'except': 301, 'rest': 302, 'given': 303, 'absolut': 304, 'women': 305, 'lack': 306, 'word': 307, 'writer': 308, 'titl': 309, 'talent': 310, 'decid': 311, 'full': 312, 'perfect': 313, 'along': 314, 'style': 315, 'close': 316, 'truli': 317, 'school': 318, 'emot': 319, 'save': 320, 'sex': 321, 'age': 322, 'next': 323, 'bring': 324, 'mr': 325, 'case': 326, 'killer': 327, 'heart': 328, 'comment': 329, 'sort': 330, 'creat': 331, 'perhap': 332, 'came': 333, 'brother': 334, 'sever': 335, 'joke': 336, 'art': 337, 'dialogu': 338, 'game': 339, 'small': 340, 'base': 341, 'flick': 342, 'written': 343, 'sequenc': 344, 'meet': 345, 'earli': 346, 'often': 347, 'other': 348, 'mother': 349, 'develop': 350, 'humor': 351, 'actress': 352, 'consid': 353, 'dark': 354, 'guess': 355, 'amaz': 356, 'unfortun': 357, 'light': 358, 'lost': 359, 'exampl': 360, 'cinema': 361, 'drama': 362, 'ye': 363, 'white': 364, 'experi': 365, 'imagin': 366, 'mention': 367, 'stop': 368, 'natur': 369, 'forc': 370, 'manag': 371, 'felt': 372, 'present': 373, 'cut': 374, 'children': 375, 'fail': 376, 'son': 377, 'qualiti': 378, 'support': 379, 'car': 380, 'ask': 381, 'hit': 382, 'side': 383, 'voic': 384, 'extrem': 385, 'impress': 386, 'evil': 387, 'wors': 388, 'went': 389, 'stand': 390, 'certainli': 391, 'basic': 392, 'oh': 393, 'overal': 394, 'favorit': 395, 'horribl': 396, 'mysteri': 397, 'number': 398, 'type': 399, 'danc': 400, 'wait': 401, 'hero': 402, 'alreadi': 403, '5': 404, 'learn': 405, 'matter': 406, '4': 407, 'michael': 408, 'genr': 409, 'fine': 410, 'despit': 411, 'throughout': 412, 'walk': 413, 'success': 414, 'histori': 415, 'question': 416, 'zombi': 417, 'town': 418, 'realiz': 419, 'relationship': 420, 'past': 421, 'child': 422, 'daughter': 423, 'late': 424, 'b': 425, 'wish': 426, 'hate': 427, 'credit': 428, 'event': 429, 'theme': 430, 'touch': 431, 'citi': 432, 'today': 433, 'sometim': 434, 'behind': 435, 'god': 436, 'twist': 437, 'sit': 438, 'annoy': 439, 'deal': 440, 'stay': 441, 'abl': 442, 'rent': 443, 'pleas': 444, 'edit': 445, 'blood': 446, 'deserv': 447, 'comic': 448, 'anyway': 449, 'appar': 450, 'soon': 451, 'gave': 452, 'etc': 453, 'level': 454, 'slow': 455, 'chanc': 456, 'score': 457, 'bodi': 458, 'brilliant': 459, 'incred': 460, 'figur': 461, 'situat': 462, 'major': 463, 'self': 464, 'stuff': 465, 'decent': 466, 'element': 467, 'dream': 468, 'return': 469, 'obvious': 470, 'order': 471, 'continu': 472, 'pace': 473, 'ridicul': 474, 'happi': 475, 'highli': 476, 'add': 477, 'group': 478, 'thank': 479, 'ladi': 480, 'novel': 481, 'speak': 482, 'pain': 483, 'career': 484, 'shoot': 485, 'strang': 486, 'heard': 487, 'sad': 488, 'husband': 489, 'polic': 490, 'import': 491, 'break': 492, 'took': 493, 'cannot': 494, 'strong': 495, 'robert': 496, 'predict': 497, 'violenc': 498, 'hilari': 499, 'recent': 500, 'countri': 501, 'known': 502, 'particularli': 503, 'pick': 504, 'documentari': 505, 'season': 506, 'critic': 507, 'jame': 508, 'compar': 509, 'alon': 510, 'obviou': 511, 'told': 512, 'state': 513, 'rock': 514, 'visual': 515, 'exist': 516, 'offer': 517, 'theater': 518, 'opinion': 519, 'gore': 520, 'crap': 521, 'hold': 522, 'result': 523, 'hear': 524, 'room': 525, 'realiti': 526, 'effort': 527, 'clich': 528, 'thriller': 529, 'caus': 530, 'sequel': 531, 'explain': 532, 'serious': 533, 'king': 534, 'local': 535, 'ago': 536, 'none': 537, 'hell': 538, 'note': 539, 'allow': 540, 'sister': 541, 'david': 542, 'simpl': 543, 'femal': 544, 'deliv': 545, 'ok': 546, 'class': 547, 'convinc': 548, 'check': 549, 'suspens': 550, 'win': 551, 'buy': 552, 'oscar': 553, 'huge': 554, 'valu': 555, 'sexual': 556, 'cool': 557, 'scari': 558, 'excit': 559, 'similar': 560, 'apart': 561, 'provid': 562, 'exactli': 563, 'avoid': 564, 'shown': 565, 'seriou': 566, 'english': 567, 'taken': 568, 'whose': 569, 'cinematographi': 570, 'shock': 571, 'polit': 572, 'spoiler': 573, 'offic': 574, 'across': 575, 'middl': 576, 'pass': 577, 'street': 578, 'messag': 579, 'silli': 580, 'charm': 581, 'somewhat': 582, 'modern': 583, 'filmmak': 584, 'confus': 585, 'form': 586, 'tale': 587, 'singl': 588, 'jack': 589, 'mostli': 590, 'carri': 591, 'attent': 592, 'william': 593, 'sing': 594, 'subject': 595, 'five': 596, 'prove': 597, 'richard': 598, 'stage': 599, 'team': 600, 'cop': 601, 'unlik': 602, 'georg': 603, 'televis': 604, 'monster': 605, 'earth': 606, 'cover': 607, 'villain': 608, 'pay': 609, 'marri': 610, 'toward': 611, 'build': 612, 'pull': 613, 'parent': 614, 'due': 615, 'respect': 616, 'fill': 617, 'four': 618, 'dialog': 619, 'remind': 620, 'futur': 621, 'typic': 622, 'weak': 623, '7': 624, 'cheap': 625, 'intellig': 626, 'atmospher': 627, 'british': 628, 'clearli': 629, '80': 630, 'non': 631, 'dog': 632, 'paul': 633, 'knew': 634, '8': 635, 'artist': 636, 'fast': 637, 'crime': 638, 'easili': 639, 'escap': 640, 'doubt': 641, 'adult': 642, 'detail': 643, 'date': 644, 'romant': 645, 'fire': 646, 'member': 647, 'drive': 648, 'gun': 649, 'straight': 650, 'fit': 651, 'beyond': 652, 'attack': 653, 'imag': 654, 'upon': 655, 'posit': 656, 'whether': 657, 'peter': 658, 'fantast': 659, 'captur': 660, 'appreci': 661, 'aspect': 662, 'ten': 663, 'plan': 664, 'discov': 665, 'remain': 666, 'period': 667, 'near': 668, 'air': 669, 'realist': 670, 'mark': 671, 'red': 672, 'dull': 673, 'adapt': 674, 'within': 675, 'spend': 676, 'lose': 677, 'materi': 678, 'color': 679, 'chase': 680, 'mari': 681, 'storylin': 682, 'forget': 683, 'bunch': 684, 'clear': 685, 'lee': 686, 'victim': 687, 'nearli': 688, 'box': 689, 'york': 690, 'inspir': 691, 'match': 692, 'mess': 693, 'finish': 694, 'standard': 695, 'easi': 696, 'truth': 697, 'busi': 698, 'suffer': 699, 'dramat': 700, 'space': 701, 'bill': 702, 'western': 703, 'e': 704, 'list': 705, 'battl': 706, 'notic': 707, 'de': 708, 'french': 709, 'ad': 710, '9': 711, 'tom': 712, 'larg': 713, 'among': 714, 'eventu': 715, 'accept': 716, 'train': 717, 'agre': 718, 'spirit': 719, 'soundtrack': 720, 'third': 721, 'teenag': 722, 'adventur': 723, 'soldier': 724, 'famou': 725, 'sorri': 726, 'suggest': 727, 'drug': 728, 'babi': 729, 'normal': 730, 'cri': 731, 'troubl': 732, 'ultim': 733, 'contain': 734, 'certain': 735, 'cultur': 736, 'romanc': 737, 'rare': 738, 'lame': 739, 'somehow': 740, 'mix': 741, 'disney': 742, 'gone': 743, 'cartoon': 744, 'student': 745, 'reveal': 746, 'fear': 747, 'suck': 748, 'kept': 749, 'attract': 750, 'appeal': 751, 'premis': 752, 'greatest': 753, 'design': 754, 'secret': 755, 'shame': 756, 'throw': 757, 'copi': 758, 'scare': 759, 'wit': 760, 'admit': 761, 'america': 762, 'brought': 763, 'relat': 764, 'particular': 765, 'screenplay': 766, 'whatev': 767, 'pure': 768, '70': 769, 'averag': 770, 'harri': 771, 'master': 772, 'describ': 773, 'treat': 774, 'male': 775, '20': 776, 'issu': 777, 'fantasi': 778, 'warn': 779, 'inde': 780, 'forward': 781, 'background': 782, 'free': 783, 'project': 784, 'japanes': 785, 'memor': 786, 'poorli': 787, 'award': 788, 'locat': 789, 'potenti': 790, 'amus': 791, 'struggl': 792, 'weird': 793, 'magic': 794, 'societi': 795, 'okay': 796, 'accent': 797, 'doctor': 798, 'imdb': 799, 'hot': 800, 'water': 801, 'express': 802, '30': 803, 'dr': 804, 'alien': 805, 'odd': 806, 'choic': 807, 'crazi': 808, 'studio': 809, 'fiction': 810, 'control': 811, 'becam': 812, 'masterpiec': 813, 'difficult': 814, 'fli': 815, 'joe': 816, 'scream': 817, 'costum': 818, 'lover': 819, 'uniqu': 820, 'refer': 821, 'remak': 822, 'girlfriend': 823, 'vampir': 824, 'prison': 825, 'execut': 826, 'wear': 827, 'jump': 828, 'wood': 829, 'unless': 830, 'creepi': 831, 'cheesi': 832, 'superb': 833, 'otherwis': 834, 'parti': 835, 'roll': 836, 'ghost': 837, 'public': 838, 'mad': 839, 'depict': 840, 'earlier': 841, 'badli': 842, 'moral': 843, 'jane': 844, 'week': 845, 'dumb': 846, 'fi': 847, 'grow': 848, 'flaw': 849, 'deep': 850, 'sci': 851, 'maker': 852, 'cat': 853, 'connect': 854, 'older': 855, 'footag': 856, 'plenti': 857, 'bother': 858, 'outsid': 859, 'stick': 860, 'gay': 861, 'catch': 862, 'plu': 863, 'co': 864, 'popular': 865, 'equal': 866, 'social': 867, 'disturb': 868, 'quickli': 869, 'perfectli': 870, 'dress': 871, '90': 872, 'era': 873, 'mistak': 874, 'lie': 875, 'previou': 876, 'ride': 877, 'combin': 878, 'band': 879, 'concept': 880, 'answer': 881, 'rich': 882, 'surviv': 883, 'front': 884, 'sweet': 885, 'christma': 886, 'insid': 887, 'eat': 888, 'bare': 889, 'concern': 890, 'ben': 891, 'beat': 892, 'listen': 893, 'c': 894, 'term': 895, 'serv': 896, 'meant': 897, 'german': 898, 'la': 899, 'hardli': 900, 'stereotyp': 901, 'innoc': 902, 'law': 903, 'desper': 904, 'memori': 905, 'promis': 906, 'intent': 907, 'cute': 908, 'variou': 909, 'steal': 910, 'inform': 911, 'brain': 912, 'post': 913, 'tone': 914, 'island': 915, 'amount': 916, 'track': 917, 'nuditi': 918, 'compani': 919, 'claim': 920, 'store': 921, '50': 922, 'hair': 923, 'flat': 924, 'univers': 925, 'land': 926, 'scott': 927, 'fairli': 928, 'kick': 929, 'danger': 930, 'player': 931, 'plain': 932, 'step': 933, 'crew': 934, 'toni': 935, 'share': 936, 'centuri': 937, 'tast': 938, 'achiev': 939, 'engag': 940, 'cold': 941, 'travel': 942, 'suit': 943, 'rip': 944, 'record': 945, 'sadli': 946, 'manner': 947, 'spot': 948, 'wrote': 949, 'tension': 950, 'intens': 951, 'fascin': 952, 'familiar': 953, 'depth': 954, 'remark': 955, 'burn': 956, 'destroy': 957, 'histor': 958, 'sleep': 959, 'purpos': 960, 'languag': 961, 'ruin': 962, 'ignor': 963, 'delight': 964, 'unbeliev': 965, 'italian': 966, 'abil': 967, 'soul': 968, 'collect': 969, 'clever': 970, 'detect': 971, 'violent': 972, 'rape': 973, 'reach': 974, 'door': 975, 'liter': 976, 'trash': 977, 'scienc': 978, 'caught': 979, 'reveng': 980, 'commun': 981, 'creatur': 982, 'trip': 983, 'approach': 984, 'intrigu': 985, 'fashion': 986, 'introduc': 987, 'skill': 988, 'paint': 989, 'channel': 990, 'complex': 991, 'camp': 992, 'christian': 993, 'extra': 994, 'hole': 995, 'mental': 996, 'immedi': 997, 'limit': 998, 'ann': 999, 'mere': 1000, 'slightli': 1001, '6': 1002, 'million': 1003, 'comput': 1004, 'conclus': 1005, 'slasher': 1006, 'suddenli': 1007, 'imposs': 1008, 'neither': 1009, 'teen': 1010, 'crimin': 1011, 'physic': 1012, 'spent': 1013, 'nation': 1014, 'respons': 1015, 'planet': 1016, 'receiv': 1017, 'fake': 1018, 'sick': 1019, 'blue': 1020, 'bizarr': 1021, 'embarrass': 1022, 'indian': 1023, '15': 1024, 'ring': 1025, 'drop': 1026, 'pop': 1027, 'drag': 1028, 'haunt': 1029, 'pointless': 1030, 'suspect': 1031, 'search': 1032, 'edg': 1033, 'handl': 1034, 'biggest': 1035, 'common': 1036, 'hurt': 1037, 'faith': 1038, 'arriv': 1039, 'technic': 1040, 'angel': 1041, 'genuin': 1042, 'dad': 1043, 'f': 1044, 'solid': 1045, 'awesom': 1046, 'focu': 1047, 'van': 1048, 'former': 1049, 'colleg': 1050, 'count': 1051, 'tear': 1052, 'heavi': 1053, 'wall': 1054, 'rais': 1055, 'younger': 1056, 'laughabl': 1057, 'visit': 1058, 'excus': 1059, 'sign': 1060, 'fair': 1061, 'cult': 1062, 'key': 1063, 'tough': 1064, 'motion': 1065, 'desir': 1066, 'super': 1067, 'addit': 1068, 'stun': 1069, 'exploit': 1070, 'cloth': 1071, 'tortur': 1072, 'smith': 1073, 'davi': 1074, 'race': 1075, 'author': 1076, 'cross': 1077, 'jim': 1078, 'minor': 1079, 'compel': 1080, 'focus': 1081, 'consist': 1082, 'pathet': 1083, 'commit': 1084, 'chemistri': 1085, 'park': 1086, 'obsess': 1087, 'tradit': 1088, 'frank': 1089, 'grade': 1090, 'asid': 1091, '60': 1092, 'brutal': 1093, 'steve': 1094, 'somewher': 1095, 'opportun': 1096, 'u': 1097, 'depress': 1098, 'rule': 1099, 'explor': 1100, 'grant': 1101, 'besid': 1102, 'honest': 1103, 'dub': 1104, 'anti': 1105, 'intend': 1106, 'trailer': 1107, 'bar': 1108, 'west': 1109, 'longer': 1110, 'scientist': 1111, 'regard': 1112, 'decad': 1113, 'judg': 1114, 'silent': 1115, 'creativ': 1116, 'armi': 1117, 'wild': 1118, 'g': 1119, 'south': 1120, 'stewart': 1121, 'draw': 1122, 'road': 1123, 'govern': 1124, 'boss': 1125, 'ex': 1126, 'practic': 1127, 'motiv': 1128, 'festiv': 1129, 'club': 1130, 'gang': 1131, 'surprisingli': 1132, 'redeem': 1133, 'page': 1134, 'green': 1135, 'london': 1136, 'idiot': 1137, 'display': 1138, 'aliv': 1139, 'militari': 1140, 'machin': 1141, 'repeat': 1142, 'thrill': 1143, 'folk': 1144, 'yeah': 1145, 'nobodi': 1146, '100': 1147, '40': 1148, 'garbag': 1149, 'journey': 1150, 'ground': 1151, 'tire': 1152, 'smile': 1153, 'bought': 1154, 'mood': 1155, 'stone': 1156, 'cost': 1157, 'sam': 1158, 'mouth': 1159, 'noir': 1160, 'terrif': 1161, 'agent': 1162, 'utterli': 1163, 'requir': 1164, 'area': 1165, 'sexi': 1166, 'honestli': 1167, 'geniu': 1168, 'report': 1169, 'investig': 1170, 'glad': 1171, 'humour': 1172, 'enter': 1173, 'serial': 1174, 'narr': 1175, 'occasion': 1176, 'passion': 1177, 'marriag': 1178, 'climax': 1179, 'studi': 1180, 'industri': 1181, 'center': 1182, 'nowher': 1183, 'demon': 1184, 'ship': 1185, 'charli': 1186, 'bear': 1187, 'loos': 1188, 'hors': 1189, 'hang': 1190, 'wow': 1191, 'graphic': 1192, 'giant': 1193, 'admir': 1194, 'send': 1195, 'loud': 1196, 'damn': 1197, 'rel': 1198, 'subtl': 1199, 'profession': 1200, 'nake': 1201, 'blow': 1202, 'bottom': 1203, 'batman': 1204, 'insult': 1205, 'boyfriend': 1206, 'kelli': 1207, 'doubl': 1208, 'r': 1209, 'initi': 1210, 'frame': 1211, 'gem': 1212, 'opera': 1213, 'cinemat': 1214, 'challeng': 1215, 'drawn': 1216, 'church': 1217, 'affect': 1218, 'fulli': 1219, 'nightmar': 1220, 'j': 1221, 'l': 1222, 'evid': 1223, 'seek': 1224, 'arm': 1225, 'conflict': 1226, 'essenti': 1227, 'grace': 1228, 'wind': 1229, 'henri': 1230, 'christoph': 1231, 'narrat': 1232, 'assum': 1233, 'witch': 1234, 'push': 1235, 'hunt': 1236, 'wise': 1237, 'chri': 1238, 'month': 1239, 'nomin': 1240, 'repres': 1241, 'affair': 1242, 'sceneri': 1243, 'avail': 1244, 'hide': 1245, 'thu': 1246, 'smart': 1247, 'justic': 1248, 'bond': 1249, 'flashback': 1250, 'outstand': 1251, 'interview': 1252, 'presenc': 1253, 'constantli': 1254, 'satisfi': 1255, 'bed': 1256, 'central': 1257, 'content': 1258, 'sell': 1259, 'iron': 1260, 'gag': 1261, 'everybodi': 1262, 'slowli': 1263, 'hotel': 1264, 'hire': 1265, 'system': 1266, 'individu': 1267, 'thrown': 1268, 'charl': 1269, 'hey': 1270, 'adam': 1271, 'allen': 1272, 'jone': 1273, 'mediocr': 1274, 'ray': 1275, 'billi': 1276, 'lesson': 1277, 'cameo': 1278, 'photographi': 1279, 'fellow': 1280, 'pari': 1281, 'strike': 1282, 'absurd': 1283, 'brief': 1284, 'rise': 1285, 'independ': 1286, 'neg': 1287, 'phone': 1288, 'impact': 1289, 'model': 1290, 'born': 1291, 'ill': 1292, 'fresh': 1293, 'angl': 1294, 'spoil': 1295, 'abus': 1296, 'likabl': 1297, 'hill': 1298, 'discuss': 1299, 'ahead': 1300, 'sight': 1301, 'photograph': 1302, 'sent': 1303, 'shine': 1304, 'logic': 1305, 'blame': 1306, 'occur': 1307, 'mainli': 1308, 'bruce': 1309, 'commerci': 1310, 'skip': 1311, 'forev': 1312, 'segment': 1313, 'teacher': 1314, 'surround': 1315, 'held': 1316, 'blond': 1317, 'zero': 1318, 'trap': 1319, 'summer': 1320, 'satir': 1321, 'resembl': 1322, 'fool': 1323, 'six': 1324, 'queen': 1325, 'ball': 1326, 'twice': 1327, 'sub': 1328, 'tragedi': 1329, 'pack': 1330, 'reaction': 1331, 'bomb': 1332, 'protagonist': 1333, 'will': 1334, 'hospit': 1335, 'sport': 1336, 'mile': 1337, 'vote': 1338, 'mom': 1339, 'trust': 1340, 'jerri': 1341, 'drink': 1342, 'encount': 1343, 'plane': 1344, 'program': 1345, 'current': 1346, 'al': 1347, 'station': 1348, 'choos': 1349, 'celebr': 1350, 'martin': 1351, 'join': 1352, 'field': 1353, 'round': 1354, 'tragic': 1355, 'favourit': 1356, 'lord': 1357, 'vision': 1358, 'jean': 1359, 'robot': 1360, 'tie': 1361, 'arthur': 1362, 'roger': 1363, 'fortun': 1364, 'random': 1365, 'intern': 1366, 'dread': 1367, 'psycholog': 1368, 'improv': 1369, 'nonsens': 1370, 'epic': 1371, 'prefer': 1372, 'pleasur': 1373, 'legend': 1374, 'highlight': 1375, 'formula': 1376, '11': 1377, 'dollar': 1378, 'tape': 1379, 'thin': 1380, 'gorgeou': 1381, 'fox': 1382, 'wide': 1383, 'object': 1384, 'porn': 1385, 'buddi': 1386, 'influenc': 1387, 'ugli': 1388, 'ii': 1389, 'prepar': 1390, 'nasti': 1391, 'warm': 1392, 'reflect': 1393, 'supposedli': 1394, 'progress': 1395, 'youth': 1396, 'worthi': 1397, 'unusu': 1398, 'length': 1399, 'latter': 1400, 'crash': 1401, 'childhood': 1402, 'seven': 1403, 'superior': 1404, 'shop': 1405, 'remot': 1406, 'theatr': 1407, 'paid': 1408, 'funniest': 1409, 'disgust': 1410, 'pilot': 1411, 'convers': 1412, 'trick': 1413, 'fell': 1414, 'castl': 1415, 'disast': 1416, 'rob': 1417, 'establish': 1418, 'gangster': 1419, 'mine': 1420, 'suicid': 1421, 'disappear': 1422, 'heaven': 1423, 'ident': 1424, 'heroin': 1425, 'mask': 1426, 'decis': 1427, 'singer': 1428, 'forgotten': 1429, 'tend': 1430, 'partner': 1431, 'brian': 1432, 'alan': 1433, 'desert': 1434, 'recogn': 1435, 'p': 1436, 'stuck': 1437, 'ms': 1438, 'thoroughli': 1439, 'sky': 1440, 'replac': 1441, 'accur': 1442, 'market': 1443, 'seemingli': 1444, 'uncl': 1445, 'commentari': 1446, 'andi': 1447, 'clue': 1448, 'danni': 1449, 'eddi': 1450, 'devil': 1451, 'jackson': 1452, 'refus': 1453, 'therefor': 1454, 'pair': 1455, 'that': 1456, 'fault': 1457, 'accid': 1458, 'unit': 1459, 'ed': 1460, 'fate': 1461, 'river': 1462, 'afraid': 1463, 'tune': 1464, 'clean': 1465, 'stephen': 1466, 'hidden': 1467, 'russian': 1468, 'test': 1469, 'irrit': 1470, 'quick': 1471, 'convey': 1472, 'instanc': 1473, 'readi': 1474, 'captain': 1475, 'european': 1476, 'insan': 1477, 'frustrat': 1478, 'daniel': 1479, '1950': 1480, 'wed': 1481, 'food': 1482, 'rescu': 1483, 'chines': 1484, 'lock': 1485, 'dirti': 1486, 'angri': 1487, 'joy': 1488, 'steven': 1489, 'price': 1490, 'bland': 1491, 'cage': 1492, 'anymor': 1493, 'rang': 1494, 'wooden': 1495, 'rush': 1496, 'n': 1497, 'news': 1498, 'jason': 1499, 'board': 1500, '12': 1501, 'twenti': 1502, 'worri': 1503, 'led': 1504, 'martial': 1505, 'symbol': 1506, 'hunter': 1507, 'transform': 1508, 'cgi': 1509, 'sentiment': 1510, 'onto': 1511, 'x': 1512, 'johnni': 1513, 'piti': 1514, 'invent': 1515, 'attitud': 1516, 'explan': 1517, 'process': 1518, 'awar': 1519, 'owner': 1520, 'aim': 1521, 'floor': 1522, 'favor': 1523, 'necessari': 1524, 'energi': 1525, 'target': 1526, 'opposit': 1527, 'religi': 1528, 'blind': 1529, 'chick': 1530, 'window': 1531, 'insight': 1532, 'movement': 1533, 'deepli': 1534, 'mountain': 1535, 'research': 1536, 'possess': 1537, 'comparison': 1538, 'whatsoev': 1539, 'grand': 1540, 'comed': 1541, 'rain': 1542, 'shadow': 1543, 'mid': 1544, 'began': 1545, 'bank': 1546, 'parodi': 1547, 'princ': 1548, 'credibl': 1549, 'taylor': 1550, 'friendship': 1551, 'weapon': 1552, 'pre': 1553, 'teach': 1554, 'flesh': 1555, 'dougla': 1556, 'protect': 1557, 'terror': 1558, 'hint': 1559, 'bloodi': 1560, 'marvel': 1561, 'drunk': 1562, 'anybodi': 1563, 'accord': 1564, 'leader': 1565, 'watchabl': 1566, 'load': 1567, 'superman': 1568, 'freddi': 1569, 'brown': 1570, 'jeff': 1571, 'seat': 1572, 'appropri': 1573, 'tim': 1574, 'hitler': 1575, 'villag': 1576, 'knock': 1577, 'keaton': 1578, 'unknown': 1579, 'charg': 1580, 'empti': 1581, 'media': 1582, 'unnecessari': 1583, 'enemi': 1584, 'england': 1585, 'utter': 1586, 'craft': 1587, 'strength': 1588, 'buck': 1589, 'wave': 1590, 'dare': 1591, 'perspect': 1592, 'contrast': 1593, 'correct': 1594, 'nativ': 1595, 'ford': 1596, 'kiss': 1597, 'anywher': 1598, 'distract': 1599, 'chill': 1600, 'knowledg': 1601, 'magnific': 1602, 'nazi': 1603, 'speed': 1604, 'soap': 1605, 'mission': 1606, 'ice': 1607, '1980': 1608, 'fred': 1609, 'breath': 1610, 'crowd': 1611, 'jr': 1612, 'moon': 1613, 'joan': 1614, 'soft': 1615, 'frighten': 1616, 'kate': 1617, '000': 1618, 'dick': 1619, 'dan': 1620, 'nick': 1621, 'hundr': 1622, 'simon': 1623, 'dozen': 1624, 'radio': 1625, 'somebodi': 1626, 'academi': 1627, 'thousand': 1628, 'loss': 1629, 'shakespear': 1630, 'andrew': 1631, 'quot': 1632, 'root': 1633, 'vehicl': 1634, 'account': 1635, 'sum': 1636, 'leg': 1637, 'convent': 1638, '1970': 1639, 'behavior': 1640, 'gold': 1641, 'regular': 1642, 'pretenti': 1643, 'compet': 1644, 'worker': 1645, 'demand': 1646, 'explos': 1647, 'lynch': 1648, 'interpret': 1649, 'notabl': 1650, 'candi': 1651, 'japan': 1652, 'privat': 1653, 'stretch': 1654, 'constant': 1655, 'debut': 1656, 'tarzan': 1657, 'revolv': 1658, 'translat': 1659, 'sea': 1660, 'prais': 1661, 'spi': 1662, 'franc': 1663, 'jesu': 1664, 'quiet': 1665, 'threaten': 1666, 'technolog': 1667, 'failur': 1668, 'sat': 1669, 'ass': 1670, 'met': 1671, 'toy': 1672, 'punch': 1673, 'kevin': 1674, 'higher': 1675, 'aid': 1676, 'vh': 1677, 'interact': 1678, 'abandon': 1679, 'mike': 1680, 'separ': 1681, 'bet': 1682, 'confront': 1683, 'command': 1684, 'techniqu': 1685, 'recal': 1686, 'stunt': 1687, 'gotten': 1688, 'belong': 1689, 'servic': 1690, 'site': 1691, 'freak': 1692, 'foot': 1693, 'bug': 1694, 'cabl': 1695, 'jimmi': 1696, 'african': 1697, 'bright': 1698, 'capabl': 1699, 'fu': 1700, 'stock': 1701, 'succeed': 1702, 'boat': 1703, 'fat': 1704, 'clark': 1705, 'presid': 1706, 'structur': 1707, 'gene': 1708, 'spanish': 1709, 'paper': 1710, 'kidnap': 1711, 'belief': 1712, 'factor': 1713, 'whilst': 1714, 'attend': 1715, 'realism': 1716, 'realis': 1717, 'complic': 1718, 'witti': 1719, 'tree': 1720, 'bob': 1721, 'educ': 1722, 'broken': 1723, 'finest': 1724, 'assist': 1725, 'santa': 1726, 'v': 1727, 'up': 1728, 'smoke': 1729, 'observ': 1730, 'depart': 1731, 'determin': 1732, 'rubbish': 1733, 'fame': 1734, 'hat': 1735, 'oper': 1736, 'lewi': 1737, 'routin': 1738, 'domin': 1739, 'safe': 1740, 'hook': 1741, 'advanc': 1742, 'lone': 1743, 'kinda': 1744, 'foreign': 1745, 'morgan': 1746, 'rank': 1747, 'numer': 1748, 'civil': 1749, 'washington': 1750, 'werewolf': 1751, 'vs': 1752, 'shallow': 1753, 'shape': 1754, 'rose': 1755, 'gari': 1756, 'morn': 1757, 'winner': 1758, 'accomplish': 1759, 'ordinari': 1760, 'kong': 1761, 'whenev': 1762, 'peac': 1763, 'grab': 1764, 'virtual': 1765, 'offens': 1766, 'h': 1767, 'luck': 1768, 'bigger': 1769, 'complain': 1770, 'contriv': 1771, 'activ': 1772, 'welcom': 1773, 'patient': 1774, 'unfunni': 1775, 'trek': 1776, 'dimension': 1777, 'con': 1778, 'pretend': 1779, 'flash': 1780, 'cain': 1781, 'eric': 1782, 'wake': 1783, 'dri': 1784, 'code': 1785, 'lesbian': 1786, 'manipul': 1787, 'dancer': 1788, 'corrupt': 1789, 'albert': 1790, 'statu': 1791, 'guard': 1792, 'awkward': 1793, 'gain': 1794, 'context': 1795, 'speech': 1796, 'signific': 1797, 'sourc': 1798, 'corni': 1799, 'sean': 1800, '13': 1801, 'psycho': 1802, 'clip': 1803, 'anthoni': 1804, 'w': 1805, 'curiou': 1806, 'advic': 1807, 'theatric': 1808, 'religion': 1809, 'priest': 1810, 'reli': 1811, 'flow': 1812, 'addict': 1813, 'skin': 1814, 'jennif': 1815, 'asian': 1816, 'secur': 1817, 'specif': 1818, 'howard': 1819, 'golden': 1820, 'core': 1821, 'luke': 1822, 'organ': 1823, 'comfort': 1824, 'promot': 1825, 'cheat': 1826, 'cash': 1827, 'lucki': 1828, 'associ': 1829, 'lower': 1830, 'dislik': 1831, 'degre': 1832, 'frequent': 1833, 'frankli': 1834, 'regret': 1835, 'balanc': 1836, 'wing': 1837, 'devic': 1838, 'contribut': 1839, 'spell': 1840, 'forgiv': 1841, 'sake': 1842, 'print': 1843, 'lake': 1844, 'mass': 1845, 'thoma': 1846, 'betti': 1847, 'unexpect': 1848, 'gordon': 1849, 'crack': 1850, 'construct': 1851, 'grown': 1852, 'invit': 1853, 'amateur': 1854, 'unfold': 1855, 'depend': 1856, 'categori': 1857, 'anna': 1858, 'honor': 1859, 'grew': 1860, 'intellectu': 1861, 'matur': 1862, 'condit': 1863, 'walter': 1864, 'mirror': 1865, 'sole': 1866, 'spectacular': 1867, 'sudden': 1868, 'veteran': 1869, 'demonstr': 1870, 'overli': 1871, 'robin': 1872, 'grip': 1873, 'meanwhil': 1874, 'gift': 1875, 'liner': 1876, 'experienc': 1877, 'freedom': 1878, 'card': 1879, 'drew': 1880, 'subtitl': 1881, 'crappi': 1882, 'circumst': 1883, 'theori': 1884, 'colour': 1885, 'sheriff': 1886, 'unabl': 1887, 'brilliantli': 1888, 'section': 1889, 'oliv': 1890, 'pile': 1891, 'path': 1892, 'cook': 1893, 'altern': 1894, 'sheer': 1895, 'laughter': 1896, 'matt': 1897, 'parker': 1898, 'treatment': 1899, 'hall': 1900, 'wander': 1901, 'relief': 1902, 'sinatra': 1903, 'lawyer': 1904, 'defin': 1905, 'accident': 1906, 'hank': 1907, 'captiv': 1908, 'dragon': 1909, 'halloween': 1910, 'gratuit': 1911, 'moor': 1912, 'k': 1913, 'kung': 1914, 'jacki': 1915, 'broadway': 1916, 'unintent': 1917, 'barbara': 1918, 'wound': 1919, 'wayn': 1920, 'cowboy': 1921, 'winter': 1922, 'surreal': 1923, 'spoof': 1924, 'statement': 1925, 'canadian': 1926, 'gonna': 1927, 'compos': 1928, 'fare': 1929, 'cheer': 1930, 'treasur': 1931, 'fish': 1932, 'sensit': 1933, 'victor': 1934, 'woodi': 1935, 'emerg': 1936, 'unrealist': 1937, 'ran': 1938, 'driven': 1939, 'neighbor': 1940, 'sympathet': 1941, 'expos': 1942, 'overlook': 1943, 'authent': 1944, 'menac': 1945, 'glass': 1946, 'topic': 1947, 'michel': 1948, 'ancient': 1949, 'chief': 1950, 'handsom': 1951, 'gross': 1952, 'built': 1953, 'russel': 1954, 'network': 1955, 'pleasant': 1956, 'stranger': 1957, 'feet': 1958, 'comedian': 1959, 'nevertheless': 1960, 'contemporari': 1961, 'cinderella': 1962, 'consider': 1963, 'miser': 1964, 'gori': 1965, 'earn': 1966, 'endless': 1967, 'blockbust': 1968, 'letter': 1969, 'underr': 1970, 'switch': 1971, 'brook': 1972, 'solv': 1973, 'edward': 1974, 'joseph': 1975, 'victoria': 1976, 'virgin': 1977, 'convict': 1978, 'bullet': 1979, 'alex': 1980, '0': 1981, 'chosen': 1982, 'scale': 1983, 'cynic': 1984, 'scenario': 1985, 'curs': 1986, 'outrag': 1987, 'com': 1988, 'sword': 1989, 'gut': 1990, 'substanc': 1991, 'monkey': 1992, 'screenwrit': 1993, 'wrap': 1994, 'juli': 1995, 'uk': 1996, 'driver': 1997, 'proper': 1998, 'indic': 1999, 'remov': 2000, 'court': 2001, 'par': 2002, 'bird': 2003, 'consequ': 2004, 'naiv': 2005, 'advertis': 2006, 'loser': 2007, 'inevit': 2008, 'roy': 2009, 'nanci': 2010, 'rental': 2011, 'grave': 2012, 'germani': 2013, 'bridg': 2014, 'le': 2015, 'fatal': 2016, 'brave': 2017, 'invis': 2018, 'slap': 2019, 'loui': 2020, 'footbal': 2021, 'provok': 2022, 'ador': 2023, 'anger': 2024, 'chan': 2025, 'anderson': 2026, 'alcohol': 2027, 'willi': 2028, 'ryan': 2029, 'professor': 2030, 'stumbl': 2031, 'bat': 2032, 'australian': 2033, 'sharp': 2034, '1930': 2035, 'assassin': 2036, 'patrick': 2037, 'heck': 2038, 'amateurish': 2039, 'saturday': 2040, 'lousi': 2041, 'liber': 2042, 'deni': 2043, 'refresh': 2044, 'ape': 2045, 'eight': 2046, 'cell': 2047, 'strongli': 2048, 'trilog': 2049, 'sin': 2050, 'vagu': 2051, 'san': 2052, 'resid': 2053, 'justifi': 2054, 'sympathi': 2055, 'terrifi': 2056, 'reput': 2057, 'creator': 2058, 'defeat': 2059, 'mini': 2060, 'indi': 2061, 'task': 2062, 'tediou': 2063, 'prevent': 2064, 'expert': 2065, 'endur': 2066, 'tabl': 2067, 'basebal': 2068, 'che': 2069, 'rival': 2070, 'imit': 2071, 'offend': 2072, 'employ': 2073, 'trial': 2074, 'pitch': 2075, 'complaint': 2076, 'max': 2077, 'europ': 2078, 'fairi': 2079, 'beach': 2080, 'weekend': 2081, 'dig': 2082, 'format': 2083, 'murphi': 2084, 'risk': 2085, 'purchas': 2086, 'tini': 2087, 'reminisc': 2088, 'harsh': 2089, 'nois': 2090, 'titan': 2091, 'powel': 2092, 'bite': 2093, 'glimps': 2094, 'hype': 2095, 'fals': 2096, '14': 2097, 'strip': 2098, 'prime': 2099, 'north': 2100, 'asleep': 2101, 'till': 2102, 'destruct': 2103, 'africa': 2104, 'texa': 2105, 'revel': 2106, 'descript': 2107, 'surfac': 2108, 'arrest': 2109, 'uninterest': 2110, 'semi': 2111, 'spin': 2112, 'inner': 2113, 'excess': 2114, 'sitcom': 2115, 'massiv': 2116, 'makeup': 2117, 'argu': 2118, 'dinosaur': 2119, 'maintain': 2120, 'hitchcock': 2121, 'controversi': 2122, 'twin': 2123, 'ideal': 2124, 'ludicr': 2125, 'insist': 2126, 'reject': 2127, 'kim': 2128, 'expens': 2129, 'stare': 2130, 'melodrama': 2131, 'atroci': 2132, 'erot': 2133, 'supernatur': 2134, 'ala': 2135, 'forest': 2136, 'host': 2137, 'ga': 2138, 'press': 2139, 'columbo': 2140, 'nail': 2141, 'subplot': 2142, 'presum': 2143, 'identifi': 2144, 'cant': 2145, 'dude': 2146, 'notch': 2147, 'plagu': 2148, 'forgett': 2149, 'guest': 2150, 'character': 2151, 'closer': 2152, 'crude': 2153, 'method': 2154, 'border': 2155, 'lion': 2156, 'ear': 2157, 'princess': 2158, 'landscap': 2159, 'beast': 2160, 'foster': 2161, 'bound': 2162, 'jungl': 2163, 'birth': 2164, 'pacino': 2165, 'previous': 2166, 'accus': 2167, 'storytel': 2168, 'aunt': 2169, 'damag': 2170, 'urban': 2171, 'guid': 2172, 'thirti': 2173, 'chose': 2174, 'jess': 2175, 'emma': 2176, 'doll': 2177, 'nude': 2178, 'propaganda': 2179, '25': 2180, 'warrior': 2181, 'pet': 2182, 'whoever': 2183, 'mainstream': 2184, 'mate': 2185, 'size': 2186, 'cooper': 2187, 'upset': 2188, 'merit': 2189, 'exact': 2190, 'latest': 2191, 'deadli': 2192, 'gritti': 2193, 'poster': 2194, 'friday': 2195, 'rough': 2196, 'corps': 2197, 'citizen': 2198, 'warner': 2199, 'ton': 2200, '1990': 2201, 'settl': 2202, 'sun': 2203, 'buff': 2204, 'popul': 2205, 'blend': 2206, 'contact': 2207, 'wilson': 2208, 'contest': 2209, 'widow': 2210, 'mgm': 2211, 'environ': 2212, 'bu': 2213, 'pitt': 2214, 'overcom': 2215, 'alic': 2216, 'select': 2217, 'rat': 2218, 'metal': 2219, 'guilti': 2220, 'link': 2221, 'lift': 2222, 'revolut': 2223, 'particip': 2224, 'ted': 2225, 'matrix': 2226, 'exagger': 2227, 'moron': 2228, 'johnson': 2229, 'accompani': 2230, 'corpor': 2231, 'afternoon': 2232, '1960': 2233, 'prostitut': 2234, 'corner': 2235, 'holm': 2236, 'hood': 2237, 'instal': 2238, 'leagu': 2239, 'clair': 2240, 'sincer': 2241, 'multipl': 2242, 'doom': 2243, 'friendli': 2244, 'aka': 2245, 'campi': 2246, 'sunday': 2247, 'junk': 2248, 'irish': 2249, 'blah': 2250, 'defend': 2251, 'string': 2252, 'grim': 2253, 'advis': 2254, 'lugosi': 2255, 'examin': 2256, 'hip': 2257, 'confid': 2258, 'icon': 2259, 'pro': 2260, 'tight': 2261, 'rachel': 2262, 'shut': 2263, 'varieti': 2264, 'shake': 2265, 'directli': 2266, 'goal': 2267, 'mexican': 2268, 'medic': 2269, 'denni': 2270, 'sullivan': 2271, 'jaw': 2272, 'attach': 2273, 'sentenc': 2274, 'truck': 2275, 'terrorist': 2276, 'courag': 2277, 'sarah': 2278, 'dean': 2279, 'duke': 2280, 'vietnam': 2281, 'breast': 2282, 'prior': 2283, 'legendari': 2284, 'bourn': 2285, 'behav': 2286, 'un': 2287, 'proceed': 2288, 'donald': 2289, 'split': 2290, 'yell': 2291, 'entri': 2292, 'hong': 2293, 'nose': 2294, 'forth': 2295, 'gather': 2296, 'everywher': 2297, 'buri': 2298, 'lifetim': 2299, 'stolen': 2300, 'confess': 2301, 'swim': 2302, 'concentr': 2303, 'crush': 2304, 'jerk': 2305, 'borrow': 2306, 'unconvinc': 2307, 'julia': 2308, 'spite': 2309, 'pan': 2310, 'california': 2311, 'deliveri': 2312, 'turkey': 2313, 'lip': 2314, 'downright': 2315, 'reward': 2316, 'proud': 2317, 'hoffman': 2318, 'china': 2319, 'quest': 2320, 'offici': 2321, 'flight': 2322, 'freeman': 2323, 'sir': 2324, 'inept': 2325, 'sink': 2326, 'worthwhil': 2327, 'betray': 2328, 'lazi': 2329, 'fabul': 2330, 'jon': 2331, 'notori': 2332, 'fade': 2333, 'encourag': 2334, 'jail': 2335, 'retard': 2336, 'lisa': 2337, 'teeth': 2338, 'relev': 2339, 'susan': 2340, 'bell': 2341, 'branagh': 2342, 'bag': 2343, 'survivor': 2344, 'cousin': 2345, 'imageri': 2346, 'storm': 2347, 'shower': 2348, 'tremend': 2349, 'trade': 2350, 'finger': 2351, 'facial': 2352, 'hugh': 2353, 'summari': 2354, 'alright': 2355, 'toler': 2356, 'quirki': 2357, 'shark': 2358, 'bride': 2359, 'mexico': 2360, 'stab': 2361, 'bitter': 2362, 'blown': 2363, 'hyster': 2364, 'ha': 2365, 'von': 2366, 'pose': 2367, 'afterward': 2368, 'address': 2369, 'scheme': 2370, 'cruel': 2371, 'ron': 2372, 'christ': 2373, 'ned': 2374, 'larri': 2375, 'bone': 2376, 'thumb': 2377, 'beg': 2378, 'pursu': 2379, 'screw': 2380, 'tour': 2381, 'snake': 2382, 'distinct': 2383, 'feed': 2384, 'swear': 2385, 'traci': 2386, 'stomach': 2387, 'raw': 2388, 'photo': 2389, 'mechan': 2390, 'obscur': 2391, 'occas': 2392, 'chair': 2393, 'resist': 2394, 'chain': 2395, 'sidney': 2396, 'cabin': 2397, 'gruesom': 2398, 'holiday': 2399, 'heavili': 2400, 'southern': 2401, 'argument': 2402, 'render': 2403, 'necessarili': 2404, 'hardi': 2405, 'philip': 2406, 'racist': 2407, 'understood': 2408, 'indulg': 2409, 'india': 2410, 'satan': 2411, 'outfit': 2412, 'pregnant': 2413, 'obnoxi': 2414, 'lay': 2415, 'integr': 2416, 'belov': 2417, 'stalk': 2418, 'forgot': 2419, 'fourth': 2420, 'tongu': 2421, 'midnight': 2422, 'ticket': 2423, 'deeper': 2424, 'magazin': 2425, 'garden': 2426, '17': 2427, 'inhabit': 2428, 'slapstick': 2429, 'restor': 2430, 'carol': 2431, 'incid': 2432, 'shoe': 2433, 'brad': 2434, 'devot': 2435, 'lincoln': 2436, 'maria': 2437, 'benefit': 2438, 'divorc': 2439, 'disbelief': 2440, 'underground': 2441, 'guarante': 2442, 'lili': 2443, 'sandler': 2444, 'elizabeth': 2445, 'anticip': 2446, 'princip': 2447, 'greater': 2448, 'slave': 2449, 'cring': 2450, 'mildli': 2451, 'creation': 2452, 'amazingli': 2453, 'explod': 2454, 'capit': 2455, 'bbc': 2456, 'extraordinari': 2457, 'introduct': 2458, 'halfway': 2459, 'funnier': 2460, 'lesli': 2461, 'overwhelm': 2462, 'text': 2463, 'extent': 2464, 'wreck': 2465, 'advantag': 2466, 'punish': 2467, 'enhanc': 2468, 'tap': 2469, 'transfer': 2470, 'lo': 2471, 'horrif': 2472, 'dynam': 2473, 'error': 2474, 'jessica': 2475, 'deliber': 2476, 'preview': 2477, 'east': 2478, 'lane': 2479, 'plant': 2480, 'sophist': 2481, 'miller': 2482, 'basi': 2483, '2000': 2484, 'vacat': 2485, 'ensu': 2486, 'vincent': 2487, 'homosexu': 2488, 'miscast': 2489, 'appli': 2490, 'mansion': 2491, 'measur': 2492, 'bollywood': 2493, 'elev': 2494, 'sleazi': 2495, 'spoken': 2496, 'uncomfort': 2497, 'steel': 2498, 'extend': 2499, 'reed': 2500, 'via': 2501, 'stanley': 2502, 'mous': 2503, 'fix': 2504, 'breathtak': 2505, 'cathol': 2506, 'hippi': 2507, 'melt': 2508, 'overact': 2509, 'assign': 2510, 'alter': 2511, 'beer': 2512, 'daili': 2513, 'conceiv': 2514, 'savag': 2515, 'blair': 2516, 'dentist': 2517, 'goofi': 2518, 'sacrific': 2519, 'properli': 2520, 'burt': 2521, 'succe': 2522, 'subsequ': 2523, 'carpent': 2524, 'everyday': 2525, 'inspector': 2526, 'oppos': 2527, 'nowaday': 2528, 'massacr': 2529, 'neck': 2530, 'block': 2531, 'laura': 2532, 'circl': 2533, 'fallen': 2534, 'grey': 2535, 'concert': 2536, 'portrait': 2537, 'lesser': 2538, 'access': 2539, 'mob': 2540, 'fay': 2541, 'christi': 2542, 'pool': 2543, 'seagal': 2544, 'isol': 2545, 'react': 2546, 'jake': 2547, 'sinist': 2548, 'usa': 2549, 'competit': 2550, 'relax': 2551, 'chees': 2552, 'jewish': 2553, 'lyric': 2554, 'suitabl': 2555, 'ironi': 2556, 'immens': 2557, 'nonetheless': 2558, 'nine': 2559, 'appal': 2560, 'stink': 2561, 'chop': 2562, '2006': 2563, 'spiritu': 2564, 'creep': 2565, 'reduc': 2566, 'navi': 2567, 'spring': 2568, 'needless': 2569, 'retir': 2570, 'showcas': 2571, 'franchis': 2572, 'shirt': 2573, 'luci': 2574, 'sold': 2575, 'rage': 2576, 'user': 2577, 'adopt': 2578, 'nut': 2579, 'zone': 2580, 'digit': 2581, 'nurs': 2582, 'jay': 2583, 'uninspir': 2584, 'asham': 2585, 'bath': 2586, 'per': 2587, 'stanwyck': 2588, 'bulli': 2589, 'laid': 2590, 'illustr': 2591, 'sutherland': 2592, 'oddli': 2593, '1940': 2594, 'upper': 2595, 'amongst': 2596, '2001': 2597, 'broadcast': 2598, 'aspir': 2599, 'disguis': 2600, 'stylish': 2601, 'fulfil': 2602, 'baker': 2603, 'throat': 2604, 'brando': 2605, 'wwii': 2606, 'endear': 2607, 'em': 2608, 'impli': 2609, 'pride': 2610, 'nobl': 2611, 'neighborhood': 2612, '18': 2613, 'pound': 2614, 'wanna': 2615, 'thief': 2616, 'dinner': 2617, 'shift': 2618, 'dawn': 2619, 'bett': 2620, '16': 2621, 'coher': 2622, 'bo': 2623, 'prop': 2624, 'tens': 2625, 'albeit': 2626, 'diseas': 2627, 'cinematograph': 2628, 'shoulder': 2629, 'distribut': 2630, 'rochest': 2631, 'silenc': 2632, 'rebel': 2633, 'poignant': 2634, 'forti': 2635, 'contract': 2636, 'wash': 2637, 'shout': 2638, 'function': 2639, 'surf': 2640, 'matthau': 2641, 'knife': 2642, 'snow': 2643, 'duti': 2644, 'internet': 2645, 'henc': 2646, 'eeri': 2647, 'derek': 2648, 'horrend': 2649, 'elvira': 2650, 'heat': 2651, 'instinct': 2652, 'cancel': 2653, 'reunion': 2654, 'silver': 2655, 'widmark': 2656, 'chuck': 2657, 'height': 2658, 'cannib': 2659, 'mindless': 2660, 'proof': 2661, 'alik': 2662, 'torn': 2663, 'absorb': 2664, 'spielberg': 2665, 'glori': 2666, 'incoher': 2667, 'etern': 2668, 'mill': 2669, 'pie': 2670, 'innov': 2671, 'musician': 2672, 'repetit': 2673, 'elvi': 2674, 'greatli': 2675, 'premier': 2676, 'neat': 2677, 'britain': 2678, 'bang': 2679, 'infam': 2680, 'wealthi': 2681, 'redempt': 2682, 'burton': 2683, 'blank': 2684, 'diamond': 2685, 'horrifi': 2686, 'nelson': 2687, 'fbi': 2688, 'homag': 2689, 'precis': 2690, 'lovabl': 2691, 'itali': 2692, 'announc': 2693, 'trite': 2694, 'racism': 2695, 'crisi': 2696, 'flop': 2697, 'helen': 2698, 'happili': 2699, 'parallel': 2700, 'pat': 2701, 'ensembl': 2702, 'hammer': 2703, 'wilder': 2704, 'resolut': 2705, 'dedic': 2706, 'chaplin': 2707, 'streisand': 2708, 'st': 2709, 'cube': 2710, 'conclud': 2711, 'triumph': 2712, 'carter': 2713, 'factori': 2714, 'broke': 2715, 'plastic': 2716, 'disagre': 2717, 'oil': 2718, 'mar': 2719, 'climb': 2720, 'march': 2721, 'weight': 2722, 'rocket': 2723, 'own': 2724, 'chuckl': 2725, 'row': 2726, 'bush': 2727, 'fighter': 2728, 'vega': 2729, 'sensibl': 2730, 'unforgett': 2731, 'dump': 2732, 'lust': 2733, 'kurt': 2734, 'meaning': 2735, 'dane': 2736, 'enorm': 2737, 'wherea': 2738, 'thug': 2739, 'spare': 2740, 'luca': 2741, 'boot': 2742, 'mst3k': 2743, 'engin': 2744, 'brand': 2745, 'butt': 2746, 'threat': 2747, 'stress': 2748, 'karloff': 2749, 'arnold': 2750, 'fifti': 2751, 'adequ': 2752, 'dear': 2753, 'difficulti': 2754, 'caricatur': 2755, 'rap': 2756, 'bobbi': 2757, 'journalist': 2758, 'swing': 2759, 'homeless': 2760, 'hamlet': 2761, 'ego': 2762, 'polish': 2763, 'fest': 2764, 'ralph': 2765, 'elabor': 2766, 'secretari': 2767, 'arrog': 2768, 'flynn': 2769, 'barri': 2770, 'float': 2771, 'unbear': 2772, 'grate': 2773, 'tool': 2774, 'puppet': 2775, 'arrang': 2776, 'simpson': 2777, 'spike': 2778, 'resort': 2779, 'conspiraci': 2780, 'induc': 2781, 'fanci': 2782, 'exercis': 2783, 'tribut': 2784, 'choreograph': 2785, 'phillip': 2786, 'pig': 2787, 'cruis': 2788, 'boll': 2789, 'basement': 2790, 'guilt': 2791, 'muppet': 2792, 'toilet': 2793, '24': 2794, 'slip': 2795, 'editor': 2796, 'file': 2797, 'tower': 2798, 'item': 2799, 'medium': 2800, 'ward': 2801, 'korean': 2802, 'document': 2803, 'layer': 2804, 'scarecrow': 2805, 'stan': 2806, 'puzzl': 2807, 'ham': 2808, 'fianc': 2809, 'babe': 2810, 'denzel': 2811, 'glover': 2812, 'superfici': 2813, 'territori': 2814, 'librari': 2815, 'inexplic': 2816, 'catherin': 2817, 'persona': 2818, 'slaughter': 2819, 'larger': 2820, 'philosoph': 2821, 'minim': 2822, 'spark': 2823, 'assur': 2824, 'doc': 2825, 'orient': 2826, 'portion': 2827, 'transit': 2828, 'jet': 2829, 'dorothi': 2830, 'boredom': 2831, 'shi': 2832, 'sneak': 2833, 'pg': 2834, 'owe': 2835, 'financi': 2836, 'ban': 2837, 'walken': 2838, 'wolf': 2839, 'jeremi': 2840, 'curti': 2841, 'whale': 2842, 'ambigu': 2843, 'profound': 2844, 'eleph': 2845, 'multi': 2846, 'metaphor': 2847, 'cusack': 2848, 'hudson': 2849, 'backdrop': 2850, 'birthday': 2851, 'implaus': 2852, 'union': 2853, 'rave': 2854, 'notion': 2855, 'hack': 2856, 'elsewher': 2857, 'gadget': 2858, 'ultra': 2859, 'stiff': 2860, '2005': 2861, 'viru': 2862, 'bibl': 2863, 'poison': 2864, 'slight': 2865, 'hawk': 2866, 'squar': 2867, 'reader': 2868, '1st': 2869, 'disc': 2870, 'deriv': 2871, 'eva': 2872, 'pad': 2873, 'superhero': 2874, 'eastwood': 2875, 'distanc': 2876, 'canada': 2877, 'afford': 2878, 'urg': 2879, 'lloyd': 2880, 'newspap': 2881, 'charisma': 2882, 'huh': 2883, 'button': 2884, 'cure': 2885, 'restaur': 2886, 'montag': 2887, 'sadist': 2888, 'spread': 2889, 'heston': 2890, 'health': 2891, 'essenc': 2892, 'skit': 2893, 'drown': 2894, 'gradual': 2895, 'lab': 2896, 'companion': 2897, 'invest': 2898, 'fetch': 2899, 'estat': 2900, 'dealt': 2901, 'godfath': 2902, 'muslim': 2903, 'maniac': 2904, 'scoobi': 2905, 'peak': 2906, 'cup': 2907, 'gothic': 2908, 'kane': 2909, 'ritter': 2910, 'tea': 2911, 'subtleti': 2912, 'countless': 2913, 'miik': 2914, 'alli': 2915, 'servant': 2916, 'salli': 2917, 'electr': 2918, 'heroic': 2919, 'briefli': 2920, 'charismat': 2921, 'elect': 2922, 'iii': 2923, 'toss': 2924, 'tender': 2925, 'nuanc': 2926, 'bud': 2927, 'wannab': 2928, 'ingredi': 2929, 'reel': 2930, 'neil': 2931, 'resourc': 2932, 'cole': 2933, 'admittedli': 2934, 'grandmoth': 2935, 'punk': 2936, 'mild': 2937, 'kubrick': 2938, 'label': 2939, 'gate': 2940, 'stronger': 2941, 'poverti': 2942, 'reev': 2943, 'pit': 2944, 'stood': 2945, 'shall': 2946, 'mafia': 2947, 'dawson': 2948, 'pauli': 2949, 'carrey': 2950, 'easier': 2951, 'updat': 2952, 'tag': 2953, 'terri': 2954, 'ian': 2955, 'astair': 2956, 'cardboard': 2957, 'useless': 2958, 'cox': 2959, 'fond': 2960, 'smooth': 2961, 'outcom': 2962, 'assault': 2963, 'smash': 2964, 'burst': 2965, 'bakshi': 2966, 'fist': 2967, 'vari': 2968, 'samurai': 2969, 'exchang': 2970, 'qualifi': 2971, 'coincid': 2972, 'rex': 2973, '2002': 2974, 'increasingli': 2975, 'resolv': 2976, 'melodramat': 2977, 'divers': 2978, 'sketch': 2979, 'vulner': 2980, 'luckili': 2981, 'conveni': 2982, 'brillianc': 2983, 'tame': 2984, 'templ': 2985, 'suspend': 2986, 'reynold': 2987, 'scratch': 2988, 'insert': 2989, 'blast': 2990, 'be': 2991, 'coach': 2992, 'gotta': 2993, 'farm': 2994, 'soprano': 2995, 'matthew': 2996, 'strictli': 2997, 'nuclear': 2998, 'fisher': 2999, 'hamilton': 3000, 'pin': 3001, 'ambiti': 3002, 'jami': 3003, 'seventi': 3004, 'meat': 3005, 'walker': 3006, 'grasp': 3007, 'eccentr': 3008, 'convolut': 3009, 'kudo': 3010, 'closet': 3011, 'brosnan': 3012, 'spooki': 3013, 'discoveri': 3014, 'cave': 3015, 'worthless': 3016, 'ninja': 3017, 'timeless': 3018, 'clock': 3019, 'instantli': 3020, 'struck': 3021, 'empir': 3022, 'recreat': 3023, 'revers': 3024, 'butcher': 3025, 'monk': 3026, 'joey': 3027, 'pal': 3028, 'communist': 3029, 'wipe': 3030, 'evok': 3031, 'eighti': 3032, 'inconsist': 3033, 'selfish': 3034, 'seller': 3035, 'declar': 3036, 'clown': 3037, 'partli': 3038, 'fifteen': 3039, 'mitchel': 3040, 'importantli': 3041, 'norman': 3042, 'miracl': 3043, 'gray': 3044, 'bleak': 3045, 'sidekick': 3046, 'sloppi': 3047, 'cliff': 3048, 'aforement': 3049, 'websit': 3050, 'ho': 3051, 'piano': 3052, '45': 3053, 'superbl': 3054, 'enthusiast': 3055, 'debat': 3056, 'farc': 3057, 'australia': 3058, 'cheek': 3059, 'destin': 3060, 'flawless': 3061, 'lifestyl': 3062, 'psychiatrist': 3063, 'chew': 3064, 'stoog': 3065, 'seed': 3066, 'regardless': 3067, 'pressur': 3068, 'soviet': 3069, 'kitchen': 3070, 'emili': 3071, 'dire': 3072, 'wrestl': 3073, 'anni': 3074, 'splatter': 3075, 'incompet': 3076, 'directori': 3077, 'bash': 3078, 'wick': 3079, 'drivel': 3080, 'dash': 3081, 'akshay': 3082, 'slice': 3083, 'abc': 3084, 'flower': 3085, 'glow': 3086, 'increas': 3087, 'blob': 3088, 'curios': 3089, 'jar': 3090, 'ken': 3091, 'seduc': 3092, 'cagney': 3093, 'cia': 3094, 'helicopt': 3095, 'boil': 3096, 'lou': 3097, 'beaten': 3098, 'chapter': 3099, 'artifici': 3100, 'prize': 3101, 'distant': 3102, 'recov': 3103, 'pleasantli': 3104, 'suppli': 3105, 'duo': 3106, 'dave': 3107, 'doo': 3108, 'cameron': 3109, 'judi': 3110, 'mann': 3111, 'craven': 3112, 'hop': 3113, 'turner': 3114, 'psychot': 3115, 'favour': 3116, 'francisco': 3117, 'eleg': 3118, 'glenn': 3119, 'splendid': 3120, 'combat': 3121, 'ellen': 3122, 'craig': 3123, 'drunken': 3124, 'perri': 3125, 'panic': 3126, 'ranger': 3127, 'goldberg': 3128, 'laurel': 3129, 'web': 3130, 'shortli': 3131, 'rid': 3132, 'greek': 3133, 'gentl': 3134, 'alexand': 3135, 'graduat': 3136, 'ruth': 3137, 'modesti': 3138, 'fx': 3139, 'wizard': 3140, 'falk': 3141, 'plausibl': 3142, 'slightest': 3143, 'min': 3144, 'flip': 3145, 'philosophi': 3146, 'gandhi': 3147, '20th': 3148, 'hatr': 3149, 'holi': 3150, 'we': 3151, 'unpleas': 3152, 'jealou': 3153, 'lend': 3154, 'ocean': 3155, 'legal': 3156, 'preciou': 3157, 'futurist': 3158, 'harm': 3159, 'felix': 3160, 'knight': 3161, 'tall': 3162, 'manhattan': 3163, 'fund': 3164, 'dracula': 3165, 'reviv': 3166, 'childish': 3167, 'digniti': 3168, 'ami': 3169, 'scientif': 3170, 'mock': 3171, 'nod': 3172, 'bless': 3173, 'tank': 3174, 'forbidden': 3175, 'thread': 3176, 'giallo': 3177, 'overdon': 3178, 'explicit': 3179, 'fever': 3180, 'repeatedli': 3181, 'awaken': 3182, 'mel': 3183, 'torment': 3184, 'pirat': 3185, 'thick': 3186, 'yesterday': 3187, 'nerv': 3188, 'unwatch': 3189, 'verhoeven': 3190, 'elderli': 3191, 'awe': 3192, 'broad': 3193, 'eve': 3194, '2004': 3195, 'margaret': 3196, '99': 3197, 'griffith': 3198, 'bin': 3199, 'politician': 3200, 'uniform': 3201, 'launch': 3202, 'rivet': 3203, 'custom': 3204, 'lean': 3205, 'acclaim': 3206, 'romero': 3207, 'roman': 3208, 'ah': 3209, 'royal': 3210, 'stiller': 3211, 'publish': 3212, 'absenc': 3213, 'timothi': 3214, 'kay': 3215, 'automat': 3216, 'eas': 3217, 'ambit': 3218, 'bathroom': 3219, 'darker': 3220, 'phrase': 3221, 'foul': 3222, 'crook': 3223, 'wallac': 3224, 'pierc': 3225, 'pulp': 3226, 'transport': 3227, 'termin': 3228, 'warren': 3229, 'gabriel': 3230, 'antic': 3231, 'purpl': 3232, 'stinker': 3233, 'sunshin': 3234, 'tomato': 3235, 'homicid': 3236, 'brazil': 3237, 'saint': 3238, 'li': 3239, 'contrari': 3240, '2003': 3241, 'choreographi': 3242, 'hollow': 3243, 'awak': 3244, 'juvenil': 3245, 'viciou': 3246, 'evolv': 3247, 'kenneth': 3248, 'karen': 3249, 'q': 3250, 'pray': 3251, 'coloni': 3252, 'ought': 3253, 'album': 3254, 'revolutionari': 3255, 'packag': 3256, 'horrid': 3257, 'rambo': 3258, 'prom': 3259, 'marin': 3260, 'eyr': 3261, 'sixti': 3262, 'donna': 3263, 'candid': 3264, 'option': 3265, 'boast': 3266, 'ramon': 3267, 'dose': 3268, 'defi': 3269, 'mildr': 3270, 'twelv': 3271, 'overr': 3272, 'mummi': 3273, 'nerd': 3274, 'stole': 3275, 'blade': 3276, 'beatti': 3277, 'conserv': 3278, 'ireland': 3279, 'kapoor': 3280, 'trio': 3281, 'flame': 3282, 'protest': 3283, 'astonish': 3284, 'collabor': 3285, 'jazz': 3286, 'fulci': 3287, 'kirk': 3288, 'funer': 3289, 'detract': 3290, 'natali': 3291, 'altman': 3292, 'confirm': 3293, 'global': 3294, 'destini': 3295, 'audio': 3296, 'nicholson': 3297, 'tommi': 3298, 'mystic': 3299, 'bull': 3300, 'leap': 3301, 'bottl': 3302, 'blake': 3303, 'enterpris': 3304, 'delici': 3305, 'whip': 3306, 'shade': 3307, 'yellow': 3308, 'spit': 3309, 'racial': 3310, 'inherit': 3311, 'adolesc': 3312, 'swedish': 3313, 'todd': 3314, 'meaningless': 3315, 'vivid': 3316, 'pseudo': 3317, 'bedroom': 3318, 'visibl': 3319, 'enchant': 3320, 'threw': 3321, 'neo': 3322, 'fonda': 3323, 'altogeth': 3324, 'reunit': 3325, 'harder': 3326, 'staff': 3327, 'popcorn': 3328, 'merci': 3329, 'respond': 3330, 'exhibit': 3331, 'fanat': 3332, 'edi': 3333, 'suspici': 3334, 'reserv': 3335, 'leonard': 3336, 'roommat': 3337, 'kennedi': 3338, 'synopsi': 3339, 'crocodil': 3340, 'decor': 3341, 'bust': 3342, 'moodi': 3343, 'tip': 3344, 'befriend': 3345, 'lawrenc': 3346, 'madonna': 3347, 'jew': 3348, 'await': 3349, 'ruthless': 3350, 'lemmon': 3351, 'uneven': 3352, 'wire': 3353, 'atlanti': 3354, 'voight': 3355, 'clumsi': 3356, 'centr': 3357, 'bargain': 3358, 'carl': 3359, 'abysm': 3360, 'audit': 3361, 'dimens': 3362, 'garner': 3363, 'bradi': 3364, 'palma': 3365, 'unsettl': 3366, 'rural': 3367, 'chao': 3368, 'bold': 3369, 'voyag': 3370, 'holli': 3371, 'ventur': 3372, '2007': 3373, 'clint': 3374, 'incident': 3375, 'characterist': 3376, 'nearbi': 3377, 'timon': 3378, 'versu': 3379, 'cuba': 3380, 'acknowledg': 3381, 'wealth': 3382, 'echo': 3383, 'trail': 3384, 'lit': 3385, 'immigr': 3386, 'hart': 3387, 'poetic': 3388, 'troop': 3389, 'daddi': 3390, 'humili': 3391, 'cari': 3392, 'mall': 3393, 'cd': 3394, 'imperson': 3395, 'ant': 3396, 'elimin': 3397, '2nd': 3398, 'neglect': 3399, 'tiger': 3400, 'paus': 3401, 'mistaken': 3402, 'jeffrey': 3403, 'mickey': 3404, 'solo': 3405, 'marshal': 3406, 'celluloid': 3407, 'infect': 3408, 'homer': 3409, 'collaps': 3410, 'saga': 3411, 'prejudic': 3412, 'repuls': 3413, 'pun': 3414, 'domest': 3415, 'inappropri': 3416, 'milk': 3417, 'olivi': 3418, 'leon': 3419, 'chest': 3420, 'assembl': 3421, 'equip': 3422, 'promin': 3423, 'undoubtedli': 3424, 'coffe': 3425, 'interrupt': 3426, 'pant': 3427, 'cake': 3428, '1996': 3429, 'sore': 3430, 'gear': 3431, 'tribe': 3432, 'hbo': 3433, 'apolog': 3434, 'inan': 3435, 'ginger': 3436, 'coat': 3437, 'harvey': 3438, 'exot': 3439, 'airplan': 3440, 'embrac': 3441, 'colonel': 3442, 'brooklyn': 3443, 'furthermor': 3444, 'trace': 3445, 'humbl': 3446, 'devast': 3447, 'highest': 3448, 'instant': 3449, 'retain': 3450, 'vulgar': 3451, 'florida': 3452, 'maggi': 3453, 'jenni': 3454, 'colleagu': 3455, 'pot': 3456, 'institut': 3457, 'primari': 3458, 'aveng': 3459, 'consum': 3460, 'pen': 3461, 'solut': 3462, 'polanski': 3463, 'illog': 3464, 'outer': 3465, 'dian': 3466, 'principl': 3467, 'bowl': 3468, 'seduct': 3469, 'cope': 3470, '1999': 3471, 'descend': 3472, 'wive': 3473, 'disabl': 3474, 'sale': 3475, 'linda': 3476, 'gender': 3477, 'ya': 3478, '3rd': 3479, 'godzilla': 3480, 'strain': 3481, 'poke': 3482, 'rick': 3483, 'smaller': 3484, 'dutch': 3485, 'blatant': 3486, 'mixtur': 3487, 'beneath': 3488, 'devoid': 3489, 'yard': 3490, 'inferior': 3491, 'dive': 3492, 'hal': 3493, 'rabbit': 3494, 'gundam': 3495, 'predecessor': 3496, 'primarili': 3497, 'vast': 3498, 'bubbl': 3499, 'scope': 3500, 'secondli': 3501, 'gloriou': 3502, 'lol': 3503, 'dud': 3504, 'cue': 3505, 'glamor': 3506, 'senseless': 3507, 'hideou': 3508, 'z': 3509, 'arab': 3510, 'shelf': 3511, 'invas': 3512, 'disjoint': 3513, 'et': 3514, 'alfr': 3515, 'myer': 3516, 'casual': 3517, 'museum': 3518, 'aggress': 3519, 'trademark': 3520, 'talki': 3521, 'alert': 3522, 'countrysid': 3523, 'simplist': 3524, 'domino': 3525, 'april': 3526, 'breed': 3527, 'garbo': 3528, 'shirley': 3529, 'streep': 3530, 'pearl': 3531, 'grinch': 3532, 'mail': 3533, 'vanish': 3534, 'hopeless': 3535, 'sh': 3536, 'stellar': 3537, 'slide': 3538, 'robberi': 3539, 'stir': 3540, 'oz': 3541, 'obtain': 3542, 'uwe': 3543, 'disgrac': 3544, 'experiment': 3545, 'hardcor': 3546, 'loyal': 3547, 'maci': 3548, 'applaud': 3549, 'boom': 3550, 'unhappi': 3551, 'rendit': 3552, 'robinson': 3553, 'mayor': 3554, 'defens': 3555, 'illeg': 3556, 'acid': 3557, 'khan': 3558, 'stack': 3559, 'craze': 3560, 'wont': 3561, 'diana': 3562, 'spider': 3563, 'incomprehens': 3564, 'counter': 3565, 'declin': 3566, 'span': 3567, 'amanda': 3568, 'fri': 3569, 'topless': 3570, 'hartley': 3571, 'blew': 3572, 'soccer': 3573, 'emphasi': 3574, 'dismiss': 3575, 'berlin': 3576, 'scroog': 3577, 'rifl': 3578, 'tempt': 3579, 'dicken': 3580, 'tenant': 3581, 'psychic': 3582, 'recruit': 3583, 'grandfath': 3584, 'sibl': 3585, 'woo': 3586, 'revolt': 3587, 'ration': 3588, 'goer': 3589, 'lumet': 3590, 'resurrect': 3591, 'porno': 3592, 'intim': 3593, 'faster': 3594, 'parad': 3595, 'shed': 3596, 'sympath': 3597, 'wet': 3598, 'ethnic': 3599, 'shaw': 3600, 'riot': 3601, 'niro': 3602, 'bitch': 3603, 'trashi': 3604, 'justin': 3605, 'ensur': 3606, 'mario': 3607, 'dealer': 3608, 'hopper': 3609, 'wendi': 3610, 'nephew': 3611, 'patriot': 3612, 'choru': 3613, 'region': 3614, 'steam': 3615, 'wheel': 3616, 'immort': 3617, 'rider': 3618, 'honesti': 3619, 'biographi': 3620, 'feminist': 3621, 'weakest': 3622, 'worm': 3623, 'hesit': 3624, 'eager': 3625, 'jonathan': 3626, 'farmer': 3627, 'commend': 3628, 'slick': 3629, 'unreal': 3630, '00': 3631, 'gap': 3632, 'ballet': 3633, 'enlighten': 3634, 'andr': 3635, 'partial': 3636, 'lena': 3637, 'victori': 3638, 'nostalg': 3639, 'util': 3640, 'kingdom': 3641, 'properti': 3642, 'composit': 3643, 'blunt': 3644, 'safeti': 3645, 'psychopath': 3646, 'hung': 3647, 'sandra': 3648, 'skull': 3649, 'snap': 3650, 'owen': 3651, 'morri': 3652, 'similarli': 3653, 'vice': 3654, 'wore': 3655, 'repress': 3656, 'sappi': 3657, 'franco': 3658, 'charlott': 3659, 'confin': 3660, 'mutant': 3661, 'leo': 3662, 'prequel': 3663, 'macarthur': 3664, 'rocki': 3665, 'cg': 3666, 'dust': 3667, 'exit': 3668, 'valuabl': 3669, 'pattern': 3670, 'del': 3671, 'tad': 3672, 'deed': 3673, 'miseri': 3674, 'farrel': 3675, 'acquir': 3676, 'kyle': 3677, 'bow': 3678, 'bumbl': 3679, 'compass': 3680, 'emperor': 3681, 'thru': 3682, 'bonu': 3683, 'repli': 3684, 'heartbreak': 3685, 'strand': 3686, 'despair': 3687, 'tail': 3688, 'montana': 3689, '1972': 3690, 'speci': 3691, 'rambl': 3692, 'drum': 3693, 'nervou': 3694, 'latin': 3695, 'whoopi': 3696, 'drain': 3697, 'hyde': 3698, 'dalton': 3699, 'recycl': 3700, 'snl': 3701, 'compens': 3702, 'bergman': 3703, 'campbel': 3704, 'rope': 3705, 'wacki': 3706, 'gal': 3707, 'orson': 3708, 'oppress': 3709, 'martian': 3710, 'rapist': 3711, 'downhil': 3712, 'gimmick': 3713, 'romp': 3714, 'contempl': 3715, 'roth': 3716, 'tonight': 3717, 'bleed': 3718, 'olli': 3719, 'carradin': 3720, 'pour': 3721, '35': 3722, 'slug': 3723, 'da': 3724, 'airport': 3725, 'mistress': 3726, 'percept': 3727, 'rotten': 3728, 'chess': 3729, 'radic': 3730, 'arguabl': 3731, 'tackl': 3732, 'melodi': 3733, 'shelley': 3734, 'unpredict': 3735, 'pervert': 3736, '1983': 3737, 'paltrow': 3738, 'slash': 3739, 'edgar': 3740, 'heal': 3741, 'champion': 3742, 'programm': 3743, 'banal': 3744, 'attorney': 3745, 'pervers': 3746, 'pursuit': 3747, 'mislead': 3748, 'preach': 3749, 'arc': 3750, 'tooth': 3751, 'dazzl': 3752, 'stilt': 3753, 'belt': 3754, 'taught': 3755, 'duval': 3756, 'chicken': 3757, 'virginia': 3758, 'raymond': 3759, 'sensat': 3760, 'rubi': 3761, 'uplift': 3762, 'conneri': 3763, 'plight': 3764, 'maid': 3765, 'gambl': 3766, 'vengeanc': 3767, 'closest': 3768, 'tiresom': 3769, 'bela': 3770, 'cleverli': 3771, 'vocal': 3772, 'passeng': 3773, 'graham': 3774, 'employe': 3775, 'dixon': 3776, 'orang': 3777, 'mesmer': 3778, 'poem': 3779, 'marti': 3780, 'franki': 3781, 'volum': 3782, 'iran': 3783, 'scottish': 3784, 'clone': 3785, 'climact': 3786, 'swallow': 3787, 'mute': 3788, 'habit': 3789, 'inject': 3790, 'numb': 3791, 'pokemon': 3792, 'yawn': 3793, 'profan': 3794, 'whine': 3795, 'quarter': 3796, 'engross': 3797, 'abraham': 3798, 'outing': 3799, 'convincingli': 3800, 'tube': 3801, 'bay': 3802, 'secretli': 3803, 'calm': 3804, '1968': 3805, 'giggl': 3806, 'suffic': 3807, 'crystal': 3808, 'monologu': 3809, 'paranoia': 3810, 'gerard': 3811, 'extens': 3812, 'lundgren': 3813, 'amitabh': 3814, 'sirk': 3815, 'im': 3816, 'septemb': 3817, 'grotesqu': 3818, 'surpass': 3819, 'poetri': 3820, 'ethan': 3821, 'expand': 3822, 'lowest': 3823, 'bend': 3824, 'underst': 3825, 'junior': 3826, 'richardson': 3827, 'nichola': 3828, 'plod': 3829, 'spock': 3830, 'fed': 3831, 'franci': 3832, 'linger': 3833, 'austen': 3834, 'dispos': 3835, 'backward': 3836, 'abort': 3837, 'taxi': 3838, 'profess': 3839, 'frankenstein': 3840, 'earl': 3841, 'trend': 3842, 'chicago': 3843, 'meander': 3844, 'catchi': 3845, 'nostalgia': 3846, 'eugen': 3847, 'instrument': 3848, 'hum': 3849, 'myth': 3850, 'waitress': 3851, 'lure': 3852, 'muddl': 3853, 'rant': 3854, 'descent': 3855, 'household': 3856, 'greedi': 3857, 'spoke': 3858, 'econom': 3859, 'compliment': 3860, 'simplic': 3861, 'rubber': 3862, 'der': 3863, 'sue': 3864, 'literatur': 3865, 'cannon': 3866, 'dysfunct': 3867, 'mundan': 3868, 'tourist': 3869, 'stallon': 3870, 'phoni': 3871, 'coast': 3872, 'mankind': 3873, 'eaten': 3874, 'map': 3875, 'duck': 3876, 'hello': 3877, 'bacal': 3878, 'lang': 3879, 'equival': 3880, 'recognis': 3881, 'molli': 3882, 'carel': 3883, 'cent': 3884, 'deaf': 3885, 'crucial': 3886, 'omen': 3887, 'firstli': 3888, 'dictat': 3889, 'flee': 3890, 'irrelev': 3891, 'furi': 3892, 'mortal': 3893, 'damon': 3894, 'occupi': 3895, 'dement': 3896, 'phantom': 3897, 'louis': 3898, 'sissi': 3899, 'randi': 3900, 'insur': 3901, 'stale': 3902, 'alongsid': 3903, 'june': 3904, 'recognit': 3905, '1973': 3906, 'freez': 3907, 'grayson': 3908, 'rude': 3909, 'labor': 3910, 'lengthi': 3911, 'ashley': 3912, 'distinguish': 3913, 'heel': 3914, 'newli': 3915, 'daisi': 3916, 'cyborg': 3917, 'reign': 3918, 'likewis': 3919, 'bump': 3920, 'drake': 3921, 'bike': 3922, 'antwon': 3923, 'twilight': 3924, 'loyalti': 3925, 'biko': 3926, 'rooney': 3927, 'onlin': 3928, 'dreari': 3929, 'blackmail': 3930, 'damm': 3931, 'wisdom': 3932, 'buffalo': 3933, 'barrymor': 3934, 'vein': 3935, 'tunnel': 3936, 'incorpor': 3937, 'boxer': 3938, 'chronicl': 3939, 'analysi': 3940, 'sailor': 3941, 'provoc': 3942, 'prey': 3943, 'proce': 3944, 'interior': 3945, 'startl': 3946, 'baddi': 3947, 'butler': 3948, 'exposur': 3949, 'nineti': 3950, 'unorigin': 3951, 'keith': 3952, 'approv': 3953, 'worn': 3954, 'attribut': 3955, 'ridden': 3956, 'pink': 3957, 'basketbal': 3958, 'emphas': 3959, 'inher': 3960, 'substitut': 3961, 'predat': 3962, 'indiffer': 3963, 'elm': 3964, 'underli': 3965, 'meg': 3966, 'barrel': 3967, 'unrel': 3968, 'belushi': 3969, 'er': 3970, 'bunni': 3971, 'stalker': 3972, 'meyer': 3973, 'fleet': 3974, 'drift': 3975, 'undeni': 3976, 'improvis': 3977, 'mighti': 3978, 'robbin': 3979, 'hypnot': 3980, 'carla': 3981, 'condemn': 3982, 'nicol': 3983, 'mormon': 3984, 'millionair': 3985, 'walsh': 3986, 'julian': 3987, 'degrad': 3988, 'othello': 3989, 'simmon': 3990, 'alarm': 3991, 'shove': 3992, 'warmth': 3993, 'enthusiasm': 3994, 'unawar': 3995, 'reid': 3996, 'rukh': 3997, '3d': 3998, 'palac': 3999, 'edgi': 4000, 'marion': 4001, 'greed': 4002, 'mtv': 4003, 'roof': 4004, 'firm': 4005, 'hay': 4006, 'lampoon': 4007, 'agenda': 4008, 'disord': 4009, 'novak': 4010, 'exquisit': 4011, 'errol': 4012, 'nyc': 4013, 'alison': 4014, 'watson': 4015, 'vital': 4016, 'priceless': 4017, 'dolph': 4018, 'ponder': 4019, 'championship': 4020, 'gestur': 4021, 'spain': 4022, 'nun': 4023, 'profit': 4024, 'pamela': 4025, 'thompson': 4026, 'glanc': 4027, 'valentin': 4028, 'randomli': 4029, 'simultan': 4030, 'peril': 4031, 'petti': 4032, '1933': 4033, '13th': 4034, 'preserv': 4035, 'unleash': 4036, 'minimum': 4037, 'sergeant': 4038, 'session': 4039, 'cassidi': 4040, 'angela': 4041, 'testament': 4042, 'campaign': 4043, 'what': 4044, 'eastern': 4045, 'iraq': 4046, 'peck': 4047, 'orlean': 4048, 'showdown': 4049, 'coup': 4050, 'distort': 4051, 'drip': 4052, 'crown': 4053, 'beatl': 4054, 'israel': 4055, 'zizek': 4056, 'empathi': 4057, 'crawl': 4058, 'bro': 4059, 'contradict': 4060, 'perpetu': 4061, 'buster': 4062, 'regist': 4063, 'reson': 4064, 'climat': 4065, 'crow': 4066, 'miyazaki': 4067, 'realm': 4068, 'represent': 4069, 'scotland': 4070, 'restrain': 4071, 'exposit': 4072, 'rout': 4073, 'sabrina': 4074, 'stroke': 4075, 'han': 4076, 'kurosawa': 4077, 'stake': 4078, 'cooki': 4079, 'quinn': 4080, 'din': 4081, 'calib': 4082, 'brenda': 4083, 'wig': 4084, 'cream': 4085, '1984': 4086, 'gentleman': 4087, 'jan': 4088, 'travesti': 4089, 'mon': 4090, 'shootout': 4091, 'unimagin': 4092, 'valley': 4093, 'fido': 4094, 'shaki': 4095, 'femm': 4096, 'soderbergh': 4097, 'absent': 4098, 'sammi': 4099, 'painter': 4100, 'shoddi': 4101, 'derang': 4102, 'tacki': 4103, 'unsatisfi': 4104, 'passabl': 4105, 'geek': 4106, 'fuller': 4107, 'pretens': 4108, 'traumat': 4109, '1997': 4110, 'spacey': 4111, 'baldwin': 4112, 'ustinov': 4113, 'sucker': 4114, 'delic': 4115, 'compromis': 4116, 'businessman': 4117, 'pole': 4118, 'wax': 4119, 'unseen': 4120, 'abomin': 4121, 'mclaglen': 4122, 'demis': 4123, '1987': 4124, 'perceiv': 4125, 'dana': 4126, 'censor': 4127, 'greg': 4128, 'cloud': 4129, 'distress': 4130, 'josh': 4131, 'monoton': 4132, 'ross': 4133, 'warrant': 4134, 'meryl': 4135, 'crawford': 4136, 'stargat': 4137, 'darren': 4138, 'wholli': 4139, 'tarantino': 4140, 'deniro': 4141, 'jewel': 4142, 'correctli': 4143, 'austin': 4144, 'anchor': 4145, 'exclus': 4146, 'deceas': 4147, 'expedit': 4148, 'reluct': 4149, 'antonioni': 4150, 'accuraci': 4151, 'fenc': 4152, 'click': 4153, 'tech': 4154, 'valid': 4155, 'norm': 4156, 'verbal': 4157, 'sid': 4158, 'furiou': 4159, 'unravel': 4160, 'primit': 4161, 'kumar': 4162, 'fog': 4163, 'polici': 4164, '1993': 4165, 'nathan': 4166, 'seal': 4167, 'judgment': 4168, 'clash': 4169, 'uncov': 4170, 'dee': 4171, 'sustain': 4172, 'shanghai': 4173, 'dreck': 4174, 'hallucin': 4175, 'fought': 4176, 'debt': 4177, 'temper': 4178, 'sunni': 4179, 'joel': 4180, 'mode': 4181, 'fart': 4182, 'behold': 4183, 'patienc': 4184, 'slam': 4185, 'seldom': 4186, 'trait': 4187, 'murray': 4188, 'darn': 4189, '1971': 4190, 'sheet': 4191, 'wang': 4192, 'clerk': 4193, 'ritual': 4194, 'bake': 4195, '3000': 4196, 'alec': 4197, 'pocket': 4198, 'enforc': 4199, 'nicola': 4200, 'tax': 4201, '2008': 4202, 'sand': 4203, 'unfair': 4204, '1995': 4205, 'wretch': 4206, 'fabric': 4207, 'crippl': 4208, 'logan': 4209, 'conduct': 4210, 'roller': 4211, 'vanc': 4212, 'malon': 4213, 'schedul': 4214, 'legaci': 4215, 'guitar': 4216, 'stark': 4217, 'rita': 4218, 'outlin': 4219, 'robber': 4220, 'exhaust': 4221, 'phil': 4222, 'penni': 4223, 'grief': 4224, 'helpless': 4225, 'bridget': 4226, 'runner': 4227, 'scriptwrit': 4228, 'sweep': 4229, 'fundament': 4230, 'preposter': 4231, 'conscious': 4232, 'technicolor': 4233, 'shell': 4234, 'divid': 4235, 'isabel': 4236, 'stuart': 4237, 'bias': 4238, 'canyon': 4239, 'soup': 4240, 'preston': 4241, 'despis': 4242, 'squad': 4243, 'pete': 4244, 'critiqu': 4245, 'tactic': 4246, 'clau': 4247, 'rehash': 4248, 'cigarett': 4249, 'culmin': 4250, 'gregori': 4251, 'alley': 4252, 'drove': 4253, 'restrict': 4254, 'alicia': 4255, 'propos': 4256, 'agenc': 4257, 'jacket': 4258, 'bloom': 4259, 'palanc': 4260, 'unexpectedli': 4261, 'sentinel': 4262, 'inabl': 4263, 'marc': 4264, 'liberti': 4265, 'invad': 4266, 'implic': 4267, 'passag': 4268, 'flair': 4269, 'sugar': 4270, 'lacklust': 4271, 'kansa': 4272, 'downey': 4273, 'newman': 4274, 'consciou': 4275, 'vomit': 4276, 'boyl': 4277, 'rear': 4278, 'connor': 4279, 'delv': 4280, 'jodi': 4281, 'sniper': 4282, 'russia': 4283, 'improb': 4284, 'chainsaw': 4285, 'wrench': 4286, 'rampag': 4287, 'rehears': 4288, 'horn': 4289, 'feat': 4290, 'tendenc': 4291, 'bacon': 4292, '22': 4293, 'lush': 4294, 'tripe': 4295, 'arrow': 4296, 'aesthet': 4297, 'pale': 4298, '1936': 4299, 'vet': 4300, 'mccoy': 4301, 'rod': 4302, 'asylum': 4303, 'kolchak': 4304, 'delet': 4305, 'behaviour': 4306, 'ladder': 4307, 'karl': 4308, 'cap': 4309, 'sharon': 4310, 'awhil': 4311, 'foxx': 4312, 'yeti': 4313, 'amazon': 4314, 'hulk': 4315, 'hungri': 4316, 'suspicion': 4317, 'fright': 4318, 'loneli': 4319, 'rumor': 4320, 'basing': 4321, 'aristocrat': 4322, 'minu': 4323, 'globe': 4324, 'tasteless': 4325, 'scoop': 4326, 'paradis': 4327, 'shortcom': 4328, 'thunderbird': 4329, 'wildli': 4330, 'elit': 4331, 'spice': 4332, '1920': 4333, 'coaster': 4334, 'rhythm': 4335, 'visitor': 4336, 'suffici': 4337, 'sung': 4338, 'paramount': 4339, '1978': 4340, 'newcom': 4341, 'filler': 4342, 'weav': 4343, 'lurk': 4344, 'prank': 4345, 'underneath': 4346, '1988': 4347, 'conscienc': 4348, '19th': 4349, 'financ': 4350, 'tomorrow': 4351, 'el': 4352, 'wagner': 4353, 'hackney': 4354, 'stream': 4355, 'abrupt': 4356, 'bread': 4357, 'standout': 4358, 'penn': 4359, 'grudg': 4360, 'choppi': 4361, 'smell': 4362, 'recogniz': 4363, 'chamberlain': 4364, 'literari': 4365, 'iv': 4366, 'brit': 4367, 'curli': 4368, 'dirt': 4369, 'ram': 4370, 'entranc': 4371, 'inmat': 4372, 'leigh': 4373, 'en': 4374, 'lectur': 4375, 'minist': 4376, 'cancer': 4377, 'straightforward': 4378, 'springer': 4379, 'atroc': 4380, 'counterpart': 4381, 'hopkin': 4382, 'secondari': 4383, 'naughti': 4384, 'ingeni': 4385, 'heist': 4386, 'tierney': 4387, 'chavez': 4388, 'couch': 4389, 'immers': 4390, 'rub': 4391, '1989': 4392, 'impos': 4393, 'beverli': 4394, 'posey': 4395, 'quietli': 4396, 'paxton': 4397, '1939': 4398, '75': 4399, 'worship': 4400, 'wwe': 4401, 'teas': 4402, 'nemesi': 4403, 'lindsay': 4404, 'sassi': 4405, 'laurenc': 4406, 'heartfelt': 4407, 'injuri': 4408, 'cattl': 4409, 'quaid': 4410, 'morbid': 4411, 'attenborough': 4412, 'entitl': 4413, 'enthral': 4414, 'yearn': 4415, 'variat': 4416, 'sublim': 4417, 'esther': 4418, 'transcend': 4419, 'duel': 4420, 'ace': 4421, 'misguid': 4422, 'convert': 4423, 'bernard': 4424, 'missil': 4425, '1986': 4426, 'moreov': 4427, 'policeman': 4428, 'clan': 4429, 'net': 4430, 'skeptic': 4431, 'watcher': 4432, 'geni': 4433, 'nolan': 4434, 'ratso': 4435, 'setup': 4436, 'uncut': 4437, 'unexplain': 4438, 'spiral': 4439, 'youngest': 4440, 'bean': 4441, 'rosemari': 4442, 'graini': 4443, 'cruelti': 4444, 'puppi': 4445, 'facil': 4446, 'poe': 4447, 'reliabl': 4448, '1979': 4449, 'dont': 4450, 'hopelessli': 4451, 'tyler': 4452, 'carlito': 4453, 'brood': 4454, 'bye': 4455, 'moder': 4456, 'diari': 4457, 'obstacl': 4458, 'kitti': 4459, 'steadi': 4460, 'mytholog': 4461, 'enabl': 4462, 'egg': 4463, 'out': 4464, 'vader': 4465, 'artsi': 4466, 'kidman': 4467, 'grin': 4468, 'hk': 4469, 'buzz': 4470, 'characteris': 4471, 'exterior': 4472, 'acquaint': 4473, 'athlet': 4474, 'kline': 4475, 'weather': 4476, 'gina': 4477, '1969': 4478, 'effici': 4479, 'disastr': 4480, 'baffl': 4481, 'narrow': 4482, 'niec': 4483, 'heap': 4484, 'fuel': 4485, 'bounc': 4486, 'decept': 4487, 'bewar': 4488, 'gillian': 4489, 'despic': 4490, 'preming': 4491, 'underworld': 4492, 'oblig': 4493, 'bronson': 4494, 'patricia': 4495, 'hain': 4496, 'hammi': 4497, 'martha': 4498, 'clueless': 4499, 'sweat': 4500, 'brendan': 4501, 'spontan': 4502, 'christin': 4503, 'dilemma': 4504, 'sleepwalk': 4505, 'insipid': 4506, 'outlaw': 4507, 'lester': 4508, 'harmless': 4509, '19': 4510, 'mermaid': 4511, 'enlist': 4512, 'rome': 4513, 'housewif': 4514, 'virtu': 4515, 'renaiss': 4516, 'loi': 4517, 'angst': 4518, 'uh': 4519, 'analyz': 4520, 'dandi': 4521, 'tick': 4522, 'circu': 4523, 'biker': 4524, 'sooner': 4525, 'trigger': 4526, 'scar': 4527, 'loath': 4528, 'headach': 4529, 'suprem': 4530, 'preachi': 4531, 'shatter': 4532, 'taboo': 4533, 'injur': 4534, 'viewpoint': 4535, 'mayhem': 4536, 'astound': 4537, 'candl': 4538, 'hepburn': 4539, '73': 4540, 'goof': 4541, 'fontain': 4542, 'sox': 4543, 'immatur': 4544, 'ariel': 4545, 'amor': 4546, 'dismal': 4547, 'intric': 4548, 'oldest': 4549, 'fluff': 4550, 'redund': 4551, 'slimi': 4552, 'glorifi': 4553, 'phenomenon': 4554, 'cassavet': 4555, 'claustrophob': 4556, 'surgeri': 4557, 'stair': 4558, 'macho': 4559, 'contempt': 4560, 'hooker': 4561, 'hokey': 4562, 'boston': 4563, 'guin': 4564, 'steer': 4565, 'scorses': 4566, 'foolish': 4567, 'hostag': 4568, 'ebert': 4569, 'idol': 4570, 'zoom': 4571, 'corbett': 4572, 'dish': 4573, 'filth': 4574, 'salt': 4575, 'camcord': 4576, 'bent': 4577, 'overlong': 4578, 'spade': 4579, 'whore': 4580, 'gere': 4581, 'stimul': 4582, 'tripl': 4583, 'muscl': 4584, 'gasp': 4585, 'corman': 4586, 'joker': 4587, 'flirt': 4588, 'cow': 4589, 'spinal': 4590, 'flashi': 4591, 'remad': 4592, 'transplant': 4593, 'cohen': 4594, 'astronaut': 4595, 'faint': 4596, 'proport': 4597, 'radiat': 4598, 'conquer': 4599, 'zane': 4600, '1981': 4601, 'gabl': 4602, 'schlock': 4603, 'beard': 4604, 'strongest': 4605, 'assert': 4606, 'antagonist': 4607, 'fascist': 4608, 'nolt': 4609, 'dwarf': 4610, 'mount': 4611, 'cush': 4612, 'trivia': 4613, 'spree': 4614, 'rhyme': 4615, 'down': 4616, 'margin': 4617, 'flag': 4618, 'preced': 4619, 'frantic': 4620, 'perman': 4621, 'keen': 4622, 'messi': 4623, 'mutual': 4624, 'harold': 4625, 'obligatori': 4626, '1976': 4627, 'naschi': 4628, 'shred': 4629, 'widescreen': 4630, 'shield': 4631, 'alvin': 4632, 'neurot': 4633, 'wield': 4634, 'inflict': 4635, 'strive': 4636, 'sensual': 4637, 'aborigin': 4638, 'mobil': 4639, '1945': 4640, 'divin': 4641, 'danish': 4642, 'deer': 4643, 'instruct': 4644, 'vaniti': 4645, 'resum': 4646, 'info': 4647, 'departur': 4648, 'interestingli': 4649, '95': 4650, 'boob': 4651, 'bitten': 4652, 'someday': 4653, 'archiv': 4654, 'www': 4655, 'off': 4656, 'raj': 4657, 'carey': 4658, 'fishburn': 4659, 'barn': 4660, 'triangl': 4661, 'claud': 4662, 'ritchi': 4663, 'hara': 4664, 'bachelor': 4665, 'discern': 4666, '28': 4667, 'persuad': 4668, 'repris': 4669, 'brush': 4670, 'scandal': 4671, 'flock': 4672, 'mol': 4673, 'dim': 4674, 'recit': 4675, 'clad': 4676, 'kathryn': 4677, 'harrison': 4678, 'pixar': 4679, 'heartwarm': 4680, 'neill': 4681, 'pacif': 4682, 'colin': 4683, 'jade': 4684, 'senior': 4685, 'wendigo': 4686, 'artwork': 4687, 'rot': 4688, 'pickford': 4689, 'earnest': 4690, 'mobster': 4691, 'helm': 4692, 'bate': 4693, 'hilar': 4694, 'carlo': 4695, 'melissa': 4696, 'dame': 4697, 'cher': 4698, 'hapless': 4699, 'anton': 4700, 'prophet': 4701, 'ish': 4702, 'undermin': 4703, 'axe': 4704, 'proclaim': 4705, 'frontier': 4706, 'biblic': 4707, 'casino': 4708, 'submit': 4709, 'parson': 4710, 'miracul': 4711, 'traffic': 4712, 'fragil': 4713, 'luka': 4714, 'dylan': 4715, 'banter': 4716, 'hug': 4717, 'loretta': 4718, 'cycl': 4719, 'vibrant': 4720, 'cb': 4721, 'cliffhang': 4722, 'europa': 4723, 'timberlak': 4724, 'uma': 4725, 'isra': 4726, 'rooki': 4727, 'orphan': 4728, 'illus': 4729, 'pc': 4730, 'wardrob': 4731, 'venom': 4732, 'sicken': 4733, 'eli': 4734, 'aris': 4735, 'northern': 4736, 'legitim': 4737, 'estrang': 4738, 'redneck': 4739, 'blatantli': 4740, 'foil': 4741, 'feast': 4742, 'jo': 4743, 'static': 4744, 'articl': 4745, 'lucil': 4746, 'razor': 4747, 'flavor': 4748, 'mason': 4749, 'electron': 4750, 'jordan': 4751, 'breakfast': 4752, 'vanessa': 4753, 'nope': 4754, 'seedi': 4755, 'shepherd': 4756, 'cerebr': 4757, 'http': 4758, 'akin': 4759, 'toronto': 4760, 'mathieu': 4761, 'misfortun': 4762, 'vile': 4763, 'choke': 4764, 'bikini': 4765, 'holocaust': 4766, 'marlon': 4767, 'token': 4768, 'milo': 4769, 'antholog': 4770, 'bondag': 4771, 'trier': 4772, 'lui': 4773, 'alexandr': 4774, 'winchest': 4775, 'abund': 4776, 'highway': 4777, 'comprehend': 4778, 'smack': 4779, 'psych': 4780, 'deem': 4781, 'ceremoni': 4782, 'feminin': 4783, 'dudley': 4784, 'howl': 4785, 'turd': 4786, 'leather': 4787, 'linear': 4788, 'cartoonish': 4789, 'retriev': 4790, 'charlton': 4791, 'outdat': 4792, 'disregard': 4793, 'tack': 4794, 'boyer': 4795, 'peer': 4796, 'huston': 4797, 'affleck': 4798, 'gunga': 4799, 'nightclub': 4800, 'clinic': 4801, 'ideolog': 4802, 'swept': 4803, 'magician': 4804, 'shorter': 4805, 'knightley': 4806, 'glare': 4807, 'oppon': 4808, 'gilbert': 4809, 'styliz': 4810, 'audrey': 4811, 'wrestler': 4812, 'fifth': 4813, 'frog': 4814, 'evolut': 4815, 'tara': 4816, 'potter': 4817, 'corn': 4818, 'plate': 4819, 'newer': 4820, 'chip': 4821, 'lighter': 4822, 'client': 4823, 'collector': 4824, 'braveheart': 4825, 'energet': 4826, 'btw': 4827, 'bastard': 4828, 'snatch': 4829, 'mitch': 4830, 'moe': 4831, 'cuban': 4832, 'salman': 4833, 'durat': 4834, 'einstein': 4835, 'boo': 4836, 'phenomen': 4837, 'spawn': 4838, '1991': 4839, 'conrad': 4840, '1994': 4841, 'greet': 4842, 'breakdown': 4843, 'lavish': 4844, 'whack': 4845, 'deliver': 4846, 'lifeless': 4847, '4th': 4848, 'toe': 4849, 'uniformli': 4850, 'cemeteri': 4851, 'goldsworthi': 4852, 'monument': 4853, 'compris': 4854, 'summar': 4855, 'senat': 4856, 'sleaz': 4857, 'spine': 4858, 'bogu': 4859, 'firmli': 4860, 'replay': 4861, 'mcqueen': 4862, 'evelyn': 4863, 'embark': 4864, 'ol': 4865, 'outright': 4866, 'eleven': 4867, 'jule': 4868, 'jam': 4869, 'wtf': 4870, 'jedi': 4871, 'healthi': 4872, 'gilliam': 4873, 'jare': 4874, 'undead': 4875, 'judd': 4876, 'spectacl': 4877, 'neatli': 4878, 'bulk': 4879, 'trauma': 4880, 'lex': 4881, 'pronounc': 4882, 'signal': 4883, 'creek': 4884, 'kent': 4885, 'capot': 4886, 'occup': 4887, 'appl': 4888, 'cecil': 4889, 'armstrong': 4890, 'historian': 4891, 'undertak': 4892, 'fluid': 4893, '1974': 4894, 'ie': 4895, 'sorrow': 4896, 'alleg': 4897, 'constitut': 4898, 'bori': 4899, 'clara': 4900, 'nina': 4901, 'liu': 4902, 'belli': 4903, 'inaccuraci': 4904, 'luxuri': 4905, 'randolph': 4906, 'kazan': 4907, '1977': 4908, 'ash': 4909, 'unsuspect': 4910, 'curtain': 4911, 'abound': 4912, 'sacrif': 4913, 'comprehens': 4914, 'vain': 4915, 'comb': 4916, 'kiddi': 4917, 'walt': 4918, 'basket': 4919, 'sidewalk': 4920, 'vignett': 4921, 'lauren': 4922, 'galaxi': 4923, 'palm': 4924, 'groan': 4925, 'antonio': 4926, 'inclus': 4927, 'congratul': 4928, 'fruit': 4929, 'conan': 4930, 'genet': 4931, 'decapit': 4932, 'spray': 4933, 'aussi': 4934, 'goldblum': 4935, 'tokyo': 4936, 'meal': 4937, 'propheci': 4938, 'unattract': 4939, 'poker': 4940, 'lanc': 4941, 'roar': 4942, '1985': 4943, 'mum': 4944, 'bsg': 4945, 'truman': 4946, 'rosario': 4947, 'knee': 4948, 'subtli': 4949, 'forgiven': 4950, 'cape': 4951, 'id': 4952, 'relentless': 4953, 'porter': 4954, 'inaccur': 4955, 'miami': 4956, 'blur': 4957, 'miniseri': 4958, 'pepper': 4959, 'bait': 4960, 'pioneer': 4961, 'paula': 4962, 'carmen': 4963, 'monti': 4964, 'orchestr': 4965, 'dubiou': 4966, 'substanti': 4967, 'reincarn': 4968, 'vastli': 4969, 'masterson': 4970, 'asset': 4971, 'modest': 4972, 'motorcycl': 4973, 'profil': 4974, 'victorian': 4975, 'detach': 4976, 'sophi': 4977, 'weari': 4978, 'incorrect': 4979, 'bach': 4980, 'jill': 4981, 'scarfac': 4982, 'evan': 4983, 'scariest': 4984, 'handicap': 4985, 'mice': 4986, 'growth': 4987, 'hostil': 4988, 'drone': 4989, 'epitom': 4990, 'hackman': 4991, 'weaker': 4992, 'bravo': 4993, '21st': 4994, 'optimist': 4995, 'ingrid': 4996, 'cypher': 4997, 'assort': 4998, 'frontal': 4999}\n"
     ]
    }
   ],
   "source": [
    "print(word_dict)"
   ]
  },
  {
   "cell_type": "code",
   "execution_count": 13,
   "metadata": {},
   "outputs": [
    {
     "name": "stdout",
     "output_type": "stream",
     "text": [
      "[]\n"
     ]
    }
   ],
   "source": [
    "# TODO: Use this space to determine the five most frequently appearing words in the training set.\n",
    "\n",
    "## Determine the five most frequently appearing words\n",
    "five_most = []\n",
    "for word, idx in word_dict:\n",
    "    if idx in [2, 3, 4, 5, 6]:\n",
    "        five_most.append(word)\n",
    "\n",
    "## Print all the words\n",
    "print(five_most)"
   ]
  },
  {
   "cell_type": "markdown",
   "metadata": {},
   "source": [
    "### Save `word_dict`\n",
    "\n",
    "Later on when we construct an endpoint which processes a submitted review we will need to make use of the `word_dict` which we have created. As such, we will save it to a file now for future use."
   ]
  },
  {
   "cell_type": "code",
   "execution_count": null,
   "metadata": {},
   "outputs": [],
   "source": [
    "data_dir = '../data/pytorch' # The folder we will use for storing data\n",
    "if not os.path.exists(data_dir): # Make sure that the folder exists\n",
    "    os.makedirs(data_dir)"
   ]
  },
  {
   "cell_type": "code",
   "execution_count": null,
   "metadata": {},
   "outputs": [],
   "source": [
    "with open(os.path.join(data_dir, 'word_dict.pkl'), \"wb\") as f:\n",
    "    pickle.dump(word_dict, f)"
   ]
  },
  {
   "cell_type": "markdown",
   "metadata": {},
   "source": [
    "### Transform the reviews\n",
    "\n",
    "Now that we have our word dictionary which allows us to transform the words appearing in the reviews into integers, it is time to make use of it and convert our reviews to their integer sequence representation, making sure to pad or truncate to a fixed length, which in our case is `500`."
   ]
  },
  {
   "cell_type": "code",
   "execution_count": null,
   "metadata": {},
   "outputs": [],
   "source": [
    "def convert_and_pad(word_dict, sentence, pad=500):\n",
    "    NOWORD = 0 # We will use 0 to represent the 'no word' category\n",
    "    INFREQ = 1 # and we use 1 to represent the infrequent words, i.e., words not appearing in word_dict\n",
    "    \n",
    "    working_sentence = [NOWORD] * pad\n",
    "    \n",
    "    for word_index, word in enumerate(sentence[:pad]):\n",
    "        if word in word_dict:\n",
    "            working_sentence[word_index] = word_dict[word]\n",
    "        else:\n",
    "            working_sentence[word_index] = INFREQ\n",
    "            \n",
    "    return working_sentence, min(len(sentence), pad)\n",
    "\n",
    "def convert_and_pad_data(word_dict, data, pad=500):\n",
    "    result = []\n",
    "    lengths = []\n",
    "    \n",
    "    for sentence in data:\n",
    "        converted, leng = convert_and_pad(word_dict, sentence, pad)\n",
    "        result.append(converted)\n",
    "        lengths.append(leng)\n",
    "        \n",
    "    return np.array(result), np.array(lengths)"
   ]
  },
  {
   "cell_type": "code",
   "execution_count": null,
   "metadata": {},
   "outputs": [],
   "source": [
    "train_X, train_X_len = convert_and_pad_data(word_dict, train_X)\n",
    "test_X, test_X_len = convert_and_pad_data(word_dict, test_X)"
   ]
  },
  {
   "cell_type": "markdown",
   "metadata": {},
   "source": [
    "As a quick check to make sure that things are working as intended, check to see what one of the reviews in the training set looks like after having been processeed. Does this look reasonable? What is the length of a review in the training set?"
   ]
  },
  {
   "cell_type": "code",
   "execution_count": null,
   "metadata": {},
   "outputs": [],
   "source": [
    "# Use this cell to examine one of the processed reviews to make sure everything is working as intended.\n",
    "print(\"Examine one sentence review\")\n",
    "print(train_X[100])\n",
    "print()\n",
    "print(\"The Length of this review {}\".format(len(train_X[100])))"
   ]
  },
  {
   "cell_type": "markdown",
   "metadata": {},
   "source": [
    "**Question:** In the cells above we use the `preprocess_data` and `convert_and_pad_data` methods to process both the training and testing set. Why or why not might this be a problem?"
   ]
  },
  {
   "cell_type": "markdown",
   "metadata": {},
   "source": [
    "**Answer:**"
   ]
  },
  {
   "cell_type": "markdown",
   "metadata": {},
   "source": [
    "## Step 3: Upload the data to S3\n",
    "\n",
    "As in the XGBoost notebook, we will need to upload the training dataset to S3 in order for our training code to access it. For now we will save it locally and we will upload to S3 later on.\n",
    "\n",
    "### Save the processed training dataset locally\n",
    "\n",
    "It is important to note the format of the data that we are saving as we will need to know it when we write the training code. In our case, each row of the dataset has the form `label`, `length`, `review[500]` where `review[500]` is a sequence of `500` integers representing the words in the review."
   ]
  },
  {
   "cell_type": "code",
   "execution_count": null,
   "metadata": {},
   "outputs": [],
   "source": [
    "import pandas as pd\n",
    "    \n",
    "pd.concat([pd.DataFrame(train_y), pd.DataFrame(train_X_len), pd.DataFrame(train_X)], axis=1) \\\n",
    "        .to_csv(os.path.join(data_dir, 'train.csv'), header=False, index=False)"
   ]
  },
  {
   "cell_type": "markdown",
   "metadata": {},
   "source": [
    "### Uploading the training data\n",
    "\n",
    "\n",
    "Next, we need to upload the training data to the SageMaker default S3 bucket so that we can provide access to it while training our model."
   ]
  },
  {
   "cell_type": "code",
   "execution_count": null,
   "metadata": {},
   "outputs": [],
   "source": [
    "import sagemaker\n",
    "\n",
    "sagemaker_session = sagemaker.Session()\n",
    "\n",
    "bucket = sagemaker_session.default_bucket()\n",
    "prefix = 'sagemaker/sentiment_rnn'\n",
    "\n",
    "role = sagemaker.get_execution_role()"
   ]
  },
  {
   "cell_type": "code",
   "execution_count": null,
   "metadata": {},
   "outputs": [],
   "source": [
    "input_data = sagemaker_session.upload_data(path=data_dir, bucket=bucket, key_prefix=prefix)"
   ]
  },
  {
   "cell_type": "markdown",
   "metadata": {},
   "source": [
    "**NOTE:** The cell above uploads the entire contents of our data directory. This includes the `word_dict.pkl` file. This is fortunate as we will need this later on when we create an endpoint that accepts an arbitrary review. For now, we will just take note of the fact that it resides in the data directory (and so also in the S3 training bucket) and that we will need to make sure it gets saved in the model directory."
   ]
  },
  {
   "cell_type": "markdown",
   "metadata": {},
   "source": [
    "## Step 4: Build and Train the PyTorch Model\n",
    "\n",
    "In the XGBoost notebook we discussed what a model is in the SageMaker framework. In particular, a model comprises three objects\n",
    "\n",
    " - Model Artifacts,\n",
    " - Training Code, and\n",
    " - Inference Code,\n",
    " \n",
    "each of which interact with one another. In the XGBoost example we used training and inference code that was provided by Amazon. Here we will still be using containers provided by Amazon with the added benefit of being able to include our own custom code.\n",
    "\n",
    "We will start by implementing our own neural network in PyTorch along with a training script. For the purposes of this project we have provided the necessary model object in the `model.py` file, inside of the `train` folder. You can see the provided implementation by running the cell below."
   ]
  },
  {
   "cell_type": "code",
   "execution_count": null,
   "metadata": {},
   "outputs": [],
   "source": [
    "!pygmentize train/model.py"
   ]
  },
  {
   "cell_type": "markdown",
   "metadata": {},
   "source": [
    "The important takeaway from the implementation provided is that there are three parameters that we may wish to tweak to improve the performance of our model. These are the embedding dimension, the hidden dimension and the size of the vocabulary. We will likely want to make these parameters configurable in the training script so that if we wish to modify them we do not need to modify the script itself. We will see how to do this later on. To start we will write some of the training code in the notebook so that we can more easily diagnose any issues that arise.\n",
    "\n",
    "First we will load a small portion of the training data set to use as a sample. It would be very time consuming to try and train the model completely in the notebook as we do not have access to a gpu and the compute instance that we are using is not particularly powerful. However, we can work on a small bit of the data to get a feel for how our training script is behaving."
   ]
  },
  {
   "cell_type": "code",
   "execution_count": null,
   "metadata": {},
   "outputs": [],
   "source": [
    "import torch\n",
    "import torch.utils.data\n",
    "\n",
    "# Read in only the first 250 rows\n",
    "train_sample = pd.read_csv(os.path.join(data_dir, 'train.csv'), header=None, names=None, nrows=250)\n",
    "\n",
    "# Turn the input pandas dataframe into tensors\n",
    "train_sample_y = torch.from_numpy(train_sample[[0]].values).float().squeeze()\n",
    "train_sample_X = torch.from_numpy(train_sample.drop([0], axis=1).values).long()\n",
    "\n",
    "# Build the dataset\n",
    "train_sample_ds = torch.utils.data.TensorDataset(train_sample_X, train_sample_y)\n",
    "# Build the dataloader\n",
    "train_sample_dl = torch.utils.data.DataLoader(train_sample_ds, batch_size=50)"
   ]
  },
  {
   "cell_type": "markdown",
   "metadata": {},
   "source": [
    "### (TODO) Writing the training method\n",
    "\n",
    "Next we need to write the training code itself. This should be very similar to training methods that you have written before to train PyTorch models. We will leave any difficult aspects such as model saving / loading and parameter loading until a little later."
   ]
  },
  {
   "cell_type": "code",
   "execution_count": null,
   "metadata": {},
   "outputs": [],
   "source": [
    "def train(model, train_loader, epochs, optimizer, loss_fn, device):\n",
    "    for epoch in range(1, epochs + 1):\n",
    "        model.train()\n",
    "        total_loss = 0\n",
    "        for batch in train_loader:         \n",
    "            batch_X, batch_y = batch\n",
    "            \n",
    "            batch_X = batch_X.to(device)\n",
    "            batch_y = batch_y.to(device)\n",
    "            \n",
    "            # TODO: Complete this train method to train the model provided.\n",
    "            \n",
    "            total_loss += loss.data.item()\n",
    "        print(\"Epoch: {}, BCELoss: {}\".format(epoch, total_loss / len(train_loader)))"
   ]
  },
  {
   "cell_type": "markdown",
   "metadata": {},
   "source": [
    "Supposing we have the training method above, we will test that it is working by writing a bit of code in the notebook that executes our training method on the small sample training set that we loaded earlier. The reason for doing this in the notebook is so that we have an opportunity to fix any errors that arise early when they are easier to diagnose."
   ]
  },
  {
   "cell_type": "code",
   "execution_count": null,
   "metadata": {},
   "outputs": [],
   "source": [
    "import torch.optim as optim\n",
    "from train.model import LSTMClassifier\n",
    "\n",
    "device = torch.device(\"cuda\" if torch.cuda.is_available() else \"cpu\")\n",
    "model = LSTMClassifier(32, 100, 5000).to(device)\n",
    "optimizer = optim.Adam(model.parameters())\n",
    "loss_fn = torch.nn.BCELoss()\n",
    "\n",
    "train(model, train_sample_dl, 5, optimizer, loss_fn, device)"
   ]
  },
  {
   "cell_type": "markdown",
   "metadata": {},
   "source": [
    "In order to construct a PyTorch model using SageMaker we must provide SageMaker with a training script. We may optionally include a directory which will be copied to the container and from which our training code will be run. When the training container is executed it will check the uploaded directory (if there is one) for a `requirements.txt` file and install any required Python libraries, after which the training script will be run."
   ]
  },
  {
   "cell_type": "markdown",
   "metadata": {},
   "source": [
    "### (TODO) Training the model\n",
    "\n",
    "When a PyTorch model is constructed in SageMaker, an entry point must be specified. This is the Python file which will be executed when the model is trained. Inside of the `train` directory is a file called `train.py` which has been provided and which contains most of the necessary code to train our model. The only thing that is missing is the implementation of the `train()` method which you wrote earlier in this notebook.\n",
    "\n",
    "**TODO**: Copy the `train()` method written above and paste it into the `train/train.py` file where required.\n",
    "\n",
    "The way that SageMaker passes hyperparameters to the training script is by way of arguments. These arguments can then be parsed and used in the training script. To see how this is done take a look at the provided `train/train.py` file."
   ]
  },
  {
   "cell_type": "code",
   "execution_count": null,
   "metadata": {},
   "outputs": [],
   "source": [
    "from sagemaker.pytorch import PyTorch\n",
    "\n",
    "estimator = PyTorch(entry_point=\"train.py\",\n",
    "                    source_dir=\"train\",\n",
    "                    role=role,\n",
    "                    framework_version='0.4.0',\n",
    "                    train_instance_count=1,\n",
    "                    train_instance_type='ml.p2.xlarge',\n",
    "                    hyperparameters={\n",
    "                        'epochs': 10,\n",
    "                        'hidden_dim': 200,\n",
    "                    })"
   ]
  },
  {
   "cell_type": "code",
   "execution_count": null,
   "metadata": {},
   "outputs": [],
   "source": [
    "estimator.fit({'training': input_data})"
   ]
  },
  {
   "cell_type": "markdown",
   "metadata": {},
   "source": [
    "## Step 5: Testing the model\n",
    "\n",
    "As mentioned at the top of this notebook, we will be testing this model by first deploying it and then sending the testing data to the deployed endpoint. We will do this so that we can make sure that the deployed model is working correctly.\n",
    "\n",
    "## Step 6: Deploy the model for testing\n",
    "\n",
    "Now that we have trained our model, we would like to test it to see how it performs. Currently our model takes input of the form `review_length, review[500]` where `review[500]` is a sequence of `500` integers which describe the words present in the review, encoded using `word_dict`. Fortunately for us, SageMaker provides built-in inference code for models with simple inputs such as this.\n",
    "\n",
    "There is one thing that we need to provide, however, and that is a function which loads the saved model. This function must be called `model_fn()` and takes as its only parameter a path to the directory where the model artifacts are stored. This function must also be present in the python file which we specified as the entry point. In our case the model loading function has been provided and so no changes need to be made.\n",
    "\n",
    "**NOTE**: When the built-in inference code is run it must import the `model_fn()` method from the `train.py` file. This is why the training code is wrapped in a main guard ( ie, `if __name__ == '__main__':` )\n",
    "\n",
    "Since we don't need to change anything in the code that was uploaded during training, we can simply deploy the current model as-is.\n",
    "\n",
    "**NOTE:** When deploying a model you are asking SageMaker to launch an compute instance that will wait for data to be sent to it. As a result, this compute instance will continue to run until *you* shut it down. This is important to know since the cost of a deployed endpoint depends on how long it has been running for.\n",
    "\n",
    "In other words **If you are no longer using a deployed endpoint, shut it down!**\n",
    "\n",
    "**TODO:** Deploy the trained model."
   ]
  },
  {
   "cell_type": "code",
   "execution_count": null,
   "metadata": {},
   "outputs": [],
   "source": [
    "# TODO: Deploy the trained model"
   ]
  },
  {
   "cell_type": "markdown",
   "metadata": {},
   "source": [
    "## Step 7 - Use the model for testing\n",
    "\n",
    "Once deployed, we can read in the test data and send it off to our deployed model to get some results. Once we collect all of the results we can determine how accurate our model is."
   ]
  },
  {
   "cell_type": "code",
   "execution_count": null,
   "metadata": {},
   "outputs": [],
   "source": [
    "test_X = pd.concat([pd.DataFrame(test_X_len), pd.DataFrame(test_X)], axis=1)"
   ]
  },
  {
   "cell_type": "code",
   "execution_count": null,
   "metadata": {},
   "outputs": [],
   "source": [
    "# We split the data into chunks and send each chunk seperately, accumulating the results.\n",
    "\n",
    "def predict(data, rows=512):\n",
    "    split_array = np.array_split(data, int(data.shape[0] / float(rows) + 1))\n",
    "    predictions = np.array([])\n",
    "    for array in split_array:\n",
    "        predictions = np.append(predictions, predictor.predict(array))\n",
    "    \n",
    "    return predictions"
   ]
  },
  {
   "cell_type": "code",
   "execution_count": null,
   "metadata": {},
   "outputs": [],
   "source": [
    "predictions = predict(test_X.values)\n",
    "predictions = [round(num) for num in predictions]"
   ]
  },
  {
   "cell_type": "code",
   "execution_count": null,
   "metadata": {},
   "outputs": [],
   "source": [
    "from sklearn.metrics import accuracy_score\n",
    "accuracy_score(test_y, predictions)"
   ]
  },
  {
   "cell_type": "markdown",
   "metadata": {},
   "source": [
    "**Question:** How does this model compare to the XGBoost model you created earlier? Why might these two models perform differently on this dataset? Which do *you* think is better for sentiment analysis?"
   ]
  },
  {
   "cell_type": "markdown",
   "metadata": {},
   "source": [
    "**Answer:**"
   ]
  },
  {
   "cell_type": "markdown",
   "metadata": {},
   "source": [
    "### (TODO) More testing\n",
    "\n",
    "We now have a trained model which has been deployed and which we can send processed reviews to and which returns the predicted sentiment. However, ultimately we would like to be able to send our model an unprocessed review. That is, we would like to send the review itself as a string. For example, suppose we wish to send the following review to our model."
   ]
  },
  {
   "cell_type": "code",
   "execution_count": null,
   "metadata": {},
   "outputs": [],
   "source": [
    "test_review = 'The simplest pleasures in life are the best, and this film is one of them. Combining a rather basic storyline of love and adventure this movie transcends the usual weekend fair with wit and unmitigated charm.'"
   ]
  },
  {
   "cell_type": "markdown",
   "metadata": {},
   "source": [
    "The question we now need to answer is, how do we send this review to our model?\n",
    "\n",
    "Recall in the first section of this notebook we did a bunch of data processing to the IMDb dataset. In particular, we did two specific things to the provided reviews.\n",
    " - Removed any html tags and stemmed the input\n",
    " - Encoded the review as a sequence of integers using `word_dict`\n",
    " \n",
    "In order process the review we will need to repeat these two steps.\n",
    "\n",
    "**TODO**: Using the `review_to_words` and `convert_and_pad` methods from section one, convert `test_review` into a numpy array `test_data` suitable to send to our model. Remember that our model expects input of the form `review_length, review[500]`."
   ]
  },
  {
   "cell_type": "code",
   "execution_count": null,
   "metadata": {},
   "outputs": [],
   "source": [
    "# TODO: Convert test_review into a form usable by the model and save the results in test_data\n",
    "test_data = None"
   ]
  },
  {
   "cell_type": "markdown",
   "metadata": {},
   "source": [
    "Now that we have processed the review, we can send the resulting array to our model to predict the sentiment of the review."
   ]
  },
  {
   "cell_type": "code",
   "execution_count": null,
   "metadata": {},
   "outputs": [],
   "source": [
    "predictor.predict(test_data)"
   ]
  },
  {
   "cell_type": "markdown",
   "metadata": {},
   "source": [
    "Since the return value of our model is close to `1`, we can be certain that the review we submitted is positive."
   ]
  },
  {
   "cell_type": "markdown",
   "metadata": {},
   "source": [
    "### Delete the endpoint\n",
    "\n",
    "Of course, just like in the XGBoost notebook, once we've deployed an endpoint it continues to run until we tell it to shut down. Since we are done using our endpoint for now, we can delete it."
   ]
  },
  {
   "cell_type": "code",
   "execution_count": null,
   "metadata": {},
   "outputs": [],
   "source": [
    "estimator.delete_endpoint()"
   ]
  },
  {
   "cell_type": "markdown",
   "metadata": {},
   "source": [
    "## Step 6 (again) - Deploy the model for the web app\n",
    "\n",
    "Now that we know that our model is working, it's time to create some custom inference code so that we can send the model a review which has not been processed and have it determine the sentiment of the review.\n",
    "\n",
    "As we saw above, by default the estimator which we created, when deployed, will use the entry script and directory which we provided when creating the model. However, since we now wish to accept a string as input and our model expects a processed review, we need to write some custom inference code.\n",
    "\n",
    "We will store the code that we write in the `serve` directory. Provided in this directory is the `model.py` file that we used to construct our model, a `utils.py` file which contains the `review_to_words` and `convert_and_pad` pre-processing functions which we used during the initial data processing, and `predict.py`, the file which will contain our custom inference code. Note also that `requirements.txt` is present which will tell SageMaker what Python libraries are required by our custom inference code.\n",
    "\n",
    "When deploying a PyTorch model in SageMaker, you are expected to provide four functions which the SageMaker inference container will use.\n",
    " - `model_fn`: This function is the same function that we used in the training script and it tells SageMaker how to load our model.\n",
    " - `input_fn`: This function receives the raw serialized input that has been sent to the model's endpoint and its job is to de-serialize and make the input available for the inference code.\n",
    " - `output_fn`: This function takes the output of the inference code and its job is to serialize this output and return it to the caller of the model's endpoint.\n",
    " - `predict_fn`: The heart of the inference script, this is where the actual prediction is done and is the function which you will need to complete.\n",
    "\n",
    "For the simple website that we are constructing during this project, the `input_fn` and `output_fn` methods are relatively straightforward. We only require being able to accept a string as input and we expect to return a single value as output. You might imagine though that in a more complex application the input or output may be image data or some other binary data which would require some effort to serialize.\n",
    "\n",
    "### (TODO) Writing inference code\n",
    "\n",
    "Before writing our custom inference code, we will begin by taking a look at the code which has been provided."
   ]
  },
  {
   "cell_type": "code",
   "execution_count": null,
   "metadata": {},
   "outputs": [],
   "source": [
    "!pygmentize serve/predict.py"
   ]
  },
  {
   "cell_type": "markdown",
   "metadata": {},
   "source": [
    "As mentioned earlier, the `model_fn` method is the same as the one provided in the training code and the `input_fn` and `output_fn` methods are very simple and your task will be to complete the `predict_fn` method. Make sure that you save the completed file as `predict.py` in the `serve` directory.\n",
    "\n",
    "**TODO**: Complete the `predict_fn()` method in the `serve/predict.py` file."
   ]
  },
  {
   "cell_type": "markdown",
   "metadata": {},
   "source": [
    "### Deploying the model\n",
    "\n",
    "Now that the custom inference code has been written, we will create and deploy our model. To begin with, we need to construct a new PyTorchModel object which points to the model artifacts created during training and also points to the inference code that we wish to use. Then we can call the deploy method to launch the deployment container.\n",
    "\n",
    "**NOTE**: The default behaviour for a deployed PyTorch model is to assume that any input passed to the predictor is a `numpy` array. In our case we want to send a string so we need to construct a simple wrapper around the `RealTimePredictor` class to accomodate simple strings. In a more complicated situation you may want to provide a serialization object, for example if you wanted to sent image data."
   ]
  },
  {
   "cell_type": "code",
   "execution_count": null,
   "metadata": {},
   "outputs": [],
   "source": [
    "from sagemaker.predictor import RealTimePredictor\n",
    "from sagemaker.pytorch import PyTorchModel\n",
    "\n",
    "class StringPredictor(RealTimePredictor):\n",
    "    def __init__(self, endpoint_name, sagemaker_session):\n",
    "        super(StringPredictor, self).__init__(endpoint_name, sagemaker_session, content_type='text/plain')\n",
    "\n",
    "model = PyTorchModel(model_data=estimator.model_data,\n",
    "                     role = role,\n",
    "                     framework_version='0.4.0',\n",
    "                     entry_point='predict.py',\n",
    "                     source_dir='serve',\n",
    "                     predictor_cls=StringPredictor)\n",
    "predictor = model.deploy(initial_instance_count=1, instance_type='ml.m4.xlarge')"
   ]
  },
  {
   "cell_type": "markdown",
   "metadata": {},
   "source": [
    "### Testing the model\n",
    "\n",
    "Now that we have deployed our model with the custom inference code, we should test to see if everything is working. Here we test our model by loading the first `250` positive and negative reviews and send them to the endpoint, then collect the results. The reason for only sending some of the data is that the amount of time it takes for our model to process the input and then perform inference is quite long and so testing the entire data set would be prohibitive."
   ]
  },
  {
   "cell_type": "code",
   "execution_count": null,
   "metadata": {},
   "outputs": [],
   "source": [
    "import glob\n",
    "\n",
    "def test_reviews(data_dir='../data/aclImdb', stop=250):\n",
    "    \n",
    "    results = []\n",
    "    ground = []\n",
    "    \n",
    "    # We make sure to test both positive and negative reviews    \n",
    "    for sentiment in ['pos', 'neg']:\n",
    "        \n",
    "        path = os.path.join(data_dir, 'test', sentiment, '*.txt')\n",
    "        files = glob.glob(path)\n",
    "        \n",
    "        files_read = 0\n",
    "        \n",
    "        print('Starting ', sentiment, ' files')\n",
    "        \n",
    "        # Iterate through the files and send them to the predictor\n",
    "        for f in files:\n",
    "            with open(f) as review:\n",
    "                # First, we store the ground truth (was the review positive or negative)\n",
    "                if sentiment == 'pos':\n",
    "                    ground.append(1)\n",
    "                else:\n",
    "                    ground.append(0)\n",
    "                # Read in the review and convert to 'utf-8' for transmission via HTTP\n",
    "                review_input = review.read().encode('utf-8')\n",
    "                # Send the review to the predictor and store the results\n",
    "                results.append(int(predictor.predict(review_input)))\n",
    "                \n",
    "            # Sending reviews to our endpoint one at a time takes a while so we\n",
    "            # only send a small number of reviews\n",
    "            files_read += 1\n",
    "            if files_read == stop:\n",
    "                break\n",
    "            \n",
    "    return ground, results"
   ]
  },
  {
   "cell_type": "code",
   "execution_count": null,
   "metadata": {},
   "outputs": [],
   "source": [
    "ground, results = test_reviews()"
   ]
  },
  {
   "cell_type": "code",
   "execution_count": null,
   "metadata": {},
   "outputs": [],
   "source": [
    "from sklearn.metrics import accuracy_score\n",
    "accuracy_score(ground, results)"
   ]
  },
  {
   "cell_type": "markdown",
   "metadata": {},
   "source": [
    "As an additional test, we can try sending the `test_review` that we looked at earlier."
   ]
  },
  {
   "cell_type": "code",
   "execution_count": null,
   "metadata": {},
   "outputs": [],
   "source": [
    "predictor.predict(test_review)"
   ]
  },
  {
   "cell_type": "markdown",
   "metadata": {},
   "source": [
    "Now that we know our endpoint is working as expected, we can set up the web page that will interact with it. If you don't have time to finish the project now, make sure to skip down to the end of this notebook and shut down your endpoint. You can deploy it again when you come back."
   ]
  },
  {
   "cell_type": "markdown",
   "metadata": {},
   "source": [
    "## Step 7 (again): Use the model for the web app\n",
    "\n",
    "> **TODO:** This entire section and the next contain tasks for you to complete, mostly using the AWS console.\n",
    "\n",
    "So far we have been accessing our model endpoint by constructing a predictor object which uses the endpoint and then just using the predictor object to perform inference. What if we wanted to create a web app which accessed our model? The way things are set up currently makes that not possible since in order to access a SageMaker endpoint the app would first have to authenticate with AWS using an IAM role which included access to SageMaker endpoints. However, there is an easier way! We just need to use some additional AWS services.\n",
    "\n",
    "<img src=\"Web App Diagram.svg\">\n",
    "\n",
    "The diagram above gives an overview of how the various services will work together. On the far right is the model which we trained above and which is deployed using SageMaker. On the far left is our web app that collects a user's movie review, sends it off and expects a positive or negative sentiment in return.\n",
    "\n",
    "In the middle is where some of the magic happens. We will construct a Lambda function, which you can think of as a straightforward Python function that can be executed whenever a specified event occurs. We will give this function permission to send and recieve data from a SageMaker endpoint.\n",
    "\n",
    "Lastly, the method we will use to execute the Lambda function is a new endpoint that we will create using API Gateway. This endpoint will be a url that listens for data to be sent to it. Once it gets some data it will pass that data on to the Lambda function and then return whatever the Lambda function returns. Essentially it will act as an interface that lets our web app communicate with the Lambda function.\n",
    "\n",
    "### Setting up a Lambda function\n",
    "\n",
    "The first thing we are going to do is set up a Lambda function. This Lambda function will be executed whenever our public API has data sent to it. When it is executed it will receive the data, perform any sort of processing that is required, send the data (the review) to the SageMaker endpoint we've created and then return the result.\n",
    "\n",
    "#### Part A: Create an IAM Role for the Lambda function\n",
    "\n",
    "Since we want the Lambda function to call a SageMaker endpoint, we need to make sure that it has permission to do so. To do this, we will construct a role that we can later give the Lambda function.\n",
    "\n",
    "Using the AWS Console, navigate to the **IAM** page and click on **Roles**. Then, click on **Create role**. Make sure that the **AWS service** is the type of trusted entity selected and choose **Lambda** as the service that will use this role, then click **Next: Permissions**.\n",
    "\n",
    "In the search box type `sagemaker` and select the check box next to the **AmazonSageMakerFullAccess** policy. Then, click on **Next: Review**.\n",
    "\n",
    "Lastly, give this role a name. Make sure you use a name that you will remember later on, for example `LambdaSageMakerRole`. Then, click on **Create role**.\n",
    "\n",
    "#### Part B: Create a Lambda function\n",
    "\n",
    "Now it is time to actually create the Lambda function.\n",
    "\n",
    "Using the AWS Console, navigate to the AWS Lambda page and click on **Create a function**. When you get to the next page, make sure that **Author from scratch** is selected. Now, name your Lambda function, using a name that you will remember later on, for example `sentiment_analysis_func`. Make sure that the **Python 3.6** runtime is selected and then choose the role that you created in the previous part. Then, click on **Create Function**.\n",
    "\n",
    "On the next page you will see some information about the Lambda function you've just created. If you scroll down you should see an editor in which you can write the code that will be executed when your Lambda function is triggered. In our example, we will use the code below. \n",
    "\n",
    "```python\n",
    "# We need to use the low-level library to interact with SageMaker since the SageMaker API\n",
    "# is not available natively through Lambda.\n",
    "import boto3\n",
    "\n",
    "def lambda_handler(event, context):\n",
    "\n",
    "    # The SageMaker runtime is what allows us to invoke the endpoint that we've created.\n",
    "    runtime = boto3.Session().client('sagemaker-runtime')\n",
    "\n",
    "    # Now we use the SageMaker runtime to invoke our endpoint, sending the review we were given\n",
    "    response = runtime.invoke_endpoint(EndpointName = '**ENDPOINT NAME HERE**',    # The name of the endpoint we created\n",
    "                                       ContentType = 'text/plain',                 # The data format that is expected\n",
    "                                       Body = event['body'])                       # The actual review\n",
    "\n",
    "    # The response is an HTTP response whose body contains the result of our inference\n",
    "    result = response['Body'].read().decode('utf-8')\n",
    "\n",
    "    return {\n",
    "        'statusCode' : 200,\n",
    "        'headers' : { 'Content-Type' : 'text/plain', 'Access-Control-Allow-Origin' : '*' },\n",
    "        'body' : result\n",
    "    }\n",
    "```\n",
    "\n",
    "Once you have copy and pasted the code above into the Lambda code editor, replace the `**ENDPOINT NAME HERE**` portion with the name of the endpoint that we deployed earlier. You can determine the name of the endpoint using the code cell below."
   ]
  },
  {
   "cell_type": "code",
   "execution_count": null,
   "metadata": {},
   "outputs": [],
   "source": [
    "predictor.endpoint"
   ]
  },
  {
   "cell_type": "markdown",
   "metadata": {},
   "source": [
    "Once you have added the endpoint name to the Lambda function, click on **Save**. Your Lambda function is now up and running. Next we need to create a way for our web app to execute the Lambda function.\n",
    "\n",
    "### Setting up API Gateway\n",
    "\n",
    "Now that our Lambda function is set up, it is time to create a new API using API Gateway that will trigger the Lambda function we have just created.\n",
    "\n",
    "Using AWS Console, navigate to **Amazon API Gateway** and then click on **Get started**.\n",
    "\n",
    "On the next page, make sure that **New API** is selected and give the new api a name, for example, `sentiment_analysis_api`. Then, click on **Create API**.\n",
    "\n",
    "Now we have created an API, however it doesn't currently do anything. What we want it to do is to trigger the Lambda function that we created earlier.\n",
    "\n",
    "Select the **Actions** dropdown menu and click **Create Method**. A new blank method will be created, select its dropdown menu and select **POST**, then click on the check mark beside it.\n",
    "\n",
    "For the integration point, make sure that **Lambda Function** is selected and click on the **Use Lambda Proxy integration**. This option makes sure that the data that is sent to the API is then sent directly to the Lambda function with no processing. It also means that the return value must be a proper response object as it will also not be processed by API Gateway.\n",
    "\n",
    "Type the name of the Lambda function you created earlier into the **Lambda Function** text entry box and then click on **Save**. Click on **OK** in the pop-up box that then appears, giving permission to API Gateway to invoke the Lambda function you created.\n",
    "\n",
    "The last step in creating the API Gateway is to select the **Actions** dropdown and click on **Deploy API**. You will need to create a new Deployment stage and name it anything you like, for example `prod`.\n",
    "\n",
    "You have now successfully set up a public API to access your SageMaker model. Make sure to copy or write down the URL provided to invoke your newly created public API as this will be needed in the next step. This URL can be found at the top of the page, highlighted in blue next to the text **Invoke URL**."
   ]
  },
  {
   "cell_type": "markdown",
   "metadata": {},
   "source": [
    "## Step 4: Deploying our web app\n",
    "\n",
    "Now that we have a publicly available API, we can start using it in a web app. For our purposes, we have provided a simple static html file which can make use of the public api you created earlier.\n",
    "\n",
    "In the `website` folder there should be a file called `index.html`. Download the file to your computer and open that file up in a text editor of your choice. There should be a line which contains **\\*\\*REPLACE WITH PUBLIC API URL\\*\\***. Replace this string with the url that you wrote down in the last step and then save the file.\n",
    "\n",
    "Now, if you open `index.html` on your local computer, your browser will behave as a local web server and you can use the provided site to interact with your SageMaker model.\n",
    "\n",
    "If you'd like to go further, you can host this html file anywhere you'd like, for example using github or hosting a static site on Amazon's S3. Once you have done this you can share the link with anyone you'd like and have them play with it too!\n",
    "\n",
    "> **Important Note** In order for the web app to communicate with the SageMaker endpoint, the endpoint has to actually be deployed and running. This means that you are paying for it. Make sure that the endpoint is running when you want to use the web app but that you shut it down when you don't need it, otherwise you will end up with a surprisingly large AWS bill.\n",
    "\n",
    "**TODO:** Make sure that you include the edited `index.html` file in your project submission."
   ]
  },
  {
   "cell_type": "markdown",
   "metadata": {},
   "source": [
    "Now that your web app is working, trying playing around with it and see how well it works.\n",
    "\n",
    "**Question**: Give an example of a review that you entered into your web app. What was the predicted sentiment of your example review?"
   ]
  },
  {
   "cell_type": "markdown",
   "metadata": {},
   "source": [
    "**Answer:**"
   ]
  },
  {
   "cell_type": "markdown",
   "metadata": {},
   "source": [
    "### Delete the endpoint\n",
    "\n",
    "Remember to always shut down your endpoint if you are no longer using it. You are charged for the length of time that the endpoint is running so if you forget and leave it on you could end up with an unexpectedly large bill."
   ]
  },
  {
   "cell_type": "code",
   "execution_count": null,
   "metadata": {},
   "outputs": [],
   "source": [
    "predictor.delete_endpoint()"
   ]
  },
  {
   "cell_type": "code",
   "execution_count": null,
   "metadata": {},
   "outputs": [],
   "source": []
  }
 ],
 "metadata": {
  "kernelspec": {
   "display_name": "conda_pytorch_p36",
   "language": "python",
   "name": "conda_pytorch_p36"
  },
  "language_info": {
   "codemirror_mode": {
    "name": "ipython",
    "version": 3
   },
   "file_extension": ".py",
   "mimetype": "text/x-python",
   "name": "python",
   "nbconvert_exporter": "python",
   "pygments_lexer": "ipython3",
   "version": "3.6.5"
  }
 },
 "nbformat": 4,
 "nbformat_minor": 2
}
