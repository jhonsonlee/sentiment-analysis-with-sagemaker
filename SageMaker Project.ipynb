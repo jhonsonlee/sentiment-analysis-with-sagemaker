{
 "cells": [
  {
   "cell_type": "markdown",
   "metadata": {},
   "source": [
    "# Creating a Sentiment Analysis Web App\n",
    "## Using PyTorch and SageMaker\n",
    "\n",
    "_Deep Learning Nanodegree Program | Deployment_\n",
    "\n",
    "---\n",
    "\n",
    "Now that we have a basic understanding of how SageMaker works we will try to use it to construct a complete project from end to end. Our goal will be to have a simple web page which a user can use to enter a movie review. The web page will then send the review off to our deployed model which will predict the sentiment of the entered review.\n",
    "\n",
    "## Instructions\n",
    "\n",
    "Some template code has already been provided for you, and you will need to implement additional functionality to successfully complete this notebook. You will not need to modify the included code beyond what is requested. Sections that begin with '**TODO**' in the header indicate that you need to complete or implement some portion within them. Instructions will be provided for each section and the specifics of the implementation are marked in the code block with a `# TODO: ...` comment. Please be sure to read the instructions carefully!\n",
    "\n",
    "In addition to implementing code, there will be questions for you to answer which relate to the task and your implementation. Each section where you will answer a question is preceded by a '**Question:**' header. Carefully read each question and provide your answer below the '**Answer:**' header by editing the Markdown cell.\n",
    "\n",
    "> **Note**: Code and Markdown cells can be executed using the **Shift+Enter** keyboard shortcut. In addition, a cell can be edited by typically clicking it (double-click for Markdown cells) or by pressing **Enter** while it is highlighted.\n",
    "\n",
    "## General Outline\n",
    "\n",
    "Recall the general outline for SageMaker projects using a notebook instance.\n",
    "\n",
    "1. Download or otherwise retrieve the data.\n",
    "2. Process / Prepare the data.\n",
    "3. Upload the processed data to S3.\n",
    "4. Train a chosen model.\n",
    "5. Test the trained model (typically using a batch transform job).\n",
    "6. Deploy the trained model.\n",
    "7. Use the deployed model.\n",
    "\n",
    "For this project, you will be following the steps in the general outline with some modifications. \n",
    "\n",
    "First, you will not be testing the model in its own step. You will still be testing the model, however, you will do it by deploying your model and then using the deployed model by sending the test data to it. One of the reasons for doing this is so that you can make sure that your deployed model is working correctly before moving forward.\n",
    "\n",
    "In addition, you will deploy and use your trained model a second time. In the second iteration you will customize the way that your trained model is deployed by including some of your own code. In addition, your newly deployed model will be used in the sentiment analysis web app."
   ]
  },
  {
   "cell_type": "markdown",
   "metadata": {},
   "source": [
    "## Step 1: Downloading the data\n",
    "\n",
    "As in the XGBoost in SageMaker notebook, we will be using the [IMDb dataset](http://ai.stanford.edu/~amaas/data/sentiment/)\n",
    "\n",
    "> Maas, Andrew L., et al. [Learning Word Vectors for Sentiment Analysis](http://ai.stanford.edu/~amaas/data/sentiment/). In _Proceedings of the 49th Annual Meeting of the Association for Computational Linguistics: Human Language Technologies_. Association for Computational Linguistics, 2011."
   ]
  },
  {
   "cell_type": "code",
   "execution_count": 1,
   "metadata": {},
   "outputs": [
    {
     "name": "stdout",
     "output_type": "stream",
     "text": [
      "--2019-05-04 14:36:41--  http://ai.stanford.edu/~amaas/data/sentiment/aclImdb_v1.tar.gz\n",
      "Resolving ai.stanford.edu (ai.stanford.edu)... 171.64.68.10\n",
      "Connecting to ai.stanford.edu (ai.stanford.edu)|171.64.68.10|:80... connected.\n",
      "HTTP request sent, awaiting response... 200 OK\n",
      "Length: 84125825 (80M) [application/x-gzip]\n",
      "Saving to: ‘../data/aclImdb_v1.tar.gz’\n",
      "\n",
      "../data/aclImdb_v1. 100%[===================>]  80.23M  8.13MB/s    in 12s     \n",
      "\n",
      "2019-05-04 14:36:53 (6.68 MB/s) - ‘../data/aclImdb_v1.tar.gz’ saved [84125825/84125825]\n",
      "\n"
     ]
    }
   ],
   "source": [
    "%mkdir ../data\n",
    "!wget -O ../data/aclImdb_v1.tar.gz http://ai.stanford.edu/~amaas/data/sentiment/aclImdb_v1.tar.gz\n",
    "!tar -zxf ../data/aclImdb_v1.tar.gz -C ../data"
   ]
  },
  {
   "cell_type": "markdown",
   "metadata": {},
   "source": [
    "## Step 2: Preparing and Processing the data\n",
    "\n",
    "Also, as in the XGBoost notebook, we will be doing some initial data processing. The first few steps are the same as in the XGBoost example. To begin with, we will read in each of the reviews and combine them into a single input structure. Then, we will split the dataset into a training set and a testing set."
   ]
  },
  {
   "cell_type": "code",
   "execution_count": 2,
   "metadata": {},
   "outputs": [],
   "source": [
    "import os\n",
    "import glob\n",
    "\n",
    "def read_imdb_data(data_dir='../data/aclImdb'):\n",
    "    data = {}\n",
    "    labels = {}\n",
    "    \n",
    "    for data_type in ['train', 'test']:\n",
    "        data[data_type] = {}\n",
    "        labels[data_type] = {}\n",
    "        \n",
    "        for sentiment in ['pos', 'neg']:\n",
    "            data[data_type][sentiment] = []\n",
    "            labels[data_type][sentiment] = []\n",
    "            \n",
    "            path = os.path.join(data_dir, data_type, sentiment, '*.txt')\n",
    "            files = glob.glob(path)\n",
    "            \n",
    "            for f in files:\n",
    "                with open(f) as review:\n",
    "                    data[data_type][sentiment].append(review.read())\n",
    "                    # Here we represent a positive review by '1' and a negative review by '0'\n",
    "                    labels[data_type][sentiment].append(1 if sentiment == 'pos' else 0)\n",
    "                    \n",
    "            assert len(data[data_type][sentiment]) == len(labels[data_type][sentiment]), \\\n",
    "                    \"{}/{} data size does not match labels size\".format(data_type, sentiment)\n",
    "                \n",
    "    return data, labels"
   ]
  },
  {
   "cell_type": "code",
   "execution_count": 3,
   "metadata": {},
   "outputs": [
    {
     "name": "stdout",
     "output_type": "stream",
     "text": [
      "IMDB reviews: train = 12500 pos / 12500 neg, test = 12500 pos / 12500 neg\n"
     ]
    }
   ],
   "source": [
    "data, labels = read_imdb_data()\n",
    "print(\"IMDB reviews: train = {} pos / {} neg, test = {} pos / {} neg\".format(\n",
    "            len(data['train']['pos']), len(data['train']['neg']),\n",
    "            len(data['test']['pos']), len(data['test']['neg'])))"
   ]
  },
  {
   "cell_type": "markdown",
   "metadata": {},
   "source": [
    "Now that we've read the raw training and testing data from the downloaded dataset, we will combine the positive and negative reviews and shuffle the resulting records."
   ]
  },
  {
   "cell_type": "code",
   "execution_count": 4,
   "metadata": {},
   "outputs": [],
   "source": [
    "from sklearn.utils import shuffle\n",
    "\n",
    "def prepare_imdb_data(data, labels):\n",
    "    \"\"\"Prepare training and test sets from IMDb movie reviews.\"\"\"\n",
    "    \n",
    "    #Combine positive and negative reviews and labels\n",
    "    data_train = data['train']['pos'] + data['train']['neg']\n",
    "    data_test = data['test']['pos'] + data['test']['neg']\n",
    "    labels_train = labels['train']['pos'] + labels['train']['neg']\n",
    "    labels_test = labels['test']['pos'] + labels['test']['neg']\n",
    "    \n",
    "    #Shuffle reviews and corresponding labels within training and test sets\n",
    "    data_train, labels_train = shuffle(data_train, labels_train)\n",
    "    data_test, labels_test = shuffle(data_test, labels_test)\n",
    "    \n",
    "    # Return a unified training data, test data, training labels, test labets\n",
    "    return data_train, data_test, labels_train, labels_test"
   ]
  },
  {
   "cell_type": "code",
   "execution_count": 5,
   "metadata": {},
   "outputs": [
    {
     "name": "stdout",
     "output_type": "stream",
     "text": [
      "IMDb reviews (combined): train = 25000, test = 25000\n"
     ]
    }
   ],
   "source": [
    "train_X, test_X, train_y, test_y = prepare_imdb_data(data, labels)\n",
    "print(\"IMDb reviews (combined): train = {}, test = {}\".format(len(train_X), len(test_X)))"
   ]
  },
  {
   "cell_type": "markdown",
   "metadata": {},
   "source": [
    "Now that we have our training and testing sets unified and prepared, we should do a quick check and see an example of the data our model will be trained on. This is generally a good idea as it allows you to see how each of the further processing steps affects the reviews and it also ensures that the data has been loaded correctly."
   ]
  },
  {
   "cell_type": "code",
   "execution_count": 6,
   "metadata": {},
   "outputs": [
    {
     "name": "stdout",
     "output_type": "stream",
     "text": [
      "The Pallbearer is a disappointment and at times extremely boring with a love story that just doesn't work partly with the casting of Gwyneth Paltrow (Julie). Gwyneth Paltrow walks through the entire film with a confused look on her face and its hard to tell what David Schwimmer even sees in her.<br /><br />However The Pallbearer at times is funny particularly the church scene and the group scenes with his friends are a laugh but that's basically it. Watch The Pallbearer for those scenes only and fast forward the rest. Trust me you aren't missing much.\n",
      "0\n"
     ]
    }
   ],
   "source": [
    "print(train_X[100])\n",
    "print(train_y[100])"
   ]
  },
  {
   "cell_type": "markdown",
   "metadata": {},
   "source": [
    "The first step in processing the reviews is to make sure that any html tags that appear should be removed. In addition we wish to tokenize our input, that way words such as *entertained* and *entertaining* are considered the same with regard to sentiment analysis."
   ]
  },
  {
   "cell_type": "code",
   "execution_count": 7,
   "metadata": {},
   "outputs": [],
   "source": [
    "import nltk\n",
    "from nltk.corpus import stopwords\n",
    "from nltk.stem.porter import *\n",
    "\n",
    "import re\n",
    "from bs4 import BeautifulSoup\n",
    "\n",
    "def review_to_words(review):\n",
    "    nltk.download(\"stopwords\", quiet=True)\n",
    "    stemmer = PorterStemmer()\n",
    "    \n",
    "    text = BeautifulSoup(review, \"html.parser\").get_text() # Remove HTML tags\n",
    "    text = re.sub(r\"[^a-zA-Z0-9]\", \" \", text.lower()) # Convert to lower case\n",
    "    words = text.split() # Split string into words\n",
    "    words = [w for w in words if w not in stopwords.words(\"english\")] # Remove stopwords\n",
    "    words = [PorterStemmer().stem(w) for w in words] # stem\n",
    "    \n",
    "    return words"
   ]
  },
  {
   "cell_type": "markdown",
   "metadata": {},
   "source": [
    "The `review_to_words` method defined above uses `BeautifulSoup` to remove any html tags that appear and uses the `nltk` package to tokenize the reviews. As a check to ensure we know how everything is working, try applying `review_to_words` to one of the reviews in the training set."
   ]
  },
  {
   "cell_type": "code",
   "execution_count": 8,
   "metadata": {},
   "outputs": [
    {
     "name": "stdout",
     "output_type": "stream",
     "text": [
      "['pallbear', 'disappoint', 'time', 'extrem', 'bore', 'love', 'stori', 'work', 'partli', 'cast', 'gwyneth', 'paltrow', 'juli', 'gwyneth', 'paltrow', 'walk', 'entir', 'film', 'confus', 'look', 'face', 'hard', 'tell', 'david', 'schwimmer', 'even', 'see', 'howev', 'pallbear', 'time', 'funni', 'particularli', 'church', 'scene', 'group', 'scene', 'friend', 'laugh', 'basic', 'watch', 'pallbear', 'scene', 'fast', 'forward', 'rest', 'trust', 'miss', 'much']\n"
     ]
    }
   ],
   "source": [
    "# TODO: Apply review_to_words to a review (train_X[100] or any other review)\n",
    "\n",
    "## Process a review\n",
    "words = review_to_words(train_X[100])\n",
    "\n",
    "## See the processed words\n",
    "print(words)"
   ]
  },
  {
   "cell_type": "markdown",
   "metadata": {},
   "source": [
    "**Question:** Above we mentioned that `review_to_words` method removes html formatting and allows us to tokenize the words found in a review, for example, converting *entertained* and *entertaining* into *entertain* so that they are treated as though they are the same word. What else, if anything, does this method do to the input?"
   ]
  },
  {
   "cell_type": "markdown",
   "metadata": {},
   "source": [
    "**Answer:**\n",
    "1. Converts every single words into lowercase format.\n",
    "2. Extracts every single words from the input long string and stored them into a list.\n",
    "3. Removes stopwords(frequently used words which convey little information)"
   ]
  },
  {
   "cell_type": "markdown",
   "metadata": {},
   "source": [
    "The method below applies the `review_to_words` method to each of the reviews in the training and testing datasets. In addition it caches the results. This is because performing this processing step can take a long time. This way if you are unable to complete the notebook in the current session, you can come back without needing to process the data a second time."
   ]
  },
  {
   "cell_type": "code",
   "execution_count": 9,
   "metadata": {},
   "outputs": [],
   "source": [
    "import pickle\n",
    "\n",
    "cache_dir = os.path.join(\"../cache\", \"sentiment_analysis\")  # where to store cache files\n",
    "os.makedirs(cache_dir, exist_ok=True)  # ensure cache directory exists\n",
    "\n",
    "def preprocess_data(data_train, data_test, labels_train, labels_test,\n",
    "                    cache_dir=cache_dir, cache_file=\"preprocessed_data.pkl\"):\n",
    "    \"\"\"Convert each review to words; read from cache if available.\"\"\"\n",
    "\n",
    "    # If cache_file is not None, try to read from it first\n",
    "    cache_data = None\n",
    "    if cache_file is not None:\n",
    "        try:\n",
    "            with open(os.path.join(cache_dir, cache_file), \"rb\") as f:\n",
    "                cache_data = pickle.load(f)\n",
    "            print(\"Read preprocessed data from cache file:\", cache_file)\n",
    "        except:\n",
    "            pass  # unable to read from cache, but that's okay\n",
    "    \n",
    "    # If cache is missing, then do the heavy lifting\n",
    "    if cache_data is None:\n",
    "        # Preprocess training and test data to obtain words for each review\n",
    "        #words_train = list(map(review_to_words, data_train))\n",
    "        #words_test = list(map(review_to_words, data_test))\n",
    "        words_train = [review_to_words(review) for review in data_train]\n",
    "        words_test = [review_to_words(review) for review in data_test]\n",
    "        \n",
    "        # Write to cache file for future runs\n",
    "        if cache_file is not None:\n",
    "            cache_data = dict(words_train=words_train, words_test=words_test,\n",
    "                              labels_train=labels_train, labels_test=labels_test)\n",
    "            with open(os.path.join(cache_dir, cache_file), \"wb\") as f:\n",
    "                pickle.dump(cache_data, f)\n",
    "            print(\"Wrote preprocessed data to cache file:\", cache_file)\n",
    "    else:\n",
    "        # Unpack data loaded from cache file\n",
    "        words_train, words_test, labels_train, labels_test = (cache_data['words_train'],\n",
    "                cache_data['words_test'], cache_data['labels_train'], cache_data['labels_test'])\n",
    "    \n",
    "    return words_train, words_test, labels_train, labels_test"
   ]
  },
  {
   "cell_type": "code",
   "execution_count": 10,
   "metadata": {},
   "outputs": [
    {
     "name": "stdout",
     "output_type": "stream",
     "text": [
      "Wrote preprocessed data to cache file: preprocessed_data.pkl\n"
     ]
    }
   ],
   "source": [
    "# Preprocess data\n",
    "train_X, test_X, train_y, test_y = preprocess_data(train_X, test_X, train_y, test_y)"
   ]
  },
  {
   "cell_type": "markdown",
   "metadata": {},
   "source": [
    "## Transform the data\n",
    "\n",
    "In the XGBoost notebook we transformed the data from its word representation to a bag-of-words feature representation. For the model we are going to construct in this notebook we will construct a feature representation which is very similar. To start, we will represent each word as an integer. Of course, some of the words that appear in the reviews occur very infrequently and so likely don't contain much information for the purposes of sentiment analysis. The way we will deal with this problem is that we will fix the size of our working vocabulary and we will only include the words that appear most frequently. We will then combine all of the infrequent words into a single category and, in our case, we will label it as `1`.\n",
    "\n",
    "Since we will be using a recurrent neural network, it will be convenient if the length of each review is the same. To do this, we will fix a size for our reviews and then pad short reviews with the category 'no word' (which we will label `0`) and truncate long reviews."
   ]
  },
  {
   "cell_type": "markdown",
   "metadata": {},
   "source": [
    "### (TODO) Create a word dictionary\n",
    "\n",
    "To begin with, we need to construct a way to map words that appear in the reviews to integers. Here we fix the size of our vocabulary (including the 'no word' and 'infrequent' categories) to be `5000` but you may wish to change this to see how it affects the model.\n",
    "\n",
    "> **TODO:** Complete the implementation for the `build_dict()` method below. Note that even though the vocab_size is set to `5000`, we only want to construct a mapping for the most frequently appearing `4998` words. This is because we want to reserve the special labels `0` for 'no word' and `1` for 'infrequent word'."
   ]
  },
  {
   "cell_type": "code",
   "execution_count": 11,
   "metadata": {},
   "outputs": [],
   "source": [
    "import numpy as np\n",
    "from collections import Counter\n",
    "\n",
    "def build_dict(data, vocab_size = 5000):\n",
    "    \"\"\"Construct and return a dictionary mapping each of the most frequently appearing words to a unique integer.\"\"\"\n",
    "    \n",
    "    # TODO: Determine how often each word appears in `data`. Note that `data` is a list of sentences and that a\n",
    "    #       sentence is a list of words.\n",
    "    \n",
    "    word_count = {} # A dict storing the words that appear in the reviews along with how often they occur\n",
    "    for sentence in data:\n",
    "        for word in sentence:\n",
    "            word_count[word] += 1 # Increment each word found\n",
    "    \n",
    "    # TODO: Sort the words found in `data` so that sorted_words[0] is the most frequently appearing word and\n",
    "    #       sorted_words[-1] is the least frequently appearing word.\n",
    "    \n",
    "    sorted_words = word_count.most_common()\n",
    "    \n",
    "    word_dict = {} # This is what we are building, a dictionary that translates words into integers\n",
    "    for idx, word in enumerate(sorted_words[:vocab_size - 2]): # The -2 is so that we save room for the 'no word'\n",
    "        word_dict[word] = idx + 2                              # 'infrequent' labels\n",
    "        \n",
    "    return word_dict"
   ]
  },
  {
   "cell_type": "code",
   "execution_count": 12,
   "metadata": {},
   "outputs": [],
   "source": [
    "word_dict = build_dict(train_X)"
   ]
  },
  {
   "cell_type": "markdown",
   "metadata": {},
   "source": [
    "**Question:** What are the five most frequently appearing (tokenized) words in the training set? Does it makes sense that these words appear frequently in the training set?"
   ]
  },
  {
   "cell_type": "markdown",
   "metadata": {},
   "source": [
    "**Answer:**"
   ]
  },
  {
   "cell_type": "code",
   "execution_count": 14,
   "metadata": {},
   "outputs": [
    {
     "name": "stdout",
     "output_type": "stream",
     "text": [
      "{('movi', 51695): 2, ('film', 48190): 3, ('one', 27741): 4, ('like', 22799): 5, ('time', 16191): 6, ('good', 15360): 7, ('make', 15207): 8, ('charact', 14178): 9, ('get', 14141): 10, ('see', 14111): 11, ('watch', 13940): 12, ('stori', 13168): 13, ('even', 12906): 14, ('would', 12436): 15, ('realli', 11736): 16, ('well', 11042): 17, ('scene', 10586): 18, ('look', 10051): 19, ('show', 9878): 20, ('much', 9765): 21, ('end', 9651): 22, ('peopl', 9391): 23, ('bad', 9344): 24, ('go', 9305): 25, ('great', 9171): 26, ('also', 9156): 27, ('first', 9062): 28, ('love', 9027): 29, ('think', 8913): 30, ('way', 8830): 31, ('act', 8794): 32, ('play', 8730): 33, ('made', 8362): 34, ('thing', 8213): 35, ('could', 7921): 36, ('know', 7514): 37, ('say', 7457): 38, ('seem', 7220): 39, ('work', 7101): 40, ('plot', 6967): 41, ('two', 6908): 42, ('actor', 6876): 43, ('year', 6874): 44, ('come', 6747): 45, ('mani', 6688): 46, ('seen', 6681): 47, ('take', 6654): 48, ('life', 6640): 49, ('want', 6640): 50, ('never', 6484): 51, ('littl', 6435): 52, ('best', 6424): 53, ('tri', 6357): 54, ('man', 6036): 55, ('ever', 5999): 56, ('give', 5792): 57, ('better', 5749): 58, ('still', 5664): 59, ('perform', 5528): 60, ('find', 5449): 61, ('feel', 5300): 62, ('part', 5247): 63, ('back', 5133): 64, ('use', 5123): 65, ('someth', 5122): 66, ('director', 5120): 67, ('actual', 5065): 68, ('interest', 4893): 69, ('lot', 4778): 70, ('real', 4741): 71, ('old', 4583): 72, ('cast', 4573): 73, ('though', 4566): 74, ('live', 4477): 75, ('star', 4447): 76, ('enjoy', 4353): 77, ('guy', 4339): 78, ('anoth', 4325): 79, ('new', 4315): 80, ('role', 4300): 81, ('noth', 4296): 82, ('10', 4289): 83, ('funni', 4288): 84, ('music', 4247): 85, ('point', 4238): 86, ('start', 4166): 87, ('set', 4116): 88, ('girl', 4064): 89, ('origin', 4044): 90, ('day', 4013): 91, ('world', 3979): 92, ('everi', 3977): 93, ('believ', 3917): 94, ('turn', 3880): 95, ('quit', 3841): 96, ('us', 3794): 97, ('direct', 3794): 98, ('thought', 3773): 99, ('fact', 3749): 100, ('minut', 3739): 101, ('horror', 3717): 102, ('kill', 3701): 103, ('action', 3694): 104, ('comedi', 3686): 105, ('pretti', 3665): 106, ('young', 3664): 107, ('wonder', 3639): 108, ('happen', 3624): 109, ('around', 3616): 110, ('got', 3583): 111, ('effect', 3581): 112, ('right', 3554): 113, ('long', 3540): 114, ('howev', 3537): 115, ('big', 3477): 116, ('line', 3458): 117, ('famili', 3454): 118, ('enough', 3452): 119, ('seri', 3420): 120, ('may', 3392): 121, ('need', 3378): 122, ('fan', 3370): 123, ('bit', 3348): 124, ('script', 3342): 125, ('beauti', 3292): 126, ('person', 3274): 127, ('becom', 3272): 128, ('without', 3268): 129, ('must', 3250): 130, ('alway', 3243): 131, ('friend', 3230): 132, ('tell', 3215): 133, ('reason', 3206): 134, ('saw', 3178): 135, ('last', 3158): 136, ('final', 3153): 137, ('kid', 3148): 138, ('almost', 3139): 139, ('put', 3132): 140, ('least', 3112): 141, ('sure', 3100): 142, ('done', 3096): 143, ('whole', 3080): 144, ('place', 3048): 145, ('complet', 3035): 146, ('kind', 3008): 147, ('expect', 3007): 148, ('differ', 3007): 149, ('shot', 2998): 150, ('far', 2978): 151, ('mean', 2961): 152, ('anyth', 2949): 153, ('book', 2935): 154, ('laugh', 2926): 155, ('might', 2919): 156, ('name', 2917): 157, ('sinc', 2906): 158, ('begin', 2905): 159, ('2', 2882): 160, ('probabl', 2874): 161, ('woman', 2838): 162, ('help', 2828): 163, ('entertain', 2827): 164, ('let', 2821): 165, ('screen', 2799): 166, ('call', 2792): 167, ('tv', 2786): 168, ('moment', 2784): 169, ('away', 2782): 170, ('read', 2762): 171, ('yet', 2753): 172, ('rather', 2733): 173, ('worst', 2731): 174, ('run', 2723): 175, ('fun', 2694): 176, ('lead', 2684): 177, ('hard', 2681): 178, ('audienc', 2675): 179, ('idea', 2638): 180, ('anyon', 2632): 181, ('episod', 2629): 182, ('american', 2618): 183, ('found', 2608): 184, ('appear', 2567): 185, ('bore', 2549): 186, ('especi', 2539): 187, ('although', 2537): 188, ('hope', 2529): 189, ('keep', 2520): 190, ('cours', 2520): 191, ('anim', 2483): 192, ('job', 2461): 193, ('goe', 2441): 194, ('move', 2434): 195, ('sens', 2416): 196, ('version', 2410): 197, ('dvd', 2410): 198, ('war', 2394): 199, ('money', 2370): 200, ('someon', 2363): 201, ('mind', 2354): 202, ('mayb', 2340): 203, ('problem', 2337): 204, ('true', 2333): 205, ('hous', 2328): 206, ('everyth', 2323): 207, ('nice', 2312): 208, ('second', 2309): 209, ('rate', 2300): 210, ('three', 2297): 211, ('night', 2293): 212, ('face', 2292): 213, ('follow', 2292): 214, ('recommend', 2290): 215, ('product', 2283): 216, ('main', 2283): 217, ('worth', 2280): 218, ('leav', 2272): 219, ('human', 2262): 220, ('special', 2258): 221, ('excel', 2251): 222, ('togeth', 2247): 223, ('wast', 2229): 224, ('sound', 2228): 225, ('everyon', 2228): 226, ('john', 2222): 227, ('hand', 2221): 228, ('1', 2213): 229, ('father', 2206): 230, ('later', 2202): 231, ('eye', 2200): 232, ('said', 2196): 233, ('view', 2193): 234, ('instead', 2190): 235, ('review', 2184): 236, ('boy', 2178): 237, ('high', 2174): 238, ('hour', 2164): 239, ('miss', 2160): 240, ('talk', 2159): 241, ('classic', 2159): 242, ('wife', 2140): 243, ('understand', 2132): 244, ('left', 2125): 245, ('care', 2124): 246, ('black', 2123): 247, ('death', 2113): 248, ('open', 2103): 249, ('murder', 2102): 250, ('write', 2096): 251, ('half', 2094): 252, ('head', 2075): 253, ('rememb', 2070): 254, ('chang', 2062): 255, ('viewer', 2047): 256, ('fight', 2040): 257, ('gener', 2022): 258, ('surpris', 2021): 259, ('includ', 2020): 260, ('short', 2020): 261, ('die', 2012): 262, ('fall', 2004): 263, ('less', 2003): 264, ('els', 2002): 265, ('entir', 1993): 266, ('piec', 1981): 267, ('involv', 1980): 268, ('pictur', 1968): 269, ('simpli', 1965): 270, ('home', 1957): 271, ('power', 1957): 272, ('top', 1957): 273, ('total', 1948): 274, ('usual', 1946): 275, ('budget', 1933): 276, ('attempt', 1932): 277, ('suppos', 1924): 278, ('releas', 1921): 279, ('hollywood', 1920): 280, ('terribl', 1917): 281, ('song', 1916): 282, ('men', 1915): 283, ('possibl', 1913): 284, ('featur', 1903): 285, ('portray', 1902): 286, ('disappoint', 1900): 287, ('poor', 1899): 288, ('3', 1898): 289, ('coupl', 1894): 290, ('stupid', 1888): 291, ('camera', 1888): 292, ('dead', 1883): 293, ('wrong', 1872): 294, ('produc', 1870): 295, ('low', 1870): 296, ('video', 1866): 297, ('either', 1866): 298, ('aw', 1861): 299, ('definit', 1856): 300, ('except', 1854): 301, ('rest', 1852): 302, ('given', 1849): 303, ('absolut', 1845): 304, ('women', 1827): 305, ('lack', 1821): 306, ('word', 1817): 307, ('writer', 1814): 308, ('titl', 1793): 309, ('talent', 1787): 310, ('decid', 1786): 311, ('full', 1783): 312, ('perfect', 1778): 313, ('along', 1777): 314, ('style', 1760): 315, ('close', 1744): 316, ('truli', 1743): 317, ('school', 1732): 318, ('emot', 1731): 319, ('save', 1731): 320, ('sex', 1726): 321, ('age', 1726): 322, ('next', 1716): 323, ('bring', 1715): 324, ('mr', 1708): 325, ('case', 1706): 326, ('killer', 1700): 327, ('heart', 1688): 328, ('comment', 1687): 329, ('sort', 1684): 330, ('creat', 1683): 331, ('perhap', 1681): 332, ('came', 1673): 333, ('brother', 1664): 334, ('sever', 1663): 335, ('joke', 1656): 336, ('art', 1653): 337, ('dialogu', 1652): 338, ('game', 1651): 339, ('small', 1648): 340, ('base', 1645): 341, ('flick', 1629): 342, ('written', 1616): 343, ('sequenc', 1609): 344, ('meet', 1608): 345, ('earli', 1605): 346, ('often', 1601): 347, ('other', 1598): 348, ('mother', 1597): 349, ('develop', 1595): 350, ('humor', 1592): 351, ('actress', 1588): 352, ('consid', 1585): 353, ('dark', 1573): 354, ('guess', 1565): 355, ('amaz', 1563): 356, ('unfortun', 1562): 357, ('light', 1555): 358, ('lost', 1555): 359, ('exampl', 1554): 360, ('cinema', 1553): 361, ('drama', 1552): 362, ('ye', 1551): 363, ('white', 1551): 364, ('experi', 1548): 365, ('imagin', 1547): 366, ('mention', 1545): 367, ('stop', 1543): 368, ('natur', 1541): 369, ('forc', 1534): 370, ('manag', 1529): 371, ('felt', 1528): 372, ('present', 1520): 373, ('cut', 1520): 374, ('children', 1515): 375, ('fail', 1511): 376, ('son', 1506): 377, ('qualiti', 1505): 378, ('support', 1505): 379, ('car', 1505): 380, ('ask', 1500): 381, ('hit', 1497): 382, ('side', 1490): 383, ('voic', 1482): 384, ('extrem', 1473): 385, ('impress', 1472): 386, ('evil', 1468): 387, ('wors', 1468): 388, ('went', 1463): 389, ('stand', 1463): 390, ('certainli', 1462): 391, ('basic', 1453): 392, ('oh', 1450): 393, ('overal', 1434): 394, ('favorit', 1421): 395, ('horribl', 1418): 396, ('mysteri', 1416): 397, ('number', 1413): 398, ('type', 1408): 399, ('danc', 1405): 400, ('wait', 1400): 401, ('hero', 1389): 402, ('alreadi', 1381): 403, ('5', 1381): 404, ('learn', 1375): 405, ('matter', 1373): 406, ('4', 1372): 407, ('michael', 1370): 408, ('genr', 1367): 409, ('fine', 1366): 410, ('despit', 1364): 411, ('throughout', 1360): 412, ('walk', 1358): 413, ('success', 1344): 414, ('histori', 1338): 415, ('question', 1333): 416, ('zombi', 1331): 417, ('town', 1328): 418, ('realiz', 1327): 419, ('relationship', 1327): 420, ('past', 1324): 421, ('child', 1324): 422, ('daughter', 1312): 423, ('late', 1309): 424, ('b', 1306): 425, ('wish', 1303): 426, ('hate', 1295): 427, ('credit', 1295): 428, ('event', 1293): 429, ('theme', 1292): 430, ('touch', 1284): 431, ('citi', 1283): 432, ('today', 1282): 433, ('sometim', 1281): 434, ('behind', 1280): 435, ('god', 1271): 436, ('twist', 1268): 437, ('sit', 1263): 438, ('annoy', 1260): 439, ('deal', 1260): 440, ('stay', 1260): 441, ('abl', 1259): 442, ('rent', 1256): 443, ('pleas', 1253): 444, ('edit', 1250): 445, ('blood', 1245): 446, ('deserv', 1236): 447, ('comic', 1230): 448, ('anyway', 1230): 449, ('appar', 1226): 450, ('soon', 1222): 451, ('gave', 1216): 452, ('etc', 1212): 453, ('level', 1210): 454, ('slow', 1207): 455, ('chanc', 1204): 456, ('score', 1203): 457, ('bodi', 1199): 458, ('brilliant', 1196): 459, ('incred', 1194): 460, ('figur', 1190): 461, ('situat', 1188): 462, ('major', 1185): 463, ('self', 1185): 464, ('stuff', 1181): 465, ('decent', 1178): 466, ('element', 1176): 467, ('dream', 1174): 468, ('return', 1174): 469, ('obvious', 1168): 470, ('order', 1159): 471, ('continu', 1159): 472, ('pace', 1156): 473, ('ridicul', 1154): 474, ('happi', 1151): 475, ('highli', 1147): 476, ('add', 1147): 477, ('group', 1147): 478, ('thank', 1146): 479, ('ladi', 1145): 480, ('novel', 1130): 481, ('speak', 1129): 482, ('pain', 1129): 483, ('career', 1116): 484, ('shoot', 1115): 485, ('strang', 1114): 486, ('heard', 1111): 487, ('sad', 1108): 488, ('husband', 1105): 489, ('polic', 1105): 490, ('import', 1103): 491, ('break', 1101): 492, ('took', 1100): 493, ('cannot', 1096): 494, ('strong', 1096): 495, ('robert', 1095): 496, ('predict', 1095): 497, ('violenc', 1091): 498, ('hilari', 1090): 499, ('recent', 1089): 500, ('countri', 1086): 501, ('known', 1081): 502, ('particularli', 1079): 503, ('pick', 1078): 504, ('documentari', 1074): 505, ('season', 1072): 506, ('critic', 1071): 507, ('jame', 1069): 508, ('compar', 1068): 509, ('alon', 1066): 510, ('obviou', 1066): 511, ('told', 1063): 512, ('state', 1060): 513, ('rock', 1058): 514, ('visual', 1058): 515, ('exist', 1057): 516, ('offer', 1057): 517, ('theater', 1057): 518, ('opinion', 1056): 519, ('gore', 1055): 520, ('crap', 1054): 521, ('hold', 1054): 522, ('result', 1052): 523, ('hear', 1050): 524, ('room', 1050): 525, ('realiti', 1050): 526, ('effort', 1047): 527, ('clich', 1047): 528, ('thriller', 1046): 529, ('caus', 1044): 530, ('sequel', 1042): 531, ('explain', 1042): 532, ('serious', 1042): 533, ('king', 1036): 534, ('local', 1035): 535, ('ago', 1033): 536, ('none', 1032): 537, ('hell', 1032): 538, ('note', 1027): 539, ('allow', 1026): 540, ('sister', 1025): 541, ('david', 1025): 542, ('simpl', 1023): 543, ('femal', 1022): 544, ('deliv', 1021): 545, ('ok', 1017): 546, ('class', 1012): 547, ('convinc', 1012): 548, ('check', 1011): 549, ('suspens', 1009): 550, ('win', 1008): 551, ('buy', 1007): 552, ('oscar', 1007): 553, ('huge', 1006): 554, ('valu', 1004): 555, ('sexual', 1000): 556, ('cool', 998): 557, ('scari', 998): 558, ('excit', 996): 559, ('similar', 996): 560, ('apart', 995): 561, ('provid', 995): 562, ('exactli', 995): 563, ('avoid', 994): 564, ('shown', 994): 565, ('seriou', 989): 566, ('english', 987): 567, ('taken', 986): 568, ('whose', 986): 569, ('cinematographi', 983): 570, ('shock', 979): 571, ('polit', 978): 572, ('spoiler', 976): 573, ('offic', 975): 574, ('across', 971): 575, ('middl', 969): 576, ('pass', 968): 577, ('street', 968): 578, ('messag', 966): 579, ('silli', 965): 580, ('charm', 965): 581, ('somewhat', 965): 582, ('modern', 964): 583, ('filmmak', 959): 584, ('confus', 959): 585, ('form', 957): 586, ('tale', 956): 587, ('singl', 950): 588, ('jack', 945): 589, ('mostli', 941): 590, ('carri', 940): 591, ('attent', 940): 592, ('william', 940): 593, ('sing', 939): 594, ('subject', 938): 595, ('five', 938): 596, ('prove', 937): 597, ('richard', 937): 598, ('stage', 935): 599, ('team', 935): 600, ('cop', 934): 601, ('unlik', 934): 602, ('georg', 933): 603, ('televis', 932): 604, ('monster', 932): 605, ('earth', 929): 606, ('cover', 927): 607, ('villain', 927): 608, ('pay', 924): 609, ('marri', 923): 610, ('toward', 922): 611, ('build', 921): 612, ('pull', 920): 613, ('parent', 920): 614, ('due', 918): 615, ('respect', 917): 616, ('fill', 917): 617, ('four', 915): 618, ('dialog', 915): 619, ('remind', 913): 620, ('futur', 912): 621, ('typic', 908): 622, ('weak', 908): 623, ('7', 904): 624, ('cheap', 903): 625, ('intellig', 902): 626, ('atmospher', 901): 627, ('british', 901): 628, ('clearli', 899): 629, ('80', 899): 630, ('non', 898): 631, ('dog', 898): 632, ('paul', 898): 633, ('knew', 897): 634, ('8', 897): 635, ('artist', 897): 636, ('fast', 897): 637, ('crime', 896): 638, ('easili', 892): 639, ('escap', 889): 640, ('doubt', 887): 641, ('adult', 887): 642, ('detail', 884): 643, ('date', 883): 644, ('romant', 879): 645, ('fire', 879): 646, ('member', 879): 647, ('drive', 872): 648, ('gun', 872): 649, ('straight', 869): 650, ('fit', 866): 651, ('beyond', 866): 652, ('attack', 864): 653, ('imag', 860): 654, ('upon', 859): 655, ('posit', 858): 656, ('whether', 856): 657, ('peter', 855): 658, ('fantast', 855): 659, ('captur', 852): 660, ('appreci', 852): 661, ('aspect', 852): 662, ('ten', 851): 663, ('plan', 850): 664, ('discov', 849): 665, ('remain', 846): 666, ('period', 843): 667, ('near', 843): 668, ('air', 842): 669, ('realist', 842): 670, ('mark', 838): 671, ('red', 837): 672, ('dull', 836): 673, ('adapt', 835): 674, ('within', 832): 675, ('spend', 828): 676, ('lose', 828): 677, ('materi', 827): 678, ('color', 827): 679, ('chase', 824): 680, ('mari', 823): 681, ('storylin', 822): 682, ('forget', 821): 683, ('bunch', 819): 684, ('clear', 818): 685, ('lee', 817): 686, ('victim', 816): 687, ('nearli', 815): 688, ('box', 813): 689, ('york', 812): 690, ('inspir', 811): 691, ('match', 811): 692, ('mess', 809): 693, ('finish', 809): 694, ('standard', 808): 695, ('easi', 806): 696, ('truth', 805): 697, ('busi', 802): 698, ('suffer', 802): 699, ('dramat', 799): 700, ('space', 799): 701, ('bill', 799): 702, ('western', 798): 703, ('e', 797): 704, ('list', 796): 705, ('battl', 795): 706, ('notic', 793): 707, ('de', 792): 708, ('french', 790): 709, ('ad', 788): 710, ('9', 787): 711, ('tom', 785): 712, ('larg', 784): 713, ('among', 783): 714, ('eventu', 782): 715, ('accept', 781): 716, ('train', 781): 717, ('agre', 779): 718, ('spirit', 778): 719, ('soundtrack', 778): 720, ('third', 776): 721, ('teenag', 775): 722, ('adventur', 773): 723, ('soldier', 773): 724, ('famou', 771): 725, ('sorri', 771): 726, ('suggest', 771): 727, ('drug', 771): 728, ('babi', 770): 729, ('normal', 770): 730, ('cri', 770): 731, ('troubl', 769): 732, ('ultim', 769): 733, ('contain', 765): 734, ('certain', 764): 735, ('cultur', 762): 736, ('romanc', 760): 737, ('rare', 759): 738, ('lame', 758): 739, ('somehow', 757): 740, ('mix', 755): 741, ('disney', 755): 742, ('gone', 754): 743, ('cartoon', 753): 744, ('student', 752): 745, ('reveal', 751): 746, ('fear', 751): 747, ('suck', 750): 748, ('kept', 750): 749, ('attract', 749): 750, ('appeal', 748): 751, ('premis', 747): 752, ('greatest', 745): 753, ('design', 745): 754, ('secret', 745): 755, ('shame', 743): 756, ('throw', 742): 757, ('copi', 741): 758, ('scare', 741): 759, ('wit', 739): 760, ('admit', 738): 761, ('america', 738): 762, ('brought', 737): 763, ('relat', 737): 764, ('particular', 737): 765, ('screenplay', 735): 766, ('whatev', 734): 767, ('pure', 733): 768, ('70', 732): 769, ('averag', 730): 770, ('harri', 730): 771, ('master', 729): 772, ('describ', 728): 773, ('treat', 727): 774, ('male', 727): 775, ('20', 726): 776, ('issu', 725): 777, ('fantasi', 725): 778, ('warn', 724): 779, ('inde', 722): 780, ('forward', 719): 781, ('background', 719): 782, ('free', 717): 783, ('project', 717): 784, ('japanes', 714): 785, ('memor', 714): 786, ('poorli', 713): 787, ('award', 712): 788, ('locat', 711): 789, ('potenti', 710): 790, ('amus', 710): 791, ('struggl', 709): 792, ('weird', 708): 793, ('magic', 708): 794, ('societi', 707): 795, ('okay', 706): 796, ('accent', 704): 797, ('doctor', 704): 798, ('imdb', 704): 799, ('hot', 703): 800, ('water', 703): 801, ('express', 702): 802, ('30', 702): 803, ('dr', 702): 804, ('alien', 702): 805, ('odd', 701): 806, ('choic', 699): 807, ('crazi', 699): 808, ('studio', 698): 809, ('fiction', 698): 810, ('control', 697): 811, ('becam', 697): 812, ('masterpiec', 696): 813, ('difficult', 695): 814, ('fli', 695): 815, ('joe', 692): 816, ('scream', 690): 817, ('costum', 689): 818, ('lover', 688): 819, ('uniqu', 687): 820, ('refer', 687): 821, ('remak', 686): 822, ('girlfriend', 684): 823, ('vampir', 684): 824, ('prison', 682): 825, ('execut', 680): 826, ('wear', 678): 827, ('jump', 677): 828, ('wood', 675): 829, ('unless', 675): 830, ('creepi', 673): 831, ('cheesi', 672): 832, ('superb', 671): 833, ('otherwis', 670): 834, ('parti', 668): 835, ('roll', 666): 836, ('ghost', 666): 837, ('public', 664): 838, ('mad', 664): 839, ('depict', 663): 840, ('earlier', 662): 841, ('badli', 662): 842, ('moral', 662): 843, ('jane', 662): 844, ('week', 662): 845, ('dumb', 660): 846, ('fi', 660): 847, ('grow', 659): 848, ('flaw', 659): 849, ('deep', 658): 850, ('sci', 658): 851, ('maker', 657): 852, ('cat', 657): 853, ('connect', 656): 854, ('older', 656): 855, ('footag', 656): 856, ('plenti', 655): 857, ('bother', 655): 858, ('outsid', 653): 859, ('stick', 650): 860, ('gay', 649): 861, ('catch', 647): 862, ('plu', 645): 863, ('co', 645): 864, ('popular', 643): 865, ('equal', 642): 866, ('social', 641): 867, ('disturb', 639): 868, ('quickli', 639): 869, ('perfectli', 637): 870, ('dress', 636): 871, ('90', 635): 872, ('era', 635): 873, ('mistak', 634): 874, ('lie', 632): 875, ('previou', 630): 876, ('ride', 630): 877, ('combin', 629): 878, ('band', 627): 879, ('concept', 627): 880, ('answer', 626): 881, ('rich', 626): 882, ('surviv', 626): 883, ('front', 624): 884, ('sweet', 623): 885, ('christma', 623): 886, ('insid', 622): 887, ('eat', 621): 888, ('bare', 621): 889, ('concern', 621): 890, ('ben', 619): 891, ('beat', 619): 892, ('listen', 619): 893, ('c', 617): 894, ('term', 615): 895, ('serv', 615): 896, ('meant', 614): 897, ('german', 614): 898, ('la', 614): 899, ('hardli', 613): 900, ('stereotyp', 613): 901, ('innoc', 609): 902, ('law', 609): 903, ('desper', 608): 904, ('memori', 607): 905, ('promis', 607): 906, ('intent', 604): 907, ('cute', 604): 908, ('variou', 603): 909, ('steal', 603): 910, ('inform', 603): 911, ('brain', 601): 912, ('post', 600): 913, ('tone', 599): 914, ('island', 598): 915, ('amount', 597): 916, ('track', 596): 917, ('nuditi', 596): 918, ('compani', 596): 919, ('claim', 595): 920, ('store', 595): 921, ('50', 594): 922, ('hair', 594): 923, ('flat', 594): 924, ('univers', 592): 925, ('land', 592): 926, ('scott', 587): 927, ('fairli', 587): 928, ('kick', 587): 929, ('danger', 587): 930, ('player', 586): 931, ('plain', 584): 932, ('step', 584): 933, ('crew', 584): 934, ('toni', 582): 935, ('share', 581): 936, ('centuri', 580): 937, ('tast', 580): 938, ('achiev', 578): 939, ('engag', 578): 940, ('cold', 577): 941, ('travel', 577): 942, ('suit', 576): 943, ('rip', 576): 944, ('record', 576): 945, ('sadli', 575): 946, ('manner', 575): 947, ('spot', 574): 948, ('wrote', 574): 949, ('tension', 574): 950, ('intens', 573): 951, ('fascin', 573): 952, ('familiar', 572): 953, ('depth', 570): 954, ('remark', 570): 955, ('burn', 570): 956, ('destroy', 569): 957, ('histor', 569): 958, ('sleep', 568): 959, ('purpos', 567): 960, ('languag', 566): 961, ('ruin', 565): 962, ('ignor', 565): 963, ('delight', 564): 964, ('unbeliev', 563): 965, ('italian', 563): 966, ('abil', 562): 967, ('soul', 562): 968, ('collect', 562): 969, ('clever', 561): 970, ('detect', 561): 971, ('violent', 560): 972, ('rape', 559): 973, ('reach', 558): 974, ('door', 557): 975, ('liter', 556): 976, ('trash', 556): 977, ('scienc', 556): 978, ('caught', 555): 979, ('reveng', 555): 980, ('commun', 555): 981, ('creatur', 554): 982, ('trip', 552): 983, ('approach', 552): 984, ('intrigu', 550): 985, ('fashion', 550): 986, ('introduc', 549): 987, ('skill', 549): 988, ('paint', 549): 989, ('channel', 548): 990, ('complex', 548): 991, ('camp', 546): 992, ('christian', 544): 993, ('extra', 543): 994, ('hole', 543): 995, ('mental', 542): 996, ('immedi', 542): 997, ('limit', 542): 998, ('ann', 542): 999, ('mere', 541): 1000, ('slightli', 541): 1001, ('6', 541): 1002, ('million', 541): 1003, ('comput', 541): 1004, ('conclus', 539): 1005, ('slasher', 539): 1006, ('suddenli', 538): 1007, ('imposs', 538): 1008, ('neither', 537): 1009, ('teen', 537): 1010, ('crimin', 537): 1011, ('physic', 536): 1012, ('spent', 536): 1013, ('nation', 536): 1014, ('respons', 535): 1015, ('planet', 534): 1016, ('receiv', 532): 1017, ('fake', 532): 1018, ('sick', 531): 1019, ('blue', 531): 1020, ('bizarr', 529): 1021, ('embarrass', 528): 1022, ('indian', 527): 1023, ('15', 525): 1024, ('ring', 525): 1025, ('drop', 524): 1026, ('pop', 524): 1027, ('drag', 523): 1028, ('haunt', 521): 1029, ('pointless', 519): 1030, ('suspect', 519): 1031, ('search', 517): 1032, ('edg', 517): 1033, ('handl', 516): 1034, ('biggest', 515): 1035, ('common', 515): 1036, ('hurt', 514): 1037, ('faith', 514): 1038, ('arriv', 514): 1039, ('technic', 513): 1040, ('angel', 512): 1041, ('genuin', 511): 1042, ('dad', 511): 1043, ('f', 510): 1044, ('solid', 510): 1045, ('awesom', 510): 1046, ('focu', 509): 1047, ('van', 509): 1048, ('former', 509): 1049, ('colleg', 509): 1050, ('count', 507): 1051, ('tear', 506): 1052, ('heavi', 506): 1053, ('wall', 505): 1054, ('rais', 505): 1055, ('younger', 504): 1056, ('laughabl', 504): 1057, ('visit', 504): 1058, ('excus', 503): 1059, ('sign', 503): 1060, ('fair', 503): 1061, ('cult', 502): 1062, ('key', 501): 1063, ('tough', 501): 1064, ('motion', 501): 1065, ('desir', 500): 1066, ('super', 500): 1067, ('addit', 499): 1068, ('stun', 499): 1069, ('exploit', 497): 1070, ('cloth', 497): 1071, ('tortur', 496): 1072, ('smith', 496): 1073, ('davi', 495): 1074, ('race', 495): 1075, ('author', 494): 1076, ('cross', 494): 1077, ('jim', 492): 1078, ('minor', 491): 1079, ('compel', 491): 1080, ('focus', 491): 1081, ('consist', 491): 1082, ('pathet', 490): 1083, ('commit', 490): 1084, ('chemistri', 490): 1085, ('park', 489): 1086, ('obsess', 488): 1087, ('tradit', 488): 1088, ('frank', 488): 1089, ('grade', 487): 1090, ('asid', 486): 1091, ('60', 486): 1092, ('brutal', 485): 1093, ('steve', 483): 1094, ('somewher', 483): 1095, ('opportun', 482): 1096, ('u', 482): 1097, ('depress', 482): 1098, ('rule', 482): 1099, ('explor', 482): 1100, ('grant', 482): 1101, ('besid', 481): 1102, ('honest', 481): 1103, ('dub', 480): 1104, ('anti', 480): 1105, ('intend', 479): 1106, ('trailer', 479): 1107, ('bar', 478): 1108, ('west', 477): 1109, ('longer', 477): 1110, ('scientist', 477): 1111, ('regard', 477): 1112, ('decad', 476): 1113, ('judg', 476): 1114, ('silent', 475): 1115, ('creativ', 474): 1116, ('armi', 474): 1117, ('wild', 473): 1118, ('g', 472): 1119, ('south', 472): 1120, ('stewart', 472): 1121, ('draw', 471): 1122, ('road', 470): 1123, ('govern', 469): 1124, ('boss', 468): 1125, ('ex', 468): 1126, ('practic', 467): 1127, ('motiv', 466): 1128, ('festiv', 466): 1129, ('club', 466): 1130, ('gang', 466): 1131, ('surprisingli', 466): 1132, ('redeem', 465): 1133, ('page', 465): 1134, ('green', 465): 1135, ('london', 465): 1136, ('idiot', 464): 1137, ('display', 464): 1138, ('aliv', 464): 1139, ('militari', 464): 1140, ('machin', 464): 1141, ('repeat', 463): 1142, ('thrill', 463): 1143, ('folk', 462): 1144, ('yeah', 462): 1145, ('nobodi', 462): 1146, ('100', 462): 1147, ('40', 461): 1148, ('garbag', 460): 1149, ('journey', 460): 1150, ('ground', 459): 1151, ('tire', 459): 1152, ('smile', 459): 1153, ('bought', 458): 1154, ('mood', 458): 1155, ('stone', 457): 1156, ('cost', 457): 1157, ('sam', 457): 1158, ('mouth', 456): 1159, ('noir', 456): 1160, ('terrif', 455): 1161, ('agent', 455): 1162, ('utterli', 454): 1163, ('requir', 454): 1164, ('area', 453): 1165, ('sexi', 453): 1166, ('honestli', 453): 1167, ('geniu', 452): 1168, ('report', 452): 1169, ('investig', 451): 1170, ('glad', 451): 1171, ('humour', 451): 1172, ('enter', 451): 1173, ('serial', 450): 1174, ('narr', 449): 1175, ('occasion', 449): 1176, ('passion', 449): 1177, ('marriag', 448): 1178, ('climax', 448): 1179, ('studi', 447): 1180, ('industri', 447): 1181, ('center', 446): 1182, ('nowher', 446): 1183, ('demon', 446): 1184, ('ship', 446): 1185, ('charli', 446): 1186, ('bear', 445): 1187, ('loos', 445): 1188, ('hors', 445): 1189, ('hang', 444): 1190, ('wow', 444): 1191, ('graphic', 442): 1192, ('giant', 440): 1193, ('admir', 440): 1194, ('send', 439): 1195, ('loud', 438): 1196, ('damn', 438): 1197, ('rel', 437): 1198, ('subtl', 437): 1199, ('profession', 437): 1200, ('nake', 437): 1201, ('blow', 436): 1202, ('bottom', 435): 1203, ('batman', 434): 1204, ('insult', 434): 1205, ('boyfriend', 433): 1206, ('kelli', 433): 1207, ('doubl', 433): 1208, ('r', 433): 1209, ('initi', 431): 1210, ('frame', 430): 1211, ('gem', 429): 1212, ('opera', 429): 1213, ('cinemat', 428): 1214, ('challeng', 428): 1215, ('drawn', 428): 1216, ('church', 428): 1217, ('affect', 428): 1218, ('fulli', 426): 1219, ('nightmar', 426): 1220, ('j', 426): 1221, ('l', 426): 1222, ('evid', 426): 1223, ('seek', 426): 1224, ('arm', 425): 1225, ('conflict', 425): 1226, ('essenti', 425): 1227, ('grace', 424): 1228, ('wind', 424): 1229, ('henri', 424): 1230, ('christoph', 424): 1231, ('narrat', 423): 1232, ('assum', 423): 1233, ('witch', 423): 1234, ('push', 422): 1235, ('hunt', 422): 1236, ('wise', 421): 1237, ('chri', 421): 1238, ('month', 420): 1239, ('nomin', 420): 1240, ('repres', 420): 1241, ('affair', 419): 1242, ('sceneri', 419): 1243, ('avail', 419): 1244, ('hide', 419): 1245, ('thu', 418): 1246, ('smart', 418): 1247, ('justic', 418): 1248, ('bond', 418): 1249, ('flashback', 417): 1250, ('outstand', 417): 1251, ('interview', 417): 1252, ('presenc', 416): 1253, ('constantli', 416): 1254, ('satisfi', 416): 1255, ('bed', 415): 1256, ('central', 415): 1257, ('content', 414): 1258, ('sell', 414): 1259, ('iron', 414): 1260, ('gag', 413): 1261, ('everybodi', 413): 1262, ('slowli', 412): 1263, ('hotel', 412): 1264, ('hire', 411): 1265, ('system', 410): 1266, ('individu', 409): 1267, ('thrown', 409): 1268, ('charl', 409): 1269, ('hey', 409): 1270, ('adam', 409): 1271, ('allen', 408): 1272, ('jone', 408): 1273, ('mediocr', 408): 1274, ('ray', 407): 1275, ('billi', 407): 1276, ('lesson', 407): 1277, ('cameo', 406): 1278, ('photographi', 406): 1279, ('fellow', 405): 1280, ('pari', 405): 1281, ('strike', 404): 1282, ('absurd', 403): 1283, ('brief', 403): 1284, ('rise', 403): 1285, ('independ', 403): 1286, ('neg', 402): 1287, ('phone', 401): 1288, ('impact', 401): 1289, ('model', 400): 1290, ('born', 400): 1291, ('ill', 400): 1292, ('fresh', 399): 1293, ('angl', 399): 1294, ('spoil', 399): 1295, ('abus', 398): 1296, ('likabl', 398): 1297, ('hill', 397): 1298, ('discuss', 397): 1299, ('ahead', 396): 1300, ('sight', 396): 1301, ('photograph', 395): 1302, ('sent', 395): 1303, ('shine', 394): 1304, ('logic', 394): 1305, ('blame', 394): 1306, ('occur', 394): 1307, ('mainli', 393): 1308, ('bruce', 393): 1309, ('commerci', 392): 1310, ('skip', 392): 1311, ('forev', 392): 1312, ('segment', 391): 1313, ('teacher', 391): 1314, ('surround', 391): 1315, ('held', 391): 1316, ('blond', 390): 1317, ('zero', 390): 1318, ('trap', 389): 1319, ('summer', 389): 1320, ('satir', 389): 1321, ('resembl', 389): 1322, ('fool', 388): 1323, ('six', 388): 1324, ('queen', 388): 1325, ('ball', 388): 1326, ('twice', 387): 1327, ('sub', 387): 1328, ('tragedi', 387): 1329, ('pack', 386): 1330, ('reaction', 386): 1331, ('bomb', 385): 1332, ('protagonist', 384): 1333, ('will', 384): 1334, ('hospit', 384): 1335, ('sport', 383): 1336, ('mile', 383): 1337, ('vote', 382): 1338, ('mom', 382): 1339, ('trust', 382): 1340, ('jerri', 382): 1341, ('drink', 382): 1342, ('encount', 381): 1343, ('plane', 380): 1344, ('program', 379): 1345, ('current', 379): 1346, ('al', 379): 1347, ('station', 379): 1348, ('choos', 378): 1349, ('celebr', 378): 1350, ('martin', 378): 1351, ('join', 377): 1352, ('field', 376): 1353, ('round', 376): 1354, ('tragic', 376): 1355, ('favourit', 376): 1356, ('lord', 376): 1357, ('vision', 375): 1358, ('jean', 375): 1359, ('robot', 375): 1360, ('tie', 374): 1361, ('arthur', 374): 1362, ('roger', 373): 1363, ('fortun', 373): 1364, ('random', 373): 1365, ('intern', 372): 1366, ('dread', 372): 1367, ('psycholog', 372): 1368, ('improv', 371): 1369, ('nonsens', 371): 1370, ('epic', 371): 1371, ('prefer', 371): 1372, ('pleasur', 370): 1373, ('legend', 370): 1374, ('highlight', 370): 1375, ('formula', 370): 1376, ('11', 369): 1377, ('dollar', 369): 1378, ('tape', 369): 1379, ('thin', 368): 1380, ('gorgeou', 368): 1381, ('fox', 368): 1382, ('wide', 368): 1383, ('object', 368): 1384, ('porn', 368): 1385, ('buddi', 367): 1386, ('influenc', 367): 1387, ('ugli', 367): 1388, ('ii', 366): 1389, ('prepar', 366): 1390, ('nasti', 366): 1391, ('warm', 365): 1392, ('reflect', 365): 1393, ('supposedli', 365): 1394, ('progress', 365): 1395, ('youth', 364): 1396, ('worthi', 364): 1397, ('unusu', 362): 1398, ('length', 362): 1399, ('latter', 362): 1400, ('crash', 361): 1401, ('childhood', 360): 1402, ('seven', 360): 1403, ('superior', 360): 1404, ('shop', 360): 1405, ('remot', 359): 1406, ('theatr', 359): 1407, ('paid', 358): 1408, ('funniest', 358): 1409, ('disgust', 358): 1410, ('pilot', 358): 1411, ('convers', 357): 1412, ('trick', 357): 1413, ('fell', 357): 1414, ('castl', 357): 1415, ('disast', 356): 1416, ('rob', 356): 1417, ('establish', 356): 1418, ('gangster', 356): 1419, ('mine', 355): 1420, ('suicid', 355): 1421, ('disappear', 355): 1422, ('heaven', 355): 1423, ('ident', 355): 1424, ('heroin', 353): 1425, ('mask', 353): 1426, ('decis', 353): 1427, ('singer', 353): 1428, ('forgotten', 353): 1429, ('tend', 353): 1430, ('partner', 352): 1431, ('brian', 352): 1432, ('alan', 351): 1433, ('desert', 351): 1434, ('recogn', 351): 1435, ('p', 350): 1436, ('stuck', 350): 1437, ('ms', 350): 1438, ('thoroughli', 350): 1439, ('sky', 350): 1440, ('replac', 349): 1441, ('accur', 349): 1442, ('market', 348): 1443, ('seemingli', 347): 1444, ('uncl', 347): 1445, ('commentari', 347): 1446, ('andi', 347): 1447, ('clue', 347): 1448, ('danni', 347): 1449, ('eddi', 347): 1450, ('devil', 346): 1451, ('jackson', 346): 1452, ('refus', 345): 1453, ('therefor', 345): 1454, ('pair', 345): 1455, ('that', 345): 1456, ('fault', 344): 1457, ('accid', 344): 1458, ('unit', 344): 1459, ('ed', 344): 1460, ('fate', 344): 1461, ('river', 344): 1462, ('afraid', 343): 1463, ('tune', 343): 1464, ('clean', 342): 1465, ('stephen', 342): 1466, ('hidden', 342): 1467, ('russian', 342): 1468, ('test', 341): 1469, ('irrit', 341): 1470, ('quick', 341): 1471, ('convey', 341): 1472, ('instanc', 341): 1473, ('readi', 341): 1474, ('captain', 341): 1475, ('european', 340): 1476, ('insan', 339): 1477, ('frustrat', 339): 1478, ('daniel', 339): 1479, ('1950', 338): 1480, ('wed', 338): 1481, ('food', 338): 1482, ('rescu', 338): 1483, ('chines', 338): 1484, ('lock', 337): 1485, ('dirti', 337): 1486, ('angri', 337): 1487, ('joy', 336): 1488, ('steven', 335): 1489, ('price', 335): 1490, ('bland', 334): 1491, ('cage', 334): 1492, ('anymor', 333): 1493, ('rang', 333): 1494, ('wooden', 332): 1495, ('rush', 331): 1496, ('n', 331): 1497, ('news', 331): 1498, ('jason', 331): 1499, ('board', 330): 1500, ('12', 330): 1501, ('twenti', 330): 1502, ('worri', 330): 1503, ('led', 330): 1504, ('martial', 330): 1505, ('symbol', 329): 1506, ('hunter', 329): 1507, ('transform', 329): 1508, ('cgi', 329): 1509, ('sentiment', 328): 1510, ('onto', 328): 1511, ('x', 328): 1512, ('johnni', 328): 1513, ('piti', 328): 1514, ('invent', 328): 1515, ('attitud', 327): 1516, ('explan', 327): 1517, ('process', 327): 1518, ('awar', 326): 1519, ('owner', 326): 1520, ('aim', 325): 1521, ('floor', 324): 1522, ('favor', 324): 1523, ('necessari', 324): 1524, ('energi', 324): 1525, ('target', 324): 1526, ('opposit', 323): 1527, ('religi', 323): 1528, ('blind', 322): 1529, ('chick', 322): 1530, ('window', 322): 1531, ('insight', 322): 1532, ('movement', 321): 1533, ('deepli', 320): 1534, ('mountain', 320): 1535, ('research', 320): 1536, ('possess', 320): 1537, ('comparison', 320): 1538, ('whatsoev', 319): 1539, ('grand', 319): 1540, ('comed', 319): 1541, ('rain', 319): 1542, ('shadow', 318): 1543, ('mid', 318): 1544, ('began', 318): 1545, ('bank', 318): 1546, ('parodi', 317): 1547, ('princ', 317): 1548, ('credibl', 316): 1549, ('taylor', 316): 1550, ('friendship', 316): 1551, ('weapon', 316): 1552, ('pre', 316): 1553, ('teach', 315): 1554, ('flesh', 315): 1555, ('dougla', 315): 1556, ('protect', 314): 1557, ('terror', 314): 1558, ('hint', 314): 1559, ('bloodi', 314): 1560, ('marvel', 312): 1561, ('drunk', 311): 1562, ('anybodi', 311): 1563, ('accord', 311): 1564, ('leader', 311): 1565, ('watchabl', 311): 1566, ('load', 311): 1567, ('superman', 311): 1568, ('freddi', 310): 1569, ('brown', 310): 1570, ('jeff', 309): 1571, ('seat', 309): 1572, ('appropri', 309): 1573, ('tim', 309): 1574, ('hitler', 309): 1575, ('villag', 308): 1576, ('knock', 308): 1577, ('keaton', 308): 1578, ('unknown', 308): 1579, ('charg', 308): 1580, ('empti', 307): 1581, ('media', 307): 1582, ('unnecessari', 307): 1583, ('enemi', 307): 1584, ('england', 307): 1585, ('utter', 306): 1586, ('craft', 306): 1587, ('strength', 306): 1588, ('buck', 306): 1589, ('wave', 306): 1590, ('dare', 306): 1591, ('perspect', 306): 1592, ('contrast', 305): 1593, ('correct', 305): 1594, ('nativ', 305): 1595, ('ford', 305): 1596, ('kiss', 305): 1597, ('anywher', 304): 1598, ('distract', 304): 1599, ('chill', 304): 1600, ('knowledg', 304): 1601, ('magnific', 304): 1602, ('nazi', 304): 1603, ('speed', 304): 1604, ('soap', 304): 1605, ('mission', 303): 1606, ('ice', 303): 1607, ('1980', 303): 1608, ('fred', 303): 1609, ('breath', 303): 1610, ('crowd', 302): 1611, ('jr', 302): 1612, ('moon', 302): 1613, ('joan', 302): 1614, ('soft', 301): 1615, ('frighten', 301): 1616, ('kate', 301): 1617, ('000', 301): 1618, ('dick', 300): 1619, ('dan', 300): 1620, ('nick', 300): 1621, ('hundr', 300): 1622, ('simon', 299): 1623, ('dozen', 299): 1624, ('radio', 299): 1625, ('somebodi', 299): 1626, ('academi', 298): 1627, ('thousand', 298): 1628, ('loss', 298): 1629, ('shakespear', 298): 1630, ('andrew', 298): 1631, ('quot', 297): 1632, ('root', 297): 1633, ('vehicl', 297): 1634, ('account', 297): 1635, ('sum', 297): 1636, ('leg', 296): 1637, ('convent', 296): 1638, ('1970', 296): 1639, ('behavior', 296): 1640, ('gold', 295): 1641, ('regular', 295): 1642, ('pretenti', 294): 1643, ('compet', 294): 1644, ('worker', 294): 1645, ('demand', 294): 1646, ('explos', 293): 1647, ('lynch', 293): 1648, ('interpret', 293): 1649, ('notabl', 293): 1650, ('candi', 293): 1651, ('japan', 293): 1652, ('privat', 293): 1653, ('stretch', 293): 1654, ('constant', 292): 1655, ('debut', 292): 1656, ('tarzan', 292): 1657, ('revolv', 291): 1658, ('translat', 291): 1659, ('sea', 291): 1660, ('prais', 291): 1661, ('spi', 291): 1662, ('franc', 290): 1663, ('jesu', 290): 1664, ('quiet', 290): 1665, ('threaten', 290): 1666, ('technolog', 290): 1667, ('failur', 290): 1668, ('sat', 290): 1669, ('ass', 290): 1670, ('met', 289): 1671, ('toy', 289): 1672, ('punch', 289): 1673, ('kevin', 289): 1674, ('higher', 289): 1675, ('aid', 289): 1676, ('vh', 288): 1677, ('interact', 288): 1678, ('abandon', 288): 1679, ('mike', 288): 1680, ('separ', 287): 1681, ('bet', 287): 1682, ('confront', 287): 1683, ('command', 287): 1684, ('techniqu', 286): 1685, ('recal', 286): 1686, ('stunt', 286): 1687, ('gotten', 286): 1688, ('belong', 286): 1689, ('servic', 286): 1690, ('site', 286): 1691, ('freak', 285): 1692, ('foot', 285): 1693, ('bug', 285): 1694, ('cabl', 285): 1695, ('jimmi', 284): 1696, ('african', 284): 1697, ('bright', 284): 1698, ('capabl', 284): 1699, ('fu', 284): 1700, ('stock', 283): 1701, ('succeed', 283): 1702, ('boat', 283): 1703, ('fat', 283): 1704, ('clark', 283): 1705, ('presid', 283): 1706, ('structur', 282): 1707, ('gene', 282): 1708, ('spanish', 282): 1709, ('paper', 281): 1710, ('kidnap', 281): 1711, ('belief', 280): 1712, ('factor', 280): 1713, ('whilst', 280): 1714, ('attend', 279): 1715, ('realism', 279): 1716, ('realis', 279): 1717, ('complic', 279): 1718, ('witti', 279): 1719, ('tree', 279): 1720, ('bob', 279): 1721, ('educ', 279): 1722, ('broken', 278): 1723, ('finest', 278): 1724, ('assist', 278): 1725, ('santa', 278): 1726, ('v', 277): 1727, ('up', 277): 1728, ('smoke', 277): 1729, ('observ', 277): 1730, ('depart', 277): 1731, ('determin', 277): 1732, ('rubbish', 276): 1733, ('fame', 276): 1734, ('hat', 276): 1735, ('oper', 276): 1736, ('lewi', 276): 1737, ('routin', 276): 1738, ('domin', 276): 1739, ('safe', 275): 1740, ('hook', 275): 1741, ('advanc', 275): 1742, ('lone', 275): 1743, ('kinda', 275): 1744, ('foreign', 275): 1745, ('morgan', 275): 1746, ('rank', 274): 1747, ('numer', 274): 1748, ('civil', 273): 1749, ('washington', 273): 1750, ('werewolf', 273): 1751, ('vs', 273): 1752, ('shallow', 273): 1753, ('shape', 273): 1754, ('rose', 273): 1755, ('gari', 272): 1756, ('morn', 272): 1757, ('winner', 271): 1758, ('accomplish', 271): 1759, ('ordinari', 271): 1760, ('kong', 271): 1761, ('whenev', 270): 1762, ('peac', 270): 1763, ('grab', 270): 1764, ('virtual', 270): 1765, ('offens', 269): 1766, ('h', 269): 1767, ('luck', 269): 1768, ('bigger', 268): 1769, ('complain', 268): 1770, ('contriv', 268): 1771, ('activ', 268): 1772, ('welcom', 268): 1773, ('patient', 268): 1774, ('unfunni', 268): 1775, ('trek', 267): 1776, ('dimension', 267): 1777, ('con', 267): 1778, ('pretend', 267): 1779, ('flash', 266): 1780, ('cain', 266): 1781, ('eric', 266): 1782, ('wake', 266): 1783, ('dri', 266): 1784, ('code', 266): 1785, ('lesbian', 266): 1786, ('manipul', 265): 1787, ('dancer', 265): 1788, ('corrupt', 265): 1789, ('albert', 265): 1790, ('statu', 265): 1791, ('guard', 265): 1792, ('awkward', 264): 1793, ('gain', 264): 1794, ('context', 264): 1795, ('speech', 264): 1796, ('signific', 264): 1797, ('sourc', 264): 1798, ('corni', 263): 1799, ('sean', 263): 1800, ('13', 263): 1801, ('psycho', 263): 1802, ('clip', 263): 1803, ('anthoni', 263): 1804, ('w', 262): 1805, ('curiou', 262): 1806, ('advic', 262): 1807, ('theatric', 262): 1808, ('religion', 262): 1809, ('priest', 262): 1810, ('reli', 262): 1811, ('flow', 261): 1812, ('addict', 261): 1813, ('skin', 260): 1814, ('jennif', 260): 1815, ('asian', 260): 1816, ('secur', 260): 1817, ('specif', 260): 1818, ('howard', 260): 1819, ('golden', 259): 1820, ('core', 259): 1821, ('luke', 259): 1822, ('organ', 259): 1823, ('comfort', 259): 1824, ('promot', 259): 1825, ('cheat', 258): 1826, ('cash', 258): 1827, ('lucki', 258): 1828, ('associ', 257): 1829, ('lower', 257): 1830, ('dislik', 257): 1831, ('degre', 256): 1832, ('frequent', 256): 1833, ('frankli', 256): 1834, ('regret', 256): 1835, ('balanc', 256): 1836, ('wing', 256): 1837, ('devic', 256): 1838, ('contribut', 256): 1839, ('spell', 256): 1840, ('forgiv', 255): 1841, ('sake', 255): 1842, ('print', 255): 1843, ('lake', 255): 1844, ('mass', 254): 1845, ('thoma', 254): 1846, ('betti', 254): 1847, ('unexpect', 253): 1848, ('gordon', 253): 1849, ('crack', 253): 1850, ('construct', 252): 1851, ('grown', 252): 1852, ('invit', 252): 1853, ('amateur', 252): 1854, ('unfold', 252): 1855, ('depend', 252): 1856, ('categori', 252): 1857, ('anna', 251): 1858, ('honor', 251): 1859, ('grew', 251): 1860, ('intellectu', 251): 1861, ('matur', 251): 1862, ('condit', 251): 1863, ('walter', 251): 1864, ('mirror', 250): 1865, ('sole', 250): 1866, ('spectacular', 250): 1867, ('sudden', 250): 1868, ('veteran', 250): 1869, ('demonstr', 249): 1870, ('overli', 249): 1871, ('robin', 249): 1872, ('grip', 249): 1873, ('meanwhil', 249): 1874, ('gift', 249): 1875, ('liner', 249): 1876, ('experienc', 249): 1877, ('freedom', 249): 1878, ('card', 249): 1879, ('drew', 248): 1880, ('subtitl', 248): 1881, ('crappi', 248): 1882, ('circumst', 248): 1883, ('theori', 248): 1884, ('colour', 248): 1885, ('sheriff', 248): 1886, ('unabl', 248): 1887, ('brilliantli', 248): 1888, ('section', 248): 1889, ('oliv', 248): 1890, ('pile', 247): 1891, ('path', 247): 1892, ('cook', 247): 1893, ('altern', 247): 1894, ('sheer', 247): 1895, ('laughter', 247): 1896, ('matt', 247): 1897, ('parker', 247): 1898, ('treatment', 246): 1899, ('hall', 246): 1900, ('wander', 246): 1901, ('relief', 246): 1902, ('sinatra', 246): 1903, ('lawyer', 246): 1904, ('defin', 246): 1905, ('accident', 246): 1906, ('hank', 245): 1907, ('captiv', 245): 1908, ('dragon', 245): 1909, ('halloween', 244): 1910, ('gratuit', 244): 1911, ('moor', 244): 1912, ('k', 243): 1913, ('kung', 243): 1914, ('jacki', 243): 1915, ('broadway', 243): 1916, ('unintent', 243): 1917, ('barbara', 243): 1918, ('wound', 243): 1919, ('wayn', 243): 1920, ('cowboy', 243): 1921, ('winter', 242): 1922, ('surreal', 242): 1923, ('spoof', 242): 1924, ('statement', 242): 1925, ('canadian', 242): 1926, ('gonna', 241): 1927, ('compos', 241): 1928, ('fare', 241): 1929, ('cheer', 241): 1930, ('treasur', 241): 1931, ('fish', 241): 1932, ('sensit', 240): 1933, ('victor', 240): 1934, ('woodi', 240): 1935, ('emerg', 240): 1936, ('unrealist', 240): 1937, ('ran', 239): 1938, ('driven', 239): 1939, ('neighbor', 239): 1940, ('sympathet', 239): 1941, ('expos', 238): 1942, ('overlook', 238): 1943, ('authent', 238): 1944, ('menac', 238): 1945, ('glass', 238): 1946, ('topic', 238): 1947, ('michel', 237): 1948, ('ancient', 237): 1949, ('chief', 237): 1950, ('handsom', 237): 1951, ('gross', 237): 1952, ('built', 236): 1953, ('russel', 236): 1954, ('network', 236): 1955, ('pleasant', 236): 1956, ('stranger', 236): 1957, ('feet', 236): 1958, ('comedian', 236): 1959, ('nevertheless', 236): 1960, ('contemporari', 236): 1961, ('cinderella', 236): 1962, ('consider', 235): 1963, ('miser', 235): 1964, ('gori', 235): 1965, ('earn', 235): 1966, ('endless', 235): 1967, ('blockbust', 235): 1968, ('letter', 235): 1969, ('underr', 235): 1970, ('switch', 234): 1971, ('brook', 234): 1972, ('solv', 234): 1973, ('edward', 233): 1974, ('joseph', 233): 1975, ('victoria', 233): 1976, ('virgin', 233): 1977, ('convict', 233): 1978, ('bullet', 233): 1979, ('alex', 232): 1980, ('0', 232): 1981, ('chosen', 232): 1982, ('scale', 232): 1983, ('cynic', 232): 1984, ('scenario', 232): 1985, ('curs', 231): 1986, ('outrag', 231): 1987, ('com', 231): 1988, ('sword', 231): 1989, ('gut', 231): 1990, ('substanc', 230): 1991, ('monkey', 230): 1992, ('screenwrit', 230): 1993, ('wrap', 230): 1994, ('juli', 230): 1995, ('uk', 230): 1996, ('driver', 230): 1997, ('proper', 230): 1998, ('indic', 229): 1999, ('remov', 229): 2000, ('court', 229): 2001, ('par', 229): 2002, ('bird', 229): 2003, ('consequ', 228): 2004, ('naiv', 228): 2005, ('advertis', 228): 2006, ('loser', 228): 2007, ('inevit', 228): 2008, ('roy', 228): 2009, ('nanci', 228): 2010, ('rental', 228): 2011, ('grave', 228): 2012, ('germani', 227): 2013, ('bridg', 227): 2014, ('le', 227): 2015, ('fatal', 227): 2016, ('brave', 227): 2017, ('invis', 227): 2018, ('slap', 227): 2019, ('loui', 226): 2020, ('footbal', 226): 2021, ('provok', 226): 2022, ('ador', 226): 2023, ('anger', 226): 2024, ('chan', 225): 2025, ('anderson', 225): 2026, ('alcohol', 225): 2027, ('willi', 224): 2028, ('ryan', 224): 2029, ('professor', 224): 2030, ('stumbl', 224): 2031, ('bat', 223): 2032, ('australian', 223): 2033, ('sharp', 223): 2034, ('1930', 223): 2035, ('assassin', 223): 2036, ('patrick', 223): 2037, ('heck', 222): 2038, ('amateurish', 222): 2039, ('saturday', 222): 2040, ('lousi', 222): 2041, ('liber', 222): 2042, ('deni', 222): 2043, ('refresh', 222): 2044, ('ape', 222): 2045, ('eight', 222): 2046, ('cell', 222): 2047, ('strongli', 222): 2048, ('trilog', 222): 2049, ('sin', 221): 2050, ('vagu', 220): 2051, ('san', 220): 2052, ('resid', 220): 2053, ('justifi', 220): 2054, ('sympathi', 219): 2055, ('terrifi', 219): 2056, ('reput', 219): 2057, ('creator', 219): 2058, ('defeat', 219): 2059, ('mini', 219): 2060, ('indi', 219): 2061, ('task', 218): 2062, ('tediou', 218): 2063, ('prevent', 218): 2064, ('expert', 218): 2065, ('endur', 218): 2066, ('tabl', 218): 2067, ('basebal', 217): 2068, ('che', 217): 2069, ('rival', 217): 2070, ('imit', 217): 2071, ('offend', 217): 2072, ('employ', 217): 2073, ('trial', 217): 2074, ('pitch', 216): 2075, ('complaint', 216): 2076, ('max', 216): 2077, ('europ', 216): 2078, ('fairi', 216): 2079, ('beach', 216): 2080, ('weekend', 216): 2081, ('dig', 216): 2082, ('format', 215): 2083, ('murphi', 215): 2084, ('risk', 215): 2085, ('purchas', 215): 2086, ('tini', 214): 2087, ('reminisc', 214): 2088, ('harsh', 214): 2089, ('nois', 214): 2090, ('titan', 214): 2091, ('powel', 214): 2092, ('bite', 214): 2093, ('glimps', 214): 2094, ('hype', 214): 2095, ('fals', 213): 2096, ('14', 213): 2097, ('strip', 213): 2098, ('prime', 213): 2099, ('north', 213): 2100, ('asleep', 213): 2101, ('till', 213): 2102, ('destruct', 212): 2103, ('africa', 212): 2104, ('texa', 212): 2105, ('revel', 212): 2106, ('descript', 212): 2107, ('surfac', 211): 2108, ('arrest', 211): 2109, ('uninterest', 211): 2110, ('semi', 211): 2111, ('spin', 211): 2112, ('inner', 211): 2113, ('excess', 211): 2114, ('sitcom', 211): 2115, ('massiv', 210): 2116, ('makeup', 210): 2117, ('argu', 210): 2118, ('dinosaur', 210): 2119, ('maintain', 210): 2120, ('hitchcock', 210): 2121, ('controversi', 210): 2122, ('twin', 210): 2123, ('ideal', 209): 2124, ('ludicr', 209): 2125, ('insist', 209): 2126, ('reject', 209): 2127, ('kim', 209): 2128, ('expens', 209): 2129, ('stare', 209): 2130, ('melodrama', 209): 2131, ('atroci', 208): 2132, ('erot', 208): 2133, ('supernatur', 208): 2134, ('ala', 208): 2135, ('forest', 208): 2136, ('host', 208): 2137, ('ga', 208): 2138, ('press', 208): 2139, ('columbo', 208): 2140, ('nail', 208): 2141, ('subplot', 208): 2142, ('presum', 207): 2143, ('identifi', 207): 2144, ('cant', 207): 2145, ('dude', 207): 2146, ('notch', 207): 2147, ('plagu', 206): 2148, ('forgett', 206): 2149, ('guest', 206): 2150, ('character', 206): 2151, ('closer', 206): 2152, ('crude', 206): 2153, ('method', 206): 2154, ('border', 205): 2155, ('lion', 205): 2156, ('ear', 205): 2157, ('princess', 205): 2158, ('landscap', 205): 2159, ('beast', 205): 2160, ('foster', 205): 2161, ('bound', 204): 2162, ('jungl', 204): 2163, ('birth', 204): 2164, ('pacino', 204): 2165, ('previous', 204): 2166, ('accus', 204): 2167, ('storytel', 204): 2168, ('aunt', 204): 2169, ('damag', 204): 2170, ('urban', 204): 2171, ('guid', 203): 2172, ('thirti', 203): 2173, ('chose', 203): 2174, ('jess', 203): 2175, ('emma', 203): 2176, ('doll', 203): 2177, ('nude', 203): 2178, ('propaganda', 203): 2179, ('25', 202): 2180, ('warrior', 202): 2181, ('pet', 202): 2182, ('whoever', 202): 2183, ('mainstream', 202): 2184, ('mate', 202): 2185, ('size', 201): 2186, ('cooper', 201): 2187, ('upset', 201): 2188, ('merit', 201): 2189, ('exact', 201): 2190, ('latest', 201): 2191, ('deadli', 201): 2192, ('gritti', 201): 2193, ('poster', 201): 2194, ('friday', 201): 2195, ('rough', 200): 2196, ('corps', 200): 2197, ('citizen', 200): 2198, ('warner', 200): 2199, ('ton', 200): 2200, ('1990', 200): 2201, ('settl', 200): 2202, ('sun', 200): 2203, ('buff', 200): 2204, ('popul', 200): 2205, ('blend', 200): 2206, ('contact', 200): 2207, ('wilson', 200): 2208, ('contest', 200): 2209, ('widow', 199): 2210, ('mgm', 199): 2211, ('environ', 199): 2212, ('bu', 199): 2213, ('pitt', 199): 2214, ('overcom', 199): 2215, ('alic', 199): 2216, ('select', 199): 2217, ('rat', 199): 2218, ('metal', 199): 2219, ('guilti', 198): 2220, ('link', 198): 2221, ('lift', 198): 2222, ('revolut', 198): 2223, ('particip', 198): 2224, ('ted', 198): 2225, ('matrix', 197): 2226, ('exagger', 197): 2227, ('moron', 197): 2228, ('johnson', 197): 2229, ('accompani', 197): 2230, ('corpor', 197): 2231, ('afternoon', 197): 2232, ('1960', 197): 2233, ('prostitut', 197): 2234, ('corner', 197): 2235, ('holm', 196): 2236, ('hood', 196): 2237, ('instal', 196): 2238, ('leagu', 196): 2239, ('clair', 196): 2240, ('sincer', 196): 2241, ('multipl', 196): 2242, ('doom', 196): 2243, ('friendli', 196): 2244, ('aka', 195): 2245, ('campi', 195): 2246, ('sunday', 195): 2247, ('junk', 195): 2248, ('irish', 195): 2249, ('blah', 195): 2250, ('defend', 195): 2251, ('string', 195): 2252, ('grim', 195): 2253, ('advis', 195): 2254, ('lugosi', 195): 2255, ('examin', 195): 2256, ('hip', 195): 2257, ('confid', 194): 2258, ('icon', 194): 2259, ('pro', 194): 2260, ('tight', 194): 2261, ('rachel', 194): 2262, ('shut', 194): 2263, ('varieti', 194): 2264, ('shake', 194): 2265, ('directli', 193): 2266, ('goal', 193): 2267, ('mexican', 193): 2268, ('medic', 193): 2269, ('denni', 193): 2270, ('sullivan', 193): 2271, ('jaw', 193): 2272, ('attach', 193): 2273, ('sentenc', 192): 2274, ('truck', 192): 2275, ('terrorist', 192): 2276, ('courag', 192): 2277, ('sarah', 192): 2278, ('dean', 192): 2279, ('duke', 192): 2280, ('vietnam', 192): 2281, ('breast', 192): 2282, ('prior', 192): 2283, ('legendari', 192): 2284, ('bourn', 192): 2285, ('behav', 191): 2286, ('un', 191): 2287, ('proceed', 191): 2288, ('donald', 191): 2289, ('split', 191): 2290, ('yell', 191): 2291, ('entri', 191): 2292, ('hong', 191): 2293, ('nose', 191): 2294, ('forth', 190): 2295, ('gather', 190): 2296, ('everywher', 190): 2297, ('buri', 190): 2298, ('lifetim', 190): 2299, ('stolen', 190): 2300, ('confess', 190): 2301, ('swim', 190): 2302, ('concentr', 190): 2303, ('crush', 190): 2304, ('jerk', 190): 2305, ('borrow', 190): 2306, ('unconvinc', 190): 2307, ('julia', 189): 2308, ('spite', 189): 2309, ('pan', 189): 2310, ('california', 189): 2311, ('deliveri', 189): 2312, ('turkey', 189): 2313, ('lip', 189): 2314, ('downright', 188): 2315, ('reward', 188): 2316, ('proud', 188): 2317, ('hoffman', 188): 2318, ('china', 188): 2319, ('quest', 188): 2320, ('offici', 188): 2321, ('flight', 188): 2322, ('freeman', 188): 2323, ('sir', 187): 2324, ('inept', 187): 2325, ('sink', 187): 2326, ('worthwhil', 187): 2327, ('betray', 187): 2328, ('lazi', 187): 2329, ('fabul', 187): 2330, ('jon', 187): 2331, ('notori', 187): 2332, ('fade', 187): 2333, ('encourag', 187): 2334, ('jail', 187): 2335, ('retard', 186): 2336, ('lisa', 186): 2337, ('teeth', 186): 2338, ('relev', 186): 2339, ('susan', 186): 2340, ('bell', 186): 2341, ('branagh', 186): 2342, ('bag', 186): 2343, ('survivor', 186): 2344, ('cousin', 186): 2345, ('imageri', 186): 2346, ('storm', 186): 2347, ('shower', 186): 2348, ('tremend', 185): 2349, ('trade', 185): 2350, ('finger', 185): 2351, ('facial', 185): 2352, ('hugh', 185): 2353, ('summari', 185): 2354, ('alright', 185): 2355, ('toler', 185): 2356, ('quirki', 185): 2357, ('shark', 185): 2358, ('bride', 185): 2359, ('mexico', 185): 2360, ('stab', 185): 2361, ('bitter', 184): 2362, ('blown', 184): 2363, ('hyster', 184): 2364, ('ha', 184): 2365, ('von', 184): 2366, ('pose', 184): 2367, ('afterward', 183): 2368, ('address', 183): 2369, ('scheme', 183): 2370, ('cruel', 183): 2371, ('ron', 183): 2372, ('christ', 183): 2373, ('ned', 183): 2374, ('larri', 183): 2375, ('bone', 183): 2376, ('thumb', 182): 2377, ('beg', 182): 2378, ('pursu', 182): 2379, ('screw', 182): 2380, ('tour', 182): 2381, ('snake', 182): 2382, ('distinct', 182): 2383, ('feed', 182): 2384, ('swear', 182): 2385, ('traci', 182): 2386, ('stomach', 181): 2387, ('raw', 181): 2388, ('photo', 181): 2389, ('mechan', 181): 2390, ('obscur', 181): 2391, ('occas', 181): 2392, ('chair', 181): 2393, ('resist', 180): 2394, ('chain', 180): 2395, ('sidney', 180): 2396, ('cabin', 180): 2397, ('gruesom', 180): 2398, ('holiday', 180): 2399, ('heavili', 180): 2400, ('southern', 180): 2401, ('argument', 180): 2402, ('render', 180): 2403, ('necessarili', 180): 2404, ('hardi', 180): 2405, ('philip', 179): 2406, ('racist', 179): 2407, ('understood', 179): 2408, ('indulg', 179): 2409, ('india', 179): 2410, ('satan', 179): 2411, ('outfit', 178): 2412, ('pregnant', 178): 2413, ('obnoxi', 178): 2414, ('lay', 178): 2415, ('integr', 178): 2416, ('belov', 178): 2417, ('stalk', 178): 2418, ('forgot', 178): 2419, ('fourth', 178): 2420, ('tongu', 178): 2421, ('midnight', 178): 2422, ('ticket', 177): 2423, ('deeper', 177): 2424, ('magazin', 177): 2425, ('garden', 177): 2426, ('17', 177): 2427, ('inhabit', 177): 2428, ('slapstick', 177): 2429, ('restor', 177): 2430, ('carol', 177): 2431, ('incid', 176): 2432, ('shoe', 176): 2433, ('brad', 176): 2434, ('devot', 176): 2435, ('lincoln', 176): 2436, ('maria', 175): 2437, ('benefit', 175): 2438, ('divorc', 175): 2439, ('disbelief', 175): 2440, ('underground', 175): 2441, ('guarante', 175): 2442, ('lili', 175): 2443, ('sandler', 175): 2444, ('elizabeth', 175): 2445, ('anticip', 175): 2446, ('princip', 174): 2447, ('greater', 174): 2448, ('slave', 174): 2449, ('cring', 174): 2450, ('mildli', 174): 2451, ('creation', 174): 2452, ('amazingli', 174): 2453, ('explod', 174): 2454, ('capit', 174): 2455, ('bbc', 174): 2456, ('extraordinari', 173): 2457, ('introduct', 173): 2458, ('halfway', 173): 2459, ('funnier', 173): 2460, ('lesli', 173): 2461, ('overwhelm', 172): 2462, ('text', 172): 2463, ('extent', 172): 2464, ('wreck', 172): 2465, ('advantag', 172): 2466, ('punish', 172): 2467, ('enhanc', 172): 2468, ('tap', 172): 2469, ('transfer', 172): 2470, ('lo', 171): 2471, ('horrif', 171): 2472, ('dynam', 171): 2473, ('error', 171): 2474, ('jessica', 171): 2475, ('deliber', 171): 2476, ('preview', 171): 2477, ('east', 171): 2478, ('lane', 171): 2479, ('plant', 171): 2480, ('sophist', 170): 2481, ('miller', 170): 2482, ('basi', 170): 2483, ('2000', 170): 2484, ('vacat', 170): 2485, ('ensu', 170): 2486, ('vincent', 170): 2487, ('homosexu', 170): 2488, ('miscast', 170): 2489, ('appli', 170): 2490, ('mansion', 169): 2491, ('measur', 169): 2492, ('bollywood', 169): 2493, ('elev', 169): 2494, ('sleazi', 169): 2495, ('spoken', 169): 2496, ('uncomfort', 169): 2497, ('steel', 169): 2498, ('extend', 169): 2499, ('reed', 169): 2500, ('via', 169): 2501, ('stanley', 168): 2502, ('mous', 168): 2503, ('fix', 168): 2504, ('breathtak', 168): 2505, ('cathol', 168): 2506, ('hippi', 168): 2507, ('melt', 168): 2508, ('overact', 168): 2509, ('assign', 168): 2510, ('alter', 168): 2511, ('beer', 168): 2512, ('daili', 168): 2513, ('conceiv', 168): 2514, ('savag', 168): 2515, ('blair', 168): 2516, ('dentist', 168): 2517, ('goofi', 168): 2518, ('sacrific', 167): 2519, ('properli', 167): 2520, ('burt', 167): 2521, ('succe', 167): 2522, ('subsequ', 167): 2523, ('carpent', 167): 2524, ('everyday', 167): 2525, ('inspector', 167): 2526, ('oppos', 167): 2527, ('nowaday', 167): 2528, ('massacr', 166): 2529, ('neck', 166): 2530, ('block', 166): 2531, ('laura', 166): 2532, ('circl', 166): 2533, ('fallen', 165): 2534, ('grey', 165): 2535, ('concert', 165): 2536, ('portrait', 165): 2537, ('lesser', 165): 2538, ('access', 165): 2539, ('mob', 165): 2540, ('fay', 165): 2541, ('christi', 165): 2542, ('pool', 165): 2543, ('seagal', 165): 2544, ('isol', 164): 2545, ('react', 164): 2546, ('jake', 164): 2547, ('sinist', 164): 2548, ('usa', 164): 2549, ('competit', 164): 2550, ('relax', 164): 2551, ('chees', 164): 2552, ('jewish', 164): 2553, ('lyric', 163): 2554, ('suitabl', 163): 2555, ('ironi', 163): 2556, ('immens', 163): 2557, ('nonetheless', 163): 2558, ('nine', 163): 2559, ('appal', 163): 2560, ('stink', 163): 2561, ('chop', 163): 2562, ('2006', 163): 2563, ('spiritu', 163): 2564, ('creep', 163): 2565, ('reduc', 162): 2566, ('navi', 162): 2567, ('spring', 162): 2568, ('needless', 162): 2569, ('retir', 162): 2570, ('showcas', 162): 2571, ('franchis', 162): 2572, ('shirt', 162): 2573, ('luci', 162): 2574, ('sold', 162): 2575, ('rage', 162): 2576, ('user', 162): 2577, ('adopt', 162): 2578, ('nut', 162): 2579, ('zone', 161): 2580, ('digit', 161): 2581, ('nurs', 161): 2582, ('jay', 161): 2583, ('uninspir', 161): 2584, ('asham', 161): 2585, ('bath', 161): 2586, ('per', 161): 2587, ('stanwyck', 161): 2588, ('bulli', 161): 2589, ('laid', 160): 2590, ('illustr', 160): 2591, ('sutherland', 160): 2592, ('oddli', 160): 2593, ('1940', 160): 2594, ('upper', 160): 2595, ('amongst', 160): 2596, ('2001', 160): 2597, ('broadcast', 160): 2598, ('aspir', 159): 2599, ('disguis', 159): 2600, ('stylish', 159): 2601, ('fulfil', 159): 2602, ('baker', 159): 2603, ('throat', 159): 2604, ('brando', 159): 2605, ('wwii', 158): 2606, ('endear', 158): 2607, ('em', 158): 2608, ('impli', 158): 2609, ('pride', 158): 2610, ('nobl', 158): 2611, ('neighborhood', 158): 2612, ('18', 158): 2613, ('pound', 158): 2614, ('wanna', 158): 2615, ('thief', 158): 2616, ('dinner', 157): 2617, ('shift', 157): 2618, ('dawn', 157): 2619, ('bett', 157): 2620, ('16', 157): 2621, ('coher', 157): 2622, ('bo', 157): 2623, ('prop', 157): 2624, ('tens', 157): 2625, ('albeit', 157): 2626, ('diseas', 157): 2627, ('cinematograph', 157): 2628, ('shoulder', 157): 2629, ('distribut', 157): 2630, ('rochest', 157): 2631, ('silenc', 156): 2632, ('rebel', 156): 2633, ('poignant', 156): 2634, ('forti', 156): 2635, ('contract', 156): 2636, ('wash', 156): 2637, ('shout', 156): 2638, ('function', 156): 2639, ('surf', 156): 2640, ('matthau', 156): 2641, ('knife', 156): 2642, ('snow', 156): 2643, ('duti', 155): 2644, ('internet', 155): 2645, ('henc', 155): 2646, ('eeri', 155): 2647, ('derek', 155): 2648, ('horrend', 155): 2649, ('elvira', 155): 2650, ('heat', 155): 2651, ('instinct', 155): 2652, ('cancel', 155): 2653, ('reunion', 155): 2654, ('silver', 155): 2655, ('widmark', 155): 2656, ('chuck', 155): 2657, ('height', 155): 2658, ('cannib', 155): 2659, ('mindless', 155): 2660, ('proof', 155): 2661, ('alik', 154): 2662, ('torn', 154): 2663, ('absorb', 154): 2664, ('spielberg', 154): 2665, ('glori', 154): 2666, ('incoher', 154): 2667, ('etern', 154): 2668, ('mill', 154): 2669, ('pie', 154): 2670, ('innov', 154): 2671, ('musician', 154): 2672, ('repetit', 154): 2673, ('elvi', 154): 2674, ('greatli', 154): 2675, ('premier', 154): 2676, ('neat', 154): 2677, ('britain', 153): 2678, ('bang', 153): 2679, ('infam', 153): 2680, ('wealthi', 153): 2681, ('redempt', 153): 2682, ('burton', 153): 2683, ('blank', 153): 2684, ('diamond', 153): 2685, ('horrifi', 153): 2686, ('nelson', 153): 2687, ('fbi', 153): 2688, ('homag', 153): 2689, ('precis', 153): 2690, ('lovabl', 153): 2691, ('itali', 153): 2692, ('announc', 153): 2693, ('trite', 153): 2694, ('racism', 153): 2695, ('crisi', 153): 2696, ('flop', 152): 2697, ('helen', 152): 2698, ('happili', 152): 2699, ('parallel', 152): 2700, ('pat', 152): 2701, ('ensembl', 152): 2702, ('hammer', 152): 2703, ('wilder', 152): 2704, ('resolut', 152): 2705, ('dedic', 152): 2706, ('chaplin', 152): 2707, ('streisand', 152): 2708, ('st', 151): 2709, ('cube', 151): 2710, ('conclud', 151): 2711, ('triumph', 151): 2712, ('carter', 151): 2713, ('factori', 151): 2714, ('broke', 151): 2715, ('plastic', 151): 2716, ('disagre', 151): 2717, ('oil', 151): 2718, ('mar', 151): 2719, ('climb', 150): 2720, ('march', 150): 2721, ('weight', 150): 2722, ('rocket', 150): 2723, ('own', 150): 2724, ('chuckl', 150): 2725, ('row', 150): 2726, ('bush', 150): 2727, ('fighter', 150): 2728, ('vega', 150): 2729, ('sensibl', 149): 2730, ('unforgett', 149): 2731, ('dump', 149): 2732, ('lust', 149): 2733, ('kurt', 149): 2734, ('meaning', 149): 2735, ('dane', 149): 2736, ('enorm', 149): 2737, ('wherea', 149): 2738, ('thug', 149): 2739, ('spare', 149): 2740, ('luca', 149): 2741, ('boot', 149): 2742, ('mst3k', 149): 2743, ('engin', 148): 2744, ('brand', 148): 2745, ('butt', 148): 2746, ('threat', 148): 2747, ('stress', 148): 2748, ('karloff', 148): 2749, ('arnold', 148): 2750, ('fifti', 148): 2751, ('adequ', 148): 2752, ('dear', 148): 2753, ('difficulti', 148): 2754, ('caricatur', 148): 2755, ('rap', 148): 2756, ('bobbi', 148): 2757, ('journalist', 147): 2758, ('swing', 147): 2759, ('homeless', 147): 2760, ('hamlet', 147): 2761, ('ego', 147): 2762, ('polish', 147): 2763, ('fest', 147): 2764, ('ralph', 147): 2765, ('elabor', 147): 2766, ('secretari', 147): 2767, ('arrog', 147): 2768, ('flynn', 147): 2769, ('barri', 147): 2770, ('float', 146): 2771, ('unbear', 146): 2772, ('grate', 146): 2773, ('tool', 146): 2774, ('puppet', 146): 2775, ('arrang', 146): 2776, ('simpson', 146): 2777, ('spike', 146): 2778, ('resort', 146): 2779, ('conspiraci', 146): 2780, ('induc', 146): 2781, ('fanci', 146): 2782, ('exercis', 145): 2783, ('tribut', 145): 2784, ('choreograph', 145): 2785, ('phillip', 145): 2786, ('pig', 145): 2787, ('cruis', 145): 2788, ('boll', 145): 2789, ('basement', 145): 2790, ('guilt', 145): 2791, ('muppet', 145): 2792, ('toilet', 144): 2793, ('24', 144): 2794, ('slip', 144): 2795, ('editor', 144): 2796, ('file', 144): 2797, ('tower', 144): 2798, ('item', 144): 2799, ('medium', 144): 2800, ('ward', 144): 2801, ('korean', 144): 2802, ('document', 144): 2803, ('layer', 144): 2804, ('scarecrow', 144): 2805, ('stan', 144): 2806, ('puzzl', 144): 2807, ('ham', 144): 2808, ('fianc', 144): 2809, ('babe', 144): 2810, ('denzel', 143): 2811, ('glover', 143): 2812, ('superfici', 143): 2813, ('territori', 143): 2814, ('librari', 143): 2815, ('inexplic', 143): 2816, ('catherin', 143): 2817, ('persona', 143): 2818, ('slaughter', 143): 2819, ('larger', 143): 2820, ('philosoph', 143): 2821, ('minim', 143): 2822, ('spark', 143): 2823, ('assur', 143): 2824, ('doc', 143): 2825, ('orient', 143): 2826, ('portion', 143): 2827, ('transit', 143): 2828, ('jet', 142): 2829, ('dorothi', 142): 2830, ('boredom', 142): 2831, ('shi', 142): 2832, ('sneak', 142): 2833, ('pg', 142): 2834, ('owe', 142): 2835, ('financi', 142): 2836, ('ban', 142): 2837, ('walken', 142): 2838, ('wolf', 142): 2839, ('jeremi', 142): 2840, ('curti', 142): 2841, ('whale', 141): 2842, ('ambigu', 141): 2843, ('profound', 141): 2844, ('eleph', 141): 2845, ('multi', 141): 2846, ('metaphor', 141): 2847, ('cusack', 141): 2848, ('hudson', 141): 2849, ('backdrop', 141): 2850, ('birthday', 140): 2851, ('implaus', 140): 2852, ('union', 140): 2853, ('rave', 140): 2854, ('notion', 140): 2855, ('hack', 140): 2856, ('elsewher', 140): 2857, ('gadget', 140): 2858, ('ultra', 140): 2859, ('stiff', 140): 2860, ('2005', 140): 2861, ('viru', 140): 2862, ('bibl', 139): 2863, ('poison', 139): 2864, ('slight', 139): 2865, ('hawk', 139): 2866, ('squar', 139): 2867, ('reader', 139): 2868, ('1st', 139): 2869, ('disc', 139): 2870, ('deriv', 139): 2871, ('eva', 139): 2872, ('pad', 139): 2873, ('superhero', 139): 2874, ('eastwood', 139): 2875, ('distanc', 139): 2876, ('canada', 139): 2877, ('afford', 139): 2878, ('urg', 139): 2879, ('lloyd', 139): 2880, ('newspap', 139): 2881, ('charisma', 138): 2882, ('huh', 138): 2883, ('button', 138): 2884, ('cure', 138): 2885, ('restaur', 138): 2886, ('montag', 138): 2887, ('sadist', 138): 2888, ('spread', 138): 2889, ('heston', 138): 2890, ('health', 138): 2891, ('essenc', 138): 2892, ('skit', 138): 2893, ('drown', 138): 2894, ('gradual', 137): 2895, ('lab', 137): 2896, ('companion', 137): 2897, ('invest', 137): 2898, ('fetch', 137): 2899, ('estat', 137): 2900, ('dealt', 137): 2901, ('godfath', 137): 2902, ('muslim', 137): 2903, ('maniac', 137): 2904, ('scoobi', 137): 2905, ('peak', 137): 2906, ('cup', 136): 2907, ('gothic', 136): 2908, ('kane', 136): 2909, ('ritter', 136): 2910, ('tea', 136): 2911, ('subtleti', 136): 2912, ('countless', 136): 2913, ('miik', 136): 2914, ('alli', 136): 2915, ('servant', 136): 2916, ('salli', 135): 2917, ('electr', 135): 2918, ('heroic', 135): 2919, ('briefli', 135): 2920, ('charismat', 135): 2921, ('elect', 135): 2922, ('iii', 135): 2923, ('toss', 134): 2924, ('tender', 134): 2925, ('nuanc', 134): 2926, ('bud', 134): 2927, ('wannab', 134): 2928, ('ingredi', 134): 2929, ('reel', 134): 2930, ('neil', 134): 2931, ('resourc', 134): 2932, ('cole', 134): 2933, ('admittedli', 134): 2934, ('grandmoth', 134): 2935, ('punk', 133): 2936, ('mild', 133): 2937, ('kubrick', 133): 2938, ('label', 133): 2939, ('gate', 133): 2940, ('stronger', 133): 2941, ('poverti', 133): 2942, ('reev', 133): 2943, ('pit', 133): 2944, ('stood', 133): 2945, ('shall', 133): 2946, ('mafia', 133): 2947, ('dawson', 133): 2948, ('pauli', 133): 2949, ('carrey', 133): 2950, ('easier', 132): 2951, ('updat', 132): 2952, ('tag', 132): 2953, ('terri', 132): 2954, ('ian', 132): 2955, ('astair', 132): 2956, ('cardboard', 132): 2957, ('useless', 132): 2958, ('cox', 132): 2959, ('fond', 132): 2960, ('smooth', 132): 2961, ('outcom', 132): 2962, ('assault', 132): 2963, ('smash', 132): 2964, ('burst', 132): 2965, ('bakshi', 132): 2966, ('fist', 131): 2967, ('vari', 131): 2968, ('samurai', 131): 2969, ('exchang', 131): 2970, ('qualifi', 131): 2971, ('coincid', 131): 2972, ('rex', 131): 2973, ('2002', 131): 2974, ('increasingli', 131): 2975, ('resolv', 131): 2976, ('melodramat', 131): 2977, ('divers', 131): 2978, ('sketch', 131): 2979, ('vulner', 131): 2980, ('luckili', 130): 2981, ('conveni', 130): 2982, ('brillianc', 130): 2983, ('tame', 130): 2984, ('templ', 130): 2985, ('suspend', 130): 2986, ('reynold', 130): 2987, ('scratch', 130): 2988, ('insert', 130): 2989, ('blast', 130): 2990, ('be', 130): 2991, ('coach', 129): 2992, ('gotta', 129): 2993, ('farm', 129): 2994, ('soprano', 129): 2995, ('matthew', 129): 2996, ('strictli', 129): 2997, ('nuclear', 129): 2998, ('fisher', 129): 2999, ('hamilton', 129): 3000, ('pin', 129): 3001, ('ambiti', 129): 3002, ('jami', 129): 3003, ('seventi', 129): 3004, ('meat', 129): 3005, ('walker', 129): 3006, ('grasp', 128): 3007, ('eccentr', 128): 3008, ('convolut', 128): 3009, ('kudo', 128): 3010, ('closet', 128): 3011, ('brosnan', 128): 3012, ('spooki', 128): 3013, ('discoveri', 128): 3014, ('cave', 128): 3015, ('worthless', 128): 3016, ('ninja', 128): 3017, ('timeless', 128): 3018, ('clock', 128): 3019, ('instantli', 128): 3020, ('struck', 128): 3021, ('empir', 128): 3022, ('recreat', 128): 3023, ('revers', 128): 3024, ('butcher', 128): 3025, ('monk', 128): 3026, ('joey', 128): 3027, ('pal', 127): 3028, ('communist', 127): 3029, ('wipe', 127): 3030, ('evok', 127): 3031, ('eighti', 127): 3032, ('inconsist', 127): 3033, ('selfish', 127): 3034, ('seller', 127): 3035, ('declar', 127): 3036, ('clown', 127): 3037, ('partli', 127): 3038, ('fifteen', 127): 3039, ('mitchel', 127): 3040, ('importantli', 127): 3041, ('norman', 127): 3042, ('miracl', 127): 3043, ('gray', 127): 3044, ('bleak', 127): 3045, ('sidekick', 127): 3046, ('sloppi', 127): 3047, ('cliff', 127): 3048, ('aforement', 126): 3049, ('websit', 126): 3050, ('ho', 126): 3051, ('piano', 126): 3052, ('45', 126): 3053, ('superbl', 126): 3054, ('enthusiast', 126): 3055, ('debat', 126): 3056, ('farc', 126): 3057, ('australia', 126): 3058, ('cheek', 126): 3059, ('destin', 126): 3060, ('flawless', 126): 3061, ('lifestyl', 126): 3062, ('psychiatrist', 126): 3063, ('chew', 126): 3064, ('stoog', 126): 3065, ('seed', 126): 3066, ('regardless', 125): 3067, ('pressur', 125): 3068, ('soviet', 125): 3069, ('kitchen', 125): 3070, ('emili', 125): 3071, ('dire', 125): 3072, ('wrestl', 125): 3073, ('anni', 125): 3074, ('splatter', 125): 3075, ('incompet', 125): 3076, ('directori', 125): 3077, ('bash', 125): 3078, ('wick', 125): 3079, ('drivel', 125): 3080, ('dash', 125): 3081, ('akshay', 125): 3082, ('slice', 125): 3083, ('abc', 125): 3084, ('flower', 124): 3085, ('glow', 124): 3086, ('increas', 124): 3087, ('blob', 124): 3088, ('curios', 124): 3089, ('jar', 124): 3090, ('ken', 124): 3091, ('seduc', 124): 3092, ('cagney', 124): 3093, ('cia', 124): 3094, ('helicopt', 124): 3095, ('boil', 124): 3096, ('lou', 124): 3097, ('beaten', 124): 3098, ('chapter', 124): 3099, ('artifici', 124): 3100, ('prize', 124): 3101, ('distant', 124): 3102, ('recov', 124): 3103, ('pleasantli', 124): 3104, ('suppli', 124): 3105, ('duo', 124): 3106, ('dave', 124): 3107, ('doo', 124): 3108, ('cameron', 124): 3109, ('judi', 124): 3110, ('mann', 124): 3111, ('craven', 123): 3112, ('hop', 123): 3113, ('turner', 123): 3114, ('psychot', 123): 3115, ('favour', 123): 3116, ('francisco', 123): 3117, ('eleg', 123): 3118, ('glenn', 123): 3119, ('splendid', 123): 3120, ('combat', 123): 3121, ('ellen', 123): 3122, ('craig', 123): 3123, ('drunken', 123): 3124, ('perri', 123): 3125, ('panic', 123): 3126, ('ranger', 123): 3127, ('goldberg', 123): 3128, ('laurel', 123): 3129, ('web', 123): 3130, ('shortli', 122): 3131, ('rid', 122): 3132, ('greek', 122): 3133, ('gentl', 122): 3134, ('alexand', 122): 3135, ('graduat', 122): 3136, ('ruth', 122): 3137, ('modesti', 122): 3138, ('fx', 122): 3139, ('wizard', 122): 3140, ('falk', 122): 3141, ('plausibl', 122): 3142, ('slightest', 122): 3143, ('min', 122): 3144, ('flip', 122): 3145, ('philosophi', 122): 3146, ('gandhi', 122): 3147, ('20th', 122): 3148, ('hatr', 122): 3149, ('holi', 121): 3150, ('we', 121): 3151, ('unpleas', 121): 3152, ('jealou', 121): 3153, ('lend', 121): 3154, ('ocean', 121): 3155, ('legal', 121): 3156, ('preciou', 121): 3157, ('futurist', 121): 3158, ('harm', 121): 3159, ('felix', 121): 3160, ('knight', 121): 3161, ('tall', 121): 3162, ('manhattan', 121): 3163, ('fund', 121): 3164, ('dracula', 121): 3165, ('reviv', 120): 3166, ('childish', 120): 3167, ('digniti', 120): 3168, ('ami', 120): 3169, ('scientif', 120): 3170, ('mock', 120): 3171, ('nod', 120): 3172, ('bless', 120): 3173, ('tank', 120): 3174, ('forbidden', 120): 3175, ('thread', 120): 3176, ('giallo', 120): 3177, ('overdon', 120): 3178, ('explicit', 120): 3179, ('fever', 119): 3180, ('repeatedli', 119): 3181, ('awaken', 119): 3182, ('mel', 119): 3183, ('torment', 119): 3184, ('pirat', 119): 3185, ('thick', 119): 3186, ('yesterday', 119): 3187, ('nerv', 119): 3188, ('unwatch', 119): 3189, ('verhoeven', 119): 3190, ('elderli', 119): 3191, ('awe', 119): 3192, ('broad', 119): 3193, ('eve', 119): 3194, ('2004', 119): 3195, ('margaret', 119): 3196, ('99', 119): 3197, ('griffith', 118): 3198, ('bin', 118): 3199, ('politician', 118): 3200, ('uniform', 118): 3201, ('launch', 118): 3202, ('rivet', 118): 3203, ('custom', 118): 3204, ('lean', 118): 3205, ('acclaim', 118): 3206, ('romero', 118): 3207, ('roman', 118): 3208, ('ah', 118): 3209, ('royal', 118): 3210, ('stiller', 118): 3211, ('publish', 118): 3212, ('absenc', 118): 3213, ('timothi', 118): 3214, ('kay', 118): 3215, ('automat', 118): 3216, ('eas', 118): 3217, ('ambit', 118): 3218, ('bathroom', 117): 3219, ('darker', 117): 3220, ('phrase', 117): 3221, ('foul', 117): 3222, ('crook', 117): 3223, ('wallac', 117): 3224, ('pierc', 117): 3225, ('pulp', 117): 3226, ('transport', 117): 3227, ('termin', 117): 3228, ('warren', 117): 3229, ('gabriel', 117): 3230, ('antic', 117): 3231, ('purpl', 117): 3232, ('stinker', 117): 3233, ('sunshin', 117): 3234, ('tomato', 117): 3235, ('homicid', 117): 3236, ('brazil', 116): 3237, ('saint', 116): 3238, ('li', 116): 3239, ('contrari', 116): 3240, ('2003', 116): 3241, ('choreographi', 116): 3242, ('hollow', 116): 3243, ('awak', 116): 3244, ('juvenil', 116): 3245, ('viciou', 116): 3246, ('evolv', 116): 3247, ('kenneth', 116): 3248, ('karen', 116): 3249, ('q', 116): 3250, ('pray', 116): 3251, ('coloni', 116): 3252, ('ought', 116): 3253, ('album', 116): 3254, ('revolutionari', 116): 3255, ('packag', 116): 3256, ('horrid', 116): 3257, ('rambo', 116): 3258, ('prom', 116): 3259, ('marin', 116): 3260, ('eyr', 116): 3261, ('sixti', 116): 3262, ('donna', 116): 3263, ('candid', 115): 3264, ('option', 115): 3265, ('boast', 115): 3266, ('ramon', 115): 3267, ('dose', 115): 3268, ('defi', 115): 3269, ('mildr', 115): 3270, ('twelv', 115): 3271, ('overr', 115): 3272, ('mummi', 115): 3273, ('nerd', 115): 3274, ('stole', 115): 3275, ('blade', 115): 3276, ('beatti', 115): 3277, ('conserv', 115): 3278, ('ireland', 115): 3279, ('kapoor', 115): 3280, ('trio', 114): 3281, ('flame', 114): 3282, ('protest', 114): 3283, ('astonish', 114): 3284, ('collabor', 114): 3285, ('jazz', 114): 3286, ('fulci', 114): 3287, ('kirk', 114): 3288, ('funer', 114): 3289, ('detract', 114): 3290, ('natali', 114): 3291, ('altman', 114): 3292, ('confirm', 114): 3293, ('global', 114): 3294, ('destini', 113): 3295, ('audio', 113): 3296, ('nicholson', 113): 3297, ('tommi', 113): 3298, ('mystic', 113): 3299, ('bull', 113): 3300, ('leap', 113): 3301, ('bottl', 113): 3302, ('blake', 113): 3303, ('enterpris', 113): 3304, ('delici', 113): 3305, ('whip', 113): 3306, ('shade', 113): 3307, ('yellow', 113): 3308, ('spit', 113): 3309, ('racial', 113): 3310, ('inherit', 112): 3311, ('adolesc', 112): 3312, ('swedish', 112): 3313, ('todd', 112): 3314, ('meaningless', 112): 3315, ('vivid', 112): 3316, ('pseudo', 112): 3317, ('bedroom', 112): 3318, ('visibl', 112): 3319, ('enchant', 112): 3320, ('threw', 112): 3321, ('neo', 112): 3322, ('fonda', 112): 3323, ('altogeth', 112): 3324, ('reunit', 112): 3325, ('harder', 112): 3326, ('staff', 112): 3327, ('popcorn', 112): 3328, ('merci', 112): 3329, ('respond', 111): 3330, ('exhibit', 111): 3331, ('fanat', 111): 3332, ('edi', 111): 3333, ('suspici', 111): 3334, ('reserv', 111): 3335, ('leonard', 111): 3336, ('roommat', 111): 3337, ('kennedi', 111): 3338, ('synopsi', 111): 3339, ('crocodil', 111): 3340, ('decor', 111): 3341, ('bust', 111): 3342, ('moodi', 111): 3343, ('tip', 111): 3344, ('befriend', 111): 3345, ('lawrenc', 111): 3346, ('madonna', 111): 3347, ('jew', 111): 3348, ('await', 111): 3349, ('ruthless', 111): 3350, ('lemmon', 111): 3351, ('uneven', 111): 3352, ('wire', 111): 3353, ('atlanti', 111): 3354, ('voight', 111): 3355, ('clumsi', 110): 3356, ('centr', 110): 3357, ('bargain', 110): 3358, ('carl', 110): 3359, ('abysm', 110): 3360, ('audit', 110): 3361, ('dimens', 110): 3362, ('garner', 110): 3363, ('bradi', 110): 3364, ('palma', 110): 3365, ('unsettl', 110): 3366, ('rural', 110): 3367, ('chao', 110): 3368, ('bold', 110): 3369, ('voyag', 110): 3370, ('holli', 110): 3371, ('ventur', 110): 3372, ('2007', 110): 3373, ('clint', 110): 3374, ('incident', 110): 3375, ('characterist', 109): 3376, ('nearbi', 109): 3377, ('timon', 109): 3378, ('versu', 109): 3379, ('cuba', 109): 3380, ('acknowledg', 109): 3381, ('wealth', 109): 3382, ('echo', 109): 3383, ('trail', 109): 3384, ('lit', 109): 3385, ('immigr', 109): 3386, ('hart', 109): 3387, ('poetic', 109): 3388, ('troop', 109): 3389, ('daddi', 109): 3390, ('humili', 109): 3391, ('cari', 109): 3392, ('mall', 109): 3393, ('cd', 109): 3394, ('imperson', 109): 3395, ('ant', 109): 3396, ('elimin', 109): 3397, ('2nd', 109): 3398, ('neglect', 109): 3399, ('tiger', 109): 3400, ('paus', 108): 3401, ('mistaken', 108): 3402, ('jeffrey', 108): 3403, ('mickey', 108): 3404, ('solo', 108): 3405, ('marshal', 108): 3406, ('celluloid', 108): 3407, ('infect', 108): 3408, ('homer', 108): 3409, ('collaps', 108): 3410, ('saga', 108): 3411, ('prejudic', 108): 3412, ('repuls', 108): 3413, ('pun', 108): 3414, ('domest', 108): 3415, ('inappropri', 107): 3416, ('milk', 107): 3417, ('olivi', 107): 3418, ('leon', 107): 3419, ('chest', 107): 3420, ('assembl', 107): 3421, ('equip', 107): 3422, ('promin', 107): 3423, ('undoubtedli', 107): 3424, ('coffe', 107): 3425, ('interrupt', 107): 3426, ('pant', 107): 3427, ('cake', 107): 3428, ('1996', 107): 3429, ('sore', 107): 3430, ('gear', 107): 3431, ('tribe', 107): 3432, ('hbo', 107): 3433, ('apolog', 107): 3434, ('inan', 107): 3435, ('ginger', 107): 3436, ('coat', 107): 3437, ('harvey', 107): 3438, ('exot', 106): 3439, ('airplan', 106): 3440, ('embrac', 106): 3441, ('colonel', 106): 3442, ('brooklyn', 106): 3443, ('furthermor', 106): 3444, ('trace', 106): 3445, ('humbl', 106): 3446, ('devast', 106): 3447, ('highest', 106): 3448, ('instant', 106): 3449, ('retain', 106): 3450, ('vulgar', 106): 3451, ('florida', 106): 3452, ('maggi', 106): 3453, ('jenni', 106): 3454, ('colleagu', 106): 3455, ('pot', 106): 3456, ('institut', 106): 3457, ('primari', 106): 3458, ('aveng', 106): 3459, ('consum', 106): 3460, ('pen', 106): 3461, ('solut', 106): 3462, ('polanski', 106): 3463, ('illog', 105): 3464, ('outer', 105): 3465, ('dian', 105): 3466, ('principl', 105): 3467, ('bowl', 105): 3468, ('seduct', 105): 3469, ('cope', 105): 3470, ('1999', 105): 3471, ('descend', 105): 3472, ('wive', 105): 3473, ('disabl', 105): 3474, ('sale', 105): 3475, ('linda', 105): 3476, ('gender', 105): 3477, ('ya', 105): 3478, ('3rd', 105): 3479, ('godzilla', 105): 3480, ('strain', 105): 3481, ('poke', 105): 3482, ('rick', 105): 3483, ('smaller', 105): 3484, ('dutch', 105): 3485, ('blatant', 104): 3486, ('mixtur', 104): 3487, ('beneath', 104): 3488, ('devoid', 104): 3489, ('yard', 104): 3490, ('inferior', 104): 3491, ('dive', 104): 3492, ('hal', 104): 3493, ('rabbit', 104): 3494, ('gundam', 104): 3495, ('predecessor', 104): 3496, ('primarili', 104): 3497, ('vast', 104): 3498, ('bubbl', 104): 3499, ('scope', 104): 3500, ('secondli', 104): 3501, ('gloriou', 104): 3502, ('lol', 104): 3503, ('dud', 104): 3504, ('cue', 104): 3505, ('glamor', 104): 3506, ('senseless', 103): 3507, ('hideou', 103): 3508, ('z', 103): 3509, ('arab', 103): 3510, ('shelf', 103): 3511, ('invas', 103): 3512, ('disjoint', 103): 3513, ('et', 103): 3514, ('alfr', 103): 3515, ('myer', 103): 3516, ('casual', 103): 3517, ('museum', 103): 3518, ('aggress', 103): 3519, ('trademark', 103): 3520, ('talki', 103): 3521, ('alert', 103): 3522, ('countrysid', 103): 3523, ('simplist', 103): 3524, ('domino', 103): 3525, ('april', 103): 3526, ('breed', 103): 3527, ('garbo', 103): 3528, ('shirley', 103): 3529, ('streep', 103): 3530, ('pearl', 103): 3531, ('grinch', 103): 3532, ('mail', 102): 3533, ('vanish', 102): 3534, ('hopeless', 102): 3535, ('sh', 102): 3536, ('stellar', 102): 3537, ('slide', 102): 3538, ('robberi', 102): 3539, ('stir', 102): 3540, ('oz', 102): 3541, ('obtain', 102): 3542, ('uwe', 102): 3543, ('disgrac', 102): 3544, ('experiment', 102): 3545, ('hardcor', 102): 3546, ('loyal', 102): 3547, ('maci', 102): 3548, ('applaud', 102): 3549, ('boom', 102): 3550, ('unhappi', 102): 3551, ('rendit', 102): 3552, ('robinson', 102): 3553, ('mayor', 102): 3554, ('defens', 102): 3555, ('illeg', 102): 3556, ('acid', 102): 3557, ('khan', 102): 3558, ('stack', 102): 3559, ('craze', 101): 3560, ('wont', 101): 3561, ('diana', 101): 3562, ('spider', 101): 3563, ('incomprehens', 101): 3564, ('counter', 101): 3565, ('declin', 101): 3566, ('span', 101): 3567, ('amanda', 101): 3568, ('fri', 101): 3569, ('topless', 101): 3570, ('hartley', 101): 3571, ('blew', 101): 3572, ('soccer', 101): 3573, ('emphasi', 101): 3574, ('dismiss', 101): 3575, ('berlin', 101): 3576, ('scroog', 101): 3577, ('rifl', 101): 3578, ('tempt', 101): 3579, ('dicken', 101): 3580, ('tenant', 101): 3581, ('psychic', 101): 3582, ('recruit', 101): 3583, ('grandfath', 101): 3584, ('sibl', 100): 3585, ('woo', 100): 3586, ('revolt', 100): 3587, ('ration', 100): 3588, ('goer', 100): 3589, ('lumet', 100): 3590, ('resurrect', 100): 3591, ('porno', 100): 3592, ('intim', 100): 3593, ('faster', 100): 3594, ('parad', 100): 3595, ('shed', 100): 3596, ('sympath', 100): 3597, ('wet', 100): 3598, ('ethnic', 100): 3599, ('shaw', 100): 3600, ('riot', 100): 3601, ('niro', 100): 3602, ('bitch', 100): 3603, ('trashi', 100): 3604, ('justin', 100): 3605, ('ensur', 99): 3606, ('mario', 99): 3607, ('dealer', 99): 3608, ('hopper', 99): 3609, ('wendi', 99): 3610, ('nephew', 99): 3611, ('patriot', 99): 3612, ('choru', 99): 3613, ('region', 99): 3614, ('steam', 99): 3615, ('wheel', 99): 3616, ('immort', 99): 3617, ('rider', 99): 3618, ('honesti', 99): 3619, ('biographi', 99): 3620, ('feminist', 99): 3621, ('weakest', 99): 3622, ('worm', 99): 3623, ('hesit', 99): 3624, ('eager', 99): 3625, ('jonathan', 99): 3626, ('farmer', 99): 3627, ('commend', 99): 3628, ('slick', 99): 3629, ('unreal', 99): 3630, ('00', 99): 3631, ('gap', 99): 3632, ('ballet', 99): 3633, ('enlighten', 99): 3634, ('andr', 99): 3635, ('partial', 99): 3636, ('lena', 99): 3637, ('victori', 98): 3638, ('nostalg', 98): 3639, ('util', 98): 3640, ('kingdom', 98): 3641, ('properti', 98): 3642, ('composit', 98): 3643, ('blunt', 98): 3644, ('safeti', 98): 3645, ('psychopath', 98): 3646, ('hung', 98): 3647, ('sandra', 98): 3648, ('skull', 98): 3649, ('snap', 98): 3650, ('owen', 98): 3651, ('morri', 98): 3652, ('similarli', 98): 3653, ('vice', 98): 3654, ('wore', 98): 3655, ('repress', 98): 3656, ('sappi', 98): 3657, ('franco', 98): 3658, ('charlott', 98): 3659, ('confin', 98): 3660, ('mutant', 98): 3661, ('leo', 98): 3662, ('prequel', 98): 3663, ('macarthur', 98): 3664, ('rocki', 97): 3665, ('cg', 97): 3666, ('dust', 97): 3667, ('exit', 97): 3668, ('valuabl', 97): 3669, ('pattern', 97): 3670, ('del', 97): 3671, ('tad', 97): 3672, ('deed', 97): 3673, ('miseri', 97): 3674, ('farrel', 97): 3675, ('acquir', 97): 3676, ('kyle', 97): 3677, ('bow', 97): 3678, ('bumbl', 97): 3679, ('compass', 97): 3680, ('emperor', 97): 3681, ('thru', 97): 3682, ('bonu', 97): 3683, ('repli', 97): 3684, ('heartbreak', 97): 3685, ('strand', 97): 3686, ('despair', 97): 3687, ('tail', 97): 3688, ('montana', 97): 3689, ('1972', 97): 3690, ('speci', 97): 3691, ('rambl', 97): 3692, ('drum', 97): 3693, ('nervou', 97): 3694, ('latin', 97): 3695, ('whoopi', 97): 3696, ('drain', 97): 3697, ('hyde', 97): 3698, ('dalton', 97): 3699, ('recycl', 97): 3700, ('snl', 97): 3701, ('compens', 97): 3702, ('bergman', 97): 3703, ('campbel', 97): 3704, ('rope', 97): 3705, ('wacki', 96): 3706, ('gal', 96): 3707, ('orson', 96): 3708, ('oppress', 96): 3709, ('martian', 96): 3710, ('rapist', 96): 3711, ('downhil', 96): 3712, ('gimmick', 96): 3713, ('romp', 96): 3714, ('contempl', 96): 3715, ('roth', 96): 3716, ('tonight', 96): 3717, ('bleed', 96): 3718, ('olli', 96): 3719, ('carradin', 96): 3720, ('pour', 96): 3721, ('35', 96): 3722, ('slug', 96): 3723, ('da', 96): 3724, ('airport', 96): 3725, ('mistress', 96): 3726, ('percept', 96): 3727, ('rotten', 96): 3728, ('chess', 96): 3729, ('radic', 96): 3730, ('arguabl', 95): 3731, ('tackl', 95): 3732, ('melodi', 95): 3733, ('shelley', 95): 3734, ('unpredict', 95): 3735, ('pervert', 95): 3736, ('1983', 95): 3737, ('paltrow', 95): 3738, ('slash', 95): 3739, ('edgar', 95): 3740, ('heal', 95): 3741, ('champion', 95): 3742, ('programm', 95): 3743, ('banal', 95): 3744, ('attorney', 95): 3745, ('pervers', 95): 3746, ('pursuit', 95): 3747, ('mislead', 95): 3748, ('preach', 95): 3749, ('arc', 95): 3750, ('tooth', 95): 3751, ('dazzl', 95): 3752, ('stilt', 95): 3753, ('belt', 95): 3754, ('taught', 95): 3755, ('duval', 94): 3756, ('chicken', 94): 3757, ('virginia', 94): 3758, ('raymond', 94): 3759, ('sensat', 94): 3760, ('rubi', 94): 3761, ('uplift', 94): 3762, ('conneri', 94): 3763, ('plight', 94): 3764, ('maid', 94): 3765, ('gambl', 94): 3766, ('vengeanc', 94): 3767, ('closest', 94): 3768, ('tiresom', 94): 3769, ('bela', 94): 3770, ('cleverli', 94): 3771, ('vocal', 94): 3772, ('passeng', 94): 3773, ('graham', 94): 3774, ('employe', 94): 3775, ('dixon', 94): 3776, ('orang', 94): 3777, ('mesmer', 94): 3778, ('poem', 94): 3779, ('marti', 94): 3780, ('franki', 94): 3781, ('volum', 93): 3782, ('iran', 93): 3783, ('scottish', 93): 3784, ('clone', 93): 3785, ('climact', 93): 3786, ('swallow', 93): 3787, ('mute', 93): 3788, ('habit', 93): 3789, ('inject', 93): 3790, ('numb', 93): 3791, ('pokemon', 93): 3792, ('yawn', 93): 3793, ('profan', 93): 3794, ('whine', 93): 3795, ('quarter', 93): 3796, ('engross', 93): 3797, ('abraham', 93): 3798, ('outing', 93): 3799, ('convincingli', 93): 3800, ('tube', 93): 3801, ('bay', 93): 3802, ('secretli', 93): 3803, ('calm', 93): 3804, ('1968', 93): 3805, ('giggl', 93): 3806, ('suffic', 93): 3807, ('crystal', 93): 3808, ('monologu', 93): 3809, ('paranoia', 93): 3810, ('gerard', 93): 3811, ('extens', 93): 3812, ('lundgren', 93): 3813, ('amitabh', 93): 3814, ('sirk', 93): 3815, ('im', 92): 3816, ('septemb', 92): 3817, ('grotesqu', 92): 3818, ('surpass', 92): 3819, ('poetri', 92): 3820, ('ethan', 92): 3821, ('expand', 92): 3822, ('lowest', 92): 3823, ('bend', 92): 3824, ('underst', 92): 3825, ('junior', 92): 3826, ('richardson', 92): 3827, ('nichola', 92): 3828, ('plod', 92): 3829, ('spock', 92): 3830, ('fed', 92): 3831, ('franci', 92): 3832, ('linger', 92): 3833, ('austen', 92): 3834, ('dispos', 92): 3835, ('backward', 92): 3836, ('abort', 92): 3837, ('taxi', 92): 3838, ('profess', 92): 3839, ('frankenstein', 92): 3840, ('earl', 92): 3841, ('trend', 92): 3842, ('chicago', 92): 3843, ('meander', 92): 3844, ('catchi', 91): 3845, ('nostalgia', 91): 3846, ('eugen', 91): 3847, ('instrument', 91): 3848, ('hum', 91): 3849, ('myth', 91): 3850, ('waitress', 91): 3851, ('lure', 91): 3852, ('muddl', 91): 3853, ('rant', 91): 3854, ('descent', 91): 3855, ('household', 91): 3856, ('greedi', 91): 3857, ('spoke', 91): 3858, ('econom', 91): 3859, ('compliment', 91): 3860, ('simplic', 91): 3861, ('rubber', 91): 3862, ('der', 91): 3863, ('sue', 91): 3864, ('literatur', 91): 3865, ('cannon', 91): 3866, ('dysfunct', 91): 3867, ('mundan', 91): 3868, ('tourist', 91): 3869, ('stallon', 91): 3870, ('phoni', 90): 3871, ('coast', 90): 3872, ('mankind', 90): 3873, ('eaten', 90): 3874, ('map', 90): 3875, ('duck', 90): 3876, ('hello', 90): 3877, ('bacal', 90): 3878, ('lang', 90): 3879, ('equival', 90): 3880, ('recognis', 90): 3881, ('molli', 90): 3882, ('carel', 90): 3883, ('cent', 90): 3884, ('deaf', 90): 3885, ('crucial', 90): 3886, ('omen', 90): 3887, ('firstli', 90): 3888, ('dictat', 90): 3889, ('flee', 90): 3890, ('irrelev', 90): 3891, ('furi', 90): 3892, ('mortal', 90): 3893, ('damon', 90): 3894, ('occupi', 90): 3895, ('dement', 90): 3896, ('phantom', 90): 3897, ('louis', 90): 3898, ('sissi', 90): 3899, ('randi', 90): 3900, ('insur', 90): 3901, ('stale', 90): 3902, ('alongsid', 90): 3903, ('june', 90): 3904, ('recognit', 90): 3905, ('1973', 89): 3906, ('freez', 89): 3907, ('grayson', 89): 3908, ('rude', 89): 3909, ('labor', 89): 3910, ('lengthi', 89): 3911, ('ashley', 89): 3912, ('distinguish', 89): 3913, ('heel', 89): 3914, ('newli', 89): 3915, ('daisi', 89): 3916, ('cyborg', 89): 3917, ('reign', 89): 3918, ('likewis', 89): 3919, ('bump', 89): 3920, ('drake', 89): 3921, ('bike', 89): 3922, ('antwon', 89): 3923, ('twilight', 89): 3924, ('loyalti', 89): 3925, ('biko', 89): 3926, ('rooney', 89): 3927, ('onlin', 89): 3928, ('dreari', 89): 3929, ('blackmail', 89): 3930, ('damm', 89): 3931, ('wisdom', 89): 3932, ('buffalo', 89): 3933, ('barrymor', 88): 3934, ('vein', 88): 3935, ('tunnel', 88): 3936, ('incorpor', 88): 3937, ('boxer', 88): 3938, ('chronicl', 88): 3939, ('analysi', 88): 3940, ('sailor', 88): 3941, ('provoc', 88): 3942, ('prey', 88): 3943, ('proce', 88): 3944, ('interior', 88): 3945, ('startl', 88): 3946, ('baddi', 88): 3947, ('butler', 88): 3948, ('exposur', 88): 3949, ('nineti', 88): 3950, ('unorigin', 88): 3951, ('keith', 88): 3952, ('approv', 88): 3953, ('worn', 88): 3954, ('attribut', 88): 3955, ('ridden', 88): 3956, ('pink', 88): 3957, ('basketbal', 88): 3958, ('emphas', 88): 3959, ('inher', 88): 3960, ('substitut', 87): 3961, ('predat', 87): 3962, ('indiffer', 87): 3963, ('elm', 87): 3964, ('underli', 87): 3965, ('meg', 87): 3966, ('barrel', 87): 3967, ('unrel', 87): 3968, ('belushi', 87): 3969, ('er', 87): 3970, ('bunni', 87): 3971, ('stalker', 87): 3972, ('meyer', 87): 3973, ('fleet', 87): 3974, ('drift', 87): 3975, ('undeni', 87): 3976, ('improvis', 87): 3977, ('mighti', 87): 3978, ('robbin', 87): 3979, ('hypnot', 87): 3980, ('carla', 87): 3981, ('condemn', 87): 3982, ('nicol', 87): 3983, ('mormon', 87): 3984, ('millionair', 87): 3985, ('walsh', 87): 3986, ('julian', 87): 3987, ('degrad', 87): 3988, ('othello', 87): 3989, ('simmon', 87): 3990, ('alarm', 86): 3991, ('shove', 86): 3992, ('warmth', 86): 3993, ('enthusiasm', 86): 3994, ('unawar', 86): 3995, ('reid', 86): 3996, ('rukh', 86): 3997, ('3d', 86): 3998, ('palac', 86): 3999, ('edgi', 86): 4000, ('marion', 86): 4001, ('greed', 86): 4002, ('mtv', 86): 4003, ('roof', 86): 4004, ('firm', 86): 4005, ('hay', 86): 4006, ('lampoon', 86): 4007, ('agenda', 86): 4008, ('disord', 86): 4009, ('novak', 86): 4010, ('exquisit', 86): 4011, ('errol', 86): 4012, ('nyc', 86): 4013, ('alison', 86): 4014, ('watson', 86): 4015, ('vital', 86): 4016, ('priceless', 86): 4017, ('dolph', 86): 4018, ('ponder', 85): 4019, ('championship', 85): 4020, ('gestur', 85): 4021, ('spain', 85): 4022, ('nun', 85): 4023, ('profit', 85): 4024, ('pamela', 85): 4025, ('thompson', 85): 4026, ('glanc', 85): 4027, ('valentin', 85): 4028, ('randomli', 85): 4029, ('simultan', 85): 4030, ('peril', 85): 4031, ('petti', 85): 4032, ('1933', 85): 4033, ('13th', 85): 4034, ('preserv', 85): 4035, ('unleash', 85): 4036, ('minimum', 85): 4037, ('sergeant', 85): 4038, ('session', 85): 4039, ('cassidi', 85): 4040, ('angela', 85): 4041, ('testament', 85): 4042, ('campaign', 85): 4043, ('what', 85): 4044, ('eastern', 85): 4045, ('iraq', 85): 4046, ('peck', 85): 4047, ('orlean', 85): 4048, ('showdown', 85): 4049, ('coup', 85): 4050, ('distort', 85): 4051, ('drip', 85): 4052, ('crown', 85): 4053, ('beatl', 85): 4054, ('israel', 85): 4055, ('zizek', 85): 4056, ('empathi', 84): 4057, ('crawl', 84): 4058, ('bro', 84): 4059, ('contradict', 84): 4060, ('perpetu', 84): 4061, ('buster', 84): 4062, ('regist', 84): 4063, ('reson', 84): 4064, ('climat', 84): 4065, ('crow', 84): 4066, ('miyazaki', 84): 4067, ('realm', 84): 4068, ('represent', 84): 4069, ('scotland', 84): 4070, ('restrain', 84): 4071, ('exposit', 84): 4072, ('rout', 84): 4073, ('sabrina', 84): 4074, ('stroke', 84): 4075, ('han', 84): 4076, ('kurosawa', 84): 4077, ('stake', 84): 4078, ('cooki', 84): 4079, ('quinn', 84): 4080, ('din', 84): 4081, ('calib', 84): 4082, ('brenda', 84): 4083, ('wig', 84): 4084, ('cream', 84): 4085, ('1984', 84): 4086, ('gentleman', 84): 4087, ('jan', 84): 4088, ('travesti', 84): 4089, ('mon', 84): 4090, ('shootout', 84): 4091, ('unimagin', 84): 4092, ('valley', 84): 4093, ('fido', 84): 4094, ('shaki', 83): 4095, ('femm', 83): 4096, ('soderbergh', 83): 4097, ('absent', 83): 4098, ('sammi', 83): 4099, ('painter', 83): 4100, ('shoddi', 83): 4101, ('derang', 83): 4102, ('tacki', 83): 4103, ('unsatisfi', 83): 4104, ('passabl', 83): 4105, ('geek', 83): 4106, ('fuller', 83): 4107, ('pretens', 83): 4108, ('traumat', 83): 4109, ('1997', 83): 4110, ('spacey', 83): 4111, ('baldwin', 83): 4112, ('ustinov', 83): 4113, ('sucker', 83): 4114, ('delic', 83): 4115, ('compromis', 83): 4116, ('businessman', 83): 4117, ('pole', 83): 4118, ('wax', 83): 4119, ('unseen', 83): 4120, ('abomin', 83): 4121, ('mclaglen', 83): 4122, ('demis', 83): 4123, ('1987', 83): 4124, ('perceiv', 83): 4125, ('dana', 83): 4126, ('censor', 83): 4127, ('greg', 83): 4128, ('cloud', 83): 4129, ('distress', 83): 4130, ('josh', 83): 4131, ('monoton', 83): 4132, ('ross', 83): 4133, ('warrant', 83): 4134, ('meryl', 83): 4135, ('crawford', 83): 4136, ('stargat', 83): 4137, ('darren', 83): 4138, ('wholli', 82): 4139, ('tarantino', 82): 4140, ('deniro', 82): 4141, ('jewel', 82): 4142, ('correctli', 82): 4143, ('austin', 82): 4144, ('anchor', 82): 4145, ('exclus', 82): 4146, ('deceas', 82): 4147, ('expedit', 82): 4148, ('reluct', 82): 4149, ('antonioni', 82): 4150, ('accuraci', 82): 4151, ('fenc', 82): 4152, ('click', 82): 4153, ('tech', 82): 4154, ('valid', 82): 4155, ('norm', 82): 4156, ('verbal', 82): 4157, ('sid', 82): 4158, ('furiou', 82): 4159, ('unravel', 82): 4160, ('primit', 82): 4161, ('kumar', 82): 4162, ('fog', 82): 4163, ('polici', 82): 4164, ('1993', 82): 4165, ('nathan', 82): 4166, ('seal', 82): 4167, ('judgment', 82): 4168, ('clash', 82): 4169, ('uncov', 82): 4170, ('dee', 82): 4171, ('sustain', 81): 4172, ('shanghai', 81): 4173, ('dreck', 81): 4174, ('hallucin', 81): 4175, ('fought', 81): 4176, ('debt', 81): 4177, ('temper', 81): 4178, ('sunni', 81): 4179, ('joel', 81): 4180, ('mode', 81): 4181, ('fart', 81): 4182, ('behold', 81): 4183, ('patienc', 81): 4184, ('slam', 81): 4185, ('seldom', 81): 4186, ('trait', 81): 4187, ('murray', 81): 4188, ('darn', 81): 4189, ('1971', 81): 4190, ('sheet', 81): 4191, ('wang', 81): 4192, ('clerk', 81): 4193, ('ritual', 81): 4194, ('bake', 81): 4195, ('3000', 81): 4196, ('alec', 81): 4197, ('pocket', 81): 4198, ('enforc', 81): 4199, ('nicola', 81): 4200, ('tax', 81): 4201, ('2008', 81): 4202, ('sand', 81): 4203, ('unfair', 81): 4204, ('1995', 81): 4205, ('wretch', 81): 4206, ('fabric', 81): 4207, ('crippl', 81): 4208, ('logan', 81): 4209, ('conduct', 81): 4210, ('roller', 81): 4211, ('vanc', 81): 4212, ('malon', 81): 4213, ('schedul', 80): 4214, ('legaci', 80): 4215, ('guitar', 80): 4216, ('stark', 80): 4217, ('rita', 80): 4218, ('outlin', 80): 4219, ('robber', 80): 4220, ('exhaust', 80): 4221, ('phil', 80): 4222, ('penni', 80): 4223, ('grief', 80): 4224, ('helpless', 80): 4225, ('bridget', 80): 4226, ('runner', 80): 4227, ('scriptwrit', 80): 4228, ('sweep', 80): 4229, ('fundament', 80): 4230, ('preposter', 80): 4231, ('conscious', 80): 4232, ('technicolor', 80): 4233, ('shell', 80): 4234, ('divid', 80): 4235, ('isabel', 80): 4236, ('stuart', 80): 4237, ('bias', 80): 4238, ('canyon', 80): 4239, ('soup', 80): 4240, ('preston', 80): 4241, ('despis', 80): 4242, ('squad', 80): 4243, ('pete', 80): 4244, ('critiqu', 80): 4245, ('tactic', 80): 4246, ('clau', 80): 4247, ('rehash', 79): 4248, ('cigarett', 79): 4249, ('culmin', 79): 4250, ('gregori', 79): 4251, ('alley', 79): 4252, ('drove', 79): 4253, ('restrict', 79): 4254, ('alicia', 79): 4255, ('propos', 79): 4256, ('agenc', 79): 4257, ('jacket', 79): 4258, ('bloom', 79): 4259, ('palanc', 79): 4260, ('unexpectedli', 79): 4261, ('sentinel', 79): 4262, ('inabl', 79): 4263, ('marc', 79): 4264, ('liberti', 79): 4265, ('invad', 79): 4266, ('implic', 79): 4267, ('passag', 79): 4268, ('flair', 79): 4269, ('sugar', 79): 4270, ('lacklust', 79): 4271, ('kansa', 79): 4272, ('downey', 79): 4273, ('newman', 79): 4274, ('consciou', 79): 4275, ('vomit', 79): 4276, ('boyl', 79): 4277, ('rear', 79): 4278, ('connor', 79): 4279, ('delv', 79): 4280, ('jodi', 79): 4281, ('sniper', 79): 4282, ('russia', 79): 4283, ('improb', 78): 4284, ('chainsaw', 78): 4285, ('wrench', 78): 4286, ('rampag', 78): 4287, ('rehears', 78): 4288, ('horn', 78): 4289, ('feat', 78): 4290, ('tendenc', 78): 4291, ('bacon', 78): 4292, ('22', 78): 4293, ('lush', 78): 4294, ('tripe', 78): 4295, ('arrow', 78): 4296, ('aesthet', 78): 4297, ('pale', 78): 4298, ('1936', 78): 4299, ('vet', 78): 4300, ('mccoy', 78): 4301, ('rod', 78): 4302, ('asylum', 78): 4303, ('kolchak', 78): 4304, ('delet', 78): 4305, ('behaviour', 78): 4306, ('ladder', 78): 4307, ('karl', 78): 4308, ('cap', 78): 4309, ('sharon', 78): 4310, ('awhil', 78): 4311, ('foxx', 78): 4312, ('yeti', 78): 4313, ('amazon', 77): 4314, ('hulk', 77): 4315, ('hungri', 77): 4316, ('suspicion', 77): 4317, ('fright', 77): 4318, ('loneli', 77): 4319, ('rumor', 77): 4320, ('basing', 77): 4321, ('aristocrat', 77): 4322, ('minu', 77): 4323, ('globe', 77): 4324, ('tasteless', 77): 4325, ('scoop', 77): 4326, ('paradis', 77): 4327, ('shortcom', 77): 4328, ('thunderbird', 77): 4329, ('wildli', 77): 4330, ('elit', 77): 4331, ('spice', 77): 4332, ('1920', 77): 4333, ('coaster', 77): 4334, ('rhythm', 77): 4335, ('visitor', 77): 4336, ('suffici', 77): 4337, ('sung', 77): 4338, ('paramount', 77): 4339, ('1978', 77): 4340, ('newcom', 77): 4341, ('filler', 77): 4342, ('weav', 77): 4343, ('lurk', 77): 4344, ('prank', 77): 4345, ('underneath', 77): 4346, ('1988', 77): 4347, ('conscienc', 77): 4348, ('19th', 77): 4349, ('financ', 77): 4350, ('tomorrow', 77): 4351, ('el', 77): 4352, ('wagner', 77): 4353, ('hackney', 77): 4354, ('stream', 77): 4355, ('abrupt', 76): 4356, ('bread', 76): 4357, ('standout', 76): 4358, ('penn', 76): 4359, ('grudg', 76): 4360, ('choppi', 76): 4361, ('smell', 76): 4362, ('recogniz', 76): 4363, ('chamberlain', 76): 4364, ('literari', 76): 4365, ('iv', 76): 4366, ('brit', 76): 4367, ('curli', 76): 4368, ('dirt', 76): 4369, ('ram', 76): 4370, ('entranc', 76): 4371, ('inmat', 76): 4372, ('leigh', 76): 4373, ('en', 76): 4374, ('lectur', 76): 4375, ('minist', 76): 4376, ('cancer', 76): 4377, ('straightforward', 76): 4378, ('springer', 76): 4379, ('atroc', 76): 4380, ('counterpart', 76): 4381, ('hopkin', 76): 4382, ('secondari', 76): 4383, ('naughti', 76): 4384, ('ingeni', 76): 4385, ('heist', 76): 4386, ('tierney', 76): 4387, ('chavez', 76): 4388, ('couch', 76): 4389, ('immers', 76): 4390, ('rub', 76): 4391, ('1989', 76): 4392, ('impos', 76): 4393, ('beverli', 76): 4394, ('posey', 76): 4395, ('quietli', 76): 4396, ('paxton', 76): 4397, ('1939', 76): 4398, ('75', 76): 4399, ('worship', 76): 4400, ('wwe', 76): 4401, ('teas', 76): 4402, ('nemesi', 75): 4403, ('lindsay', 75): 4404, ('sassi', 75): 4405, ('laurenc', 75): 4406, ('heartfelt', 75): 4407, ('injuri', 75): 4408, ('cattl', 75): 4409, ('quaid', 75): 4410, ('morbid', 75): 4411, ('attenborough', 75): 4412, ('entitl', 75): 4413, ('enthral', 75): 4414, ('yearn', 75): 4415, ('variat', 75): 4416, ('sublim', 75): 4417, ('esther', 75): 4418, ('transcend', 75): 4419, ('duel', 75): 4420, ('ace', 75): 4421, ('misguid', 75): 4422, ('convert', 75): 4423, ('bernard', 75): 4424, ('missil', 75): 4425, ('1986', 75): 4426, ('moreov', 75): 4427, ('policeman', 75): 4428, ('clan', 75): 4429, ('net', 75): 4430, ('skeptic', 75): 4431, ('watcher', 75): 4432, ('geni', 75): 4433, ('nolan', 75): 4434, ('ratso', 75): 4435, ('setup', 74): 4436, ('uncut', 74): 4437, ('unexplain', 74): 4438, ('spiral', 74): 4439, ('youngest', 74): 4440, ('bean', 74): 4441, ('rosemari', 74): 4442, ('graini', 74): 4443, ('cruelti', 74): 4444, ('puppi', 74): 4445, ('facil', 74): 4446, ('poe', 74): 4447, ('reliabl', 74): 4448, ('1979', 74): 4449, ('dont', 74): 4450, ('hopelessli', 74): 4451, ('tyler', 74): 4452, ('carlito', 74): 4453, ('brood', 74): 4454, ('bye', 74): 4455, ('moder', 74): 4456, ('diari', 74): 4457, ('obstacl', 74): 4458, ('kitti', 74): 4459, ('steadi', 74): 4460, ('mytholog', 74): 4461, ('enabl', 74): 4462, ('egg', 74): 4463, ('out', 74): 4464, ('vader', 74): 4465, ('artsi', 74): 4466, ('kidman', 74): 4467, ('grin', 74): 4468, ('hk', 74): 4469, ('buzz', 74): 4470, ('characteris', 74): 4471, ('exterior', 73): 4472, ('acquaint', 73): 4473, ('athlet', 73): 4474, ('kline', 73): 4475, ('weather', 73): 4476, ('gina', 73): 4477, ('1969', 73): 4478, ('effici', 73): 4479, ('disastr', 73): 4480, ('baffl', 73): 4481, ('narrow', 73): 4482, ('niec', 73): 4483, ('heap', 73): 4484, ('fuel', 73): 4485, ('bounc', 73): 4486, ('decept', 73): 4487, ('bewar', 73): 4488, ('gillian', 73): 4489, ('despic', 73): 4490, ('preming', 73): 4491, ('underworld', 73): 4492, ('oblig', 73): 4493, ('bronson', 73): 4494, ('patricia', 73): 4495, ('hain', 73): 4496, ('hammi', 73): 4497, ('martha', 73): 4498, ('clueless', 73): 4499, ('sweat', 73): 4500, ('brendan', 73): 4501, ('spontan', 73): 4502, ('christin', 73): 4503, ('dilemma', 72): 4504, ('sleepwalk', 72): 4505, ('insipid', 72): 4506, ('outlaw', 72): 4507, ('lester', 72): 4508, ('harmless', 72): 4509, ('19', 72): 4510, ('mermaid', 72): 4511, ('enlist', 72): 4512, ('rome', 72): 4513, ('housewif', 72): 4514, ('virtu', 72): 4515, ('renaiss', 72): 4516, ('loi', 72): 4517, ('angst', 72): 4518, ('uh', 72): 4519, ('analyz', 72): 4520, ('dandi', 72): 4521, ('tick', 72): 4522, ('circu', 72): 4523, ('biker', 72): 4524, ('sooner', 72): 4525, ('trigger', 72): 4526, ('scar', 72): 4527, ('loath', 72): 4528, ('headach', 72): 4529, ('suprem', 72): 4530, ('preachi', 72): 4531, ('shatter', 72): 4532, ('taboo', 72): 4533, ('injur', 72): 4534, ('viewpoint', 72): 4535, ('mayhem', 72): 4536, ('astound', 72): 4537, ('candl', 72): 4538, ('hepburn', 72): 4539, ('73', 72): 4540, ('goof', 72): 4541, ('fontain', 72): 4542, ('sox', 71): 4543, ('immatur', 71): 4544, ('ariel', 71): 4545, ('amor', 71): 4546, ('dismal', 71): 4547, ('intric', 71): 4548, ('oldest', 71): 4549, ('fluff', 71): 4550, ('redund', 71): 4551, ('slimi', 71): 4552, ('glorifi', 71): 4553, ('phenomenon', 71): 4554, ('cassavet', 71): 4555, ('claustrophob', 71): 4556, ('surgeri', 71): 4557, ('stair', 71): 4558, ('macho', 71): 4559, ('contempt', 71): 4560, ('hooker', 71): 4561, ('hokey', 71): 4562, ('boston', 71): 4563, ('guin', 71): 4564, ('steer', 71): 4565, ('scorses', 71): 4566, ('foolish', 71): 4567, ('hostag', 71): 4568, ('ebert', 71): 4569, ('idol', 71): 4570, ('zoom', 71): 4571, ('corbett', 71): 4572, ('dish', 71): 4573, ('filth', 71): 4574, ('salt', 71): 4575, ('camcord', 71): 4576, ('bent', 71): 4577, ('overlong', 71): 4578, ('spade', 71): 4579, ('whore', 71): 4580, ('gere', 71): 4581, ('stimul', 71): 4582, ('tripl', 71): 4583, ('muscl', 70): 4584, ('gasp', 70): 4585, ('corman', 70): 4586, ('joker', 70): 4587, ('flirt', 70): 4588, ('cow', 70): 4589, ('spinal', 70): 4590, ('flashi', 70): 4591, ('remad', 70): 4592, ('transplant', 70): 4593, ('cohen', 70): 4594, ('astronaut', 70): 4595, ('faint', 70): 4596, ('proport', 70): 4597, ('radiat', 70): 4598, ('conquer', 70): 4599, ('zane', 70): 4600, ('1981', 70): 4601, ('gabl', 70): 4602, ('schlock', 70): 4603, ('beard', 70): 4604, ('strongest', 70): 4605, ('assert', 70): 4606, ('antagonist', 70): 4607, ('fascist', 70): 4608, ('nolt', 70): 4609, ('dwarf', 70): 4610, ('mount', 70): 4611, ('cush', 70): 4612, ('trivia', 70): 4613, ('spree', 70): 4614, ('rhyme', 70): 4615, ('down', 70): 4616, ('margin', 70): 4617, ('flag', 70): 4618, ('preced', 70): 4619, ('frantic', 70): 4620, ('perman', 70): 4621, ('keen', 70): 4622, ('messi', 70): 4623, ('mutual', 70): 4624, ('harold', 70): 4625, ('obligatori', 70): 4626, ('1976', 70): 4627, ('naschi', 70): 4628, ('shred', 70): 4629, ('widescreen', 70): 4630, ('shield', 70): 4631, ('alvin', 70): 4632, ('neurot', 69): 4633, ('wield', 69): 4634, ('inflict', 69): 4635, ('strive', 69): 4636, ('sensual', 69): 4637, ('aborigin', 69): 4638, ('mobil', 69): 4639, ('1945', 69): 4640, ('divin', 69): 4641, ('danish', 69): 4642, ('deer', 69): 4643, ('instruct', 69): 4644, ('vaniti', 69): 4645, ('resum', 69): 4646, ('info', 69): 4647, ('departur', 69): 4648, ('interestingli', 69): 4649, ('95', 69): 4650, ('boob', 69): 4651, ('bitten', 69): 4652, ('someday', 69): 4653, ('archiv', 69): 4654, ('www', 69): 4655, ('off', 69): 4656, ('raj', 69): 4657, ('carey', 69): 4658, ('fishburn', 69): 4659, ('barn', 69): 4660, ('triangl', 69): 4661, ('claud', 69): 4662, ('ritchi', 69): 4663, ('hara', 69): 4664, ('bachelor', 69): 4665, ('discern', 69): 4666, ('28', 69): 4667, ('persuad', 69): 4668, ('repris', 69): 4669, ('brush', 69): 4670, ('scandal', 69): 4671, ('flock', 69): 4672, ('mol', 69): 4673, ('dim', 68): 4674, ('recit', 68): 4675, ('clad', 68): 4676, ('kathryn', 68): 4677, ('harrison', 68): 4678, ('pixar', 68): 4679, ('heartwarm', 68): 4680, ('neill', 68): 4681, ('pacif', 68): 4682, ('colin', 68): 4683, ('jade', 68): 4684, ('senior', 68): 4685, ('wendigo', 68): 4686, ('artwork', 68): 4687, ('rot', 68): 4688, ('pickford', 68): 4689, ('earnest', 68): 4690, ('mobster', 68): 4691, ('helm', 68): 4692, ('bate', 68): 4693, ('hilar', 68): 4694, ('carlo', 68): 4695, ('melissa', 68): 4696, ('dame', 68): 4697, ('cher', 68): 4698, ('hapless', 68): 4699, ('anton', 68): 4700, ('prophet', 68): 4701, ('ish', 68): 4702, ('undermin', 68): 4703, ('axe', 68): 4704, ('proclaim', 68): 4705, ('frontier', 68): 4706, ('biblic', 68): 4707, ('casino', 68): 4708, ('submit', 68): 4709, ('parson', 68): 4710, ('miracul', 68): 4711, ('traffic', 68): 4712, ('fragil', 68): 4713, ('luka', 68): 4714, ('dylan', 68): 4715, ('banter', 68): 4716, ('hug', 68): 4717, ('loretta', 68): 4718, ('cycl', 68): 4719, ('vibrant', 68): 4720, ('cb', 68): 4721, ('cliffhang', 68): 4722, ('europa', 68): 4723, ('timberlak', 68): 4724, ('uma', 67): 4725, ('isra', 67): 4726, ('rooki', 67): 4727, ('orphan', 67): 4728, ('illus', 67): 4729, ('pc', 67): 4730, ('wardrob', 67): 4731, ('venom', 67): 4732, ('sicken', 67): 4733, ('eli', 67): 4734, ('aris', 67): 4735, ('northern', 67): 4736, ('legitim', 67): 4737, ('estrang', 67): 4738, ('redneck', 67): 4739, ('blatantli', 67): 4740, ('foil', 67): 4741, ('feast', 67): 4742, ('jo', 67): 4743, ('static', 67): 4744, ('articl', 67): 4745, ('lucil', 67): 4746, ('razor', 67): 4747, ('flavor', 67): 4748, ('mason', 67): 4749, ('electron', 67): 4750, ('jordan', 67): 4751, ('breakfast', 67): 4752, ('vanessa', 67): 4753, ('nope', 67): 4754, ('seedi', 67): 4755, ('shepherd', 67): 4756, ('cerebr', 67): 4757, ('http', 67): 4758, ('akin', 67): 4759, ('toronto', 67): 4760, ('mathieu', 67): 4761, ('misfortun', 67): 4762, ('vile', 67): 4763, ('choke', 67): 4764, ('bikini', 67): 4765, ('holocaust', 67): 4766, ('marlon', 67): 4767, ('token', 67): 4768, ('milo', 67): 4769, ('antholog', 67): 4770, ('bondag', 67): 4771, ('trier', 67): 4772, ('lui', 67): 4773, ('alexandr', 67): 4774, ('winchest', 67): 4775, ('abund', 66): 4776, ('highway', 66): 4777, ('comprehend', 66): 4778, ('smack', 66): 4779, ('psych', 66): 4780, ('deem', 66): 4781, ('ceremoni', 66): 4782, ('feminin', 66): 4783, ('dudley', 66): 4784, ('howl', 66): 4785, ('turd', 66): 4786, ('leather', 66): 4787, ('linear', 66): 4788, ('cartoonish', 66): 4789, ('retriev', 66): 4790, ('charlton', 66): 4791, ('outdat', 66): 4792, ('disregard', 66): 4793, ('tack', 66): 4794, ('boyer', 66): 4795, ('peer', 66): 4796, ('huston', 66): 4797, ('affleck', 66): 4798, ('gunga', 66): 4799, ('nightclub', 66): 4800, ('clinic', 66): 4801, ('ideolog', 66): 4802, ('swept', 66): 4803, ('magician', 66): 4804, ('shorter', 66): 4805, ('knightley', 66): 4806, ('glare', 66): 4807, ('oppon', 66): 4808, ('gilbert', 66): 4809, ('styliz', 66): 4810, ('audrey', 66): 4811, ('wrestler', 66): 4812, ('fifth', 66): 4813, ('frog', 66): 4814, ('evolut', 65): 4815, ('tara', 65): 4816, ('potter', 65): 4817, ('corn', 65): 4818, ('plate', 65): 4819, ('newer', 65): 4820, ('chip', 65): 4821, ('lighter', 65): 4822, ('client', 65): 4823, ('collector', 65): 4824, ('braveheart', 65): 4825, ('energet', 65): 4826, ('btw', 65): 4827, ('bastard', 65): 4828, ('snatch', 65): 4829, ('mitch', 65): 4830, ('moe', 65): 4831, ('cuban', 65): 4832, ('salman', 65): 4833, ('durat', 65): 4834, ('einstein', 65): 4835, ('boo', 65): 4836, ('phenomen', 65): 4837, ('spawn', 65): 4838, ('1991', 65): 4839, ('conrad', 65): 4840, ('1994', 65): 4841, ('greet', 65): 4842, ('breakdown', 65): 4843, ('lavish', 65): 4844, ('whack', 65): 4845, ('deliver', 65): 4846, ('lifeless', 65): 4847, ('4th', 65): 4848, ('toe', 65): 4849, ('uniformli', 65): 4850, ('cemeteri', 65): 4851, ('goldsworthi', 65): 4852, ('monument', 65): 4853, ('compris', 65): 4854, ('summar', 65): 4855, ('senat', 65): 4856, ('sleaz', 65): 4857, ('spine', 65): 4858, ('bogu', 65): 4859, ('firmli', 64): 4860, ('replay', 64): 4861, ('mcqueen', 64): 4862, ('evelyn', 64): 4863, ('embark', 64): 4864, ('ol', 64): 4865, ('outright', 64): 4866, ('eleven', 64): 4867, ('jule', 64): 4868, ('jam', 64): 4869, ('wtf', 64): 4870, ('jedi', 64): 4871, ('healthi', 64): 4872, ('gilliam', 64): 4873, ('jare', 64): 4874, ('undead', 64): 4875, ('judd', 64): 4876, ('spectacl', 64): 4877, ('neatli', 64): 4878, ('bulk', 64): 4879, ('trauma', 64): 4880, ('lex', 64): 4881, ('pronounc', 64): 4882, ('signal', 64): 4883, ('creek', 64): 4884, ('kent', 64): 4885, ('capot', 64): 4886, ('occup', 64): 4887, ('appl', 64): 4888, ('cecil', 64): 4889, ('armstrong', 64): 4890, ('historian', 64): 4891, ('undertak', 64): 4892, ('fluid', 64): 4893, ('1974', 64): 4894, ('ie', 64): 4895, ('sorrow', 64): 4896, ('alleg', 64): 4897, ('constitut', 64): 4898, ('bori', 64): 4899, ('clara', 64): 4900, ('nina', 64): 4901, ('liu', 64): 4902, ('belli', 64): 4903, ('inaccuraci', 64): 4904, ('luxuri', 64): 4905, ('randolph', 64): 4906, ('kazan', 64): 4907, ('1977', 64): 4908, ('ash', 63): 4909, ('unsuspect', 63): 4910, ('curtain', 63): 4911, ('abound', 63): 4912, ('sacrif', 63): 4913, ('comprehens', 63): 4914, ('vain', 63): 4915, ('comb', 63): 4916, ('kiddi', 63): 4917, ('walt', 63): 4918, ('basket', 63): 4919, ('sidewalk', 63): 4920, ('vignett', 63): 4921, ('lauren', 63): 4922, ('galaxi', 63): 4923, ('palm', 63): 4924, ('groan', 63): 4925, ('antonio', 63): 4926, ('inclus', 63): 4927, ('congratul', 63): 4928, ('fruit', 63): 4929, ('conan', 63): 4930, ('genet', 63): 4931, ('decapit', 63): 4932, ('spray', 63): 4933, ('aussi', 63): 4934, ('goldblum', 63): 4935, ('tokyo', 63): 4936, ('meal', 63): 4937, ('propheci', 63): 4938, ('unattract', 63): 4939, ('poker', 63): 4940, ('lanc', 63): 4941, ('roar', 63): 4942, ('1985', 63): 4943, ('mum', 63): 4944, ('bsg', 63): 4945, ('truman', 63): 4946, ('rosario', 63): 4947, ('knee', 63): 4948, ('subtli', 63): 4949, ('forgiven', 63): 4950, ('cape', 63): 4951, ('id', 63): 4952, ('relentless', 63): 4953, ('porter', 63): 4954, ('inaccur', 63): 4955, ('miami', 63): 4956, ('blur', 63): 4957, ('miniseri', 63): 4958, ('pepper', 63): 4959, ('bait', 63): 4960, ('pioneer', 63): 4961, ('paula', 63): 4962, ('carmen', 63): 4963, ('monti', 62): 4964, ('orchestr', 62): 4965, ('dubiou', 62): 4966, ('substanti', 62): 4967, ('reincarn', 62): 4968, ('vastli', 62): 4969, ('masterson', 62): 4970, ('asset', 62): 4971, ('modest', 62): 4972, ('motorcycl', 62): 4973, ('profil', 62): 4974, ('victorian', 62): 4975, ('detach', 62): 4976, ('sophi', 62): 4977, ('weari', 62): 4978, ('incorrect', 62): 4979, ('bach', 62): 4980, ('jill', 62): 4981, ('scarfac', 62): 4982, ('evan', 62): 4983, ('scariest', 62): 4984, ('handicap', 62): 4985, ('mice', 62): 4986, ('growth', 62): 4987, ('hostil', 62): 4988, ('drone', 62): 4989, ('epitom', 62): 4990, ('hackman', 62): 4991, ('weaker', 62): 4992, ('bravo', 62): 4993, ('21st', 62): 4994, ('optimist', 62): 4995, ('ingrid', 62): 4996, ('cypher', 62): 4997, ('assort', 62): 4998, ('frontal', 62): 4999}\n"
     ]
    }
   ],
   "source": [
    "print(word_dict)"
   ]
  },
  {
   "cell_type": "code",
   "execution_count": 13,
   "metadata": {},
   "outputs": [
    {
     "name": "stdout",
     "output_type": "stream",
     "text": [
      "[]\n"
     ]
    }
   ],
   "source": [
    "# TODO: Use this space to determine the five most frequently appearing words in the training set.\n",
    "\n",
    "## Determine the five most frequently appearing words\n",
    "five_most = []\n",
    "for word, idx in word_dict:\n",
    "    if idx in [2, 3, 4, 5, 6]:\n",
    "        five_most.append(word)\n",
    "\n",
    "## Print all the words\n",
    "print(five_most)"
   ]
  },
  {
   "cell_type": "markdown",
   "metadata": {},
   "source": [
    "### Save `word_dict`\n",
    "\n",
    "Later on when we construct an endpoint which processes a submitted review we will need to make use of the `word_dict` which we have created. As such, we will save it to a file now for future use."
   ]
  },
  {
   "cell_type": "code",
   "execution_count": null,
   "metadata": {},
   "outputs": [],
   "source": [
    "data_dir = '../data/pytorch' # The folder we will use for storing data\n",
    "if not os.path.exists(data_dir): # Make sure that the folder exists\n",
    "    os.makedirs(data_dir)"
   ]
  },
  {
   "cell_type": "code",
   "execution_count": null,
   "metadata": {},
   "outputs": [],
   "source": [
    "with open(os.path.join(data_dir, 'word_dict.pkl'), \"wb\") as f:\n",
    "    pickle.dump(word_dict, f)"
   ]
  },
  {
   "cell_type": "markdown",
   "metadata": {},
   "source": [
    "### Transform the reviews\n",
    "\n",
    "Now that we have our word dictionary which allows us to transform the words appearing in the reviews into integers, it is time to make use of it and convert our reviews to their integer sequence representation, making sure to pad or truncate to a fixed length, which in our case is `500`."
   ]
  },
  {
   "cell_type": "code",
   "execution_count": null,
   "metadata": {},
   "outputs": [],
   "source": [
    "def convert_and_pad(word_dict, sentence, pad=500):\n",
    "    NOWORD = 0 # We will use 0 to represent the 'no word' category\n",
    "    INFREQ = 1 # and we use 1 to represent the infrequent words, i.e., words not appearing in word_dict\n",
    "    \n",
    "    working_sentence = [NOWORD] * pad\n",
    "    \n",
    "    for word_index, word in enumerate(sentence[:pad]):\n",
    "        if word in word_dict:\n",
    "            working_sentence[word_index] = word_dict[word]\n",
    "        else:\n",
    "            working_sentence[word_index] = INFREQ\n",
    "            \n",
    "    return working_sentence, min(len(sentence), pad)\n",
    "\n",
    "def convert_and_pad_data(word_dict, data, pad=500):\n",
    "    result = []\n",
    "    lengths = []\n",
    "    \n",
    "    for sentence in data:\n",
    "        converted, leng = convert_and_pad(word_dict, sentence, pad)\n",
    "        result.append(converted)\n",
    "        lengths.append(leng)\n",
    "        \n",
    "    return np.array(result), np.array(lengths)"
   ]
  },
  {
   "cell_type": "code",
   "execution_count": null,
   "metadata": {},
   "outputs": [],
   "source": [
    "train_X, train_X_len = convert_and_pad_data(word_dict, train_X)\n",
    "test_X, test_X_len = convert_and_pad_data(word_dict, test_X)"
   ]
  },
  {
   "cell_type": "markdown",
   "metadata": {},
   "source": [
    "As a quick check to make sure that things are working as intended, check to see what one of the reviews in the training set looks like after having been processeed. Does this look reasonable? What is the length of a review in the training set?"
   ]
  },
  {
   "cell_type": "code",
   "execution_count": null,
   "metadata": {},
   "outputs": [],
   "source": [
    "# Use this cell to examine one of the processed reviews to make sure everything is working as intended.\n",
    "print(\"Examine one sentence review\")\n",
    "print(train_X[100])\n",
    "print()\n",
    "print(\"The Length of this review {}\".format(len(train_X[100])))"
   ]
  },
  {
   "cell_type": "markdown",
   "metadata": {},
   "source": [
    "**Question:** In the cells above we use the `preprocess_data` and `convert_and_pad_data` methods to process both the training and testing set. Why or why not might this be a problem?"
   ]
  },
  {
   "cell_type": "markdown",
   "metadata": {},
   "source": [
    "**Answer:**"
   ]
  },
  {
   "cell_type": "markdown",
   "metadata": {},
   "source": [
    "## Step 3: Upload the data to S3\n",
    "\n",
    "As in the XGBoost notebook, we will need to upload the training dataset to S3 in order for our training code to access it. For now we will save it locally and we will upload to S3 later on.\n",
    "\n",
    "### Save the processed training dataset locally\n",
    "\n",
    "It is important to note the format of the data that we are saving as we will need to know it when we write the training code. In our case, each row of the dataset has the form `label`, `length`, `review[500]` where `review[500]` is a sequence of `500` integers representing the words in the review."
   ]
  },
  {
   "cell_type": "code",
   "execution_count": null,
   "metadata": {},
   "outputs": [],
   "source": [
    "import pandas as pd\n",
    "    \n",
    "pd.concat([pd.DataFrame(train_y), pd.DataFrame(train_X_len), pd.DataFrame(train_X)], axis=1) \\\n",
    "        .to_csv(os.path.join(data_dir, 'train.csv'), header=False, index=False)"
   ]
  },
  {
   "cell_type": "markdown",
   "metadata": {},
   "source": [
    "### Uploading the training data\n",
    "\n",
    "\n",
    "Next, we need to upload the training data to the SageMaker default S3 bucket so that we can provide access to it while training our model."
   ]
  },
  {
   "cell_type": "code",
   "execution_count": null,
   "metadata": {},
   "outputs": [],
   "source": [
    "import sagemaker\n",
    "\n",
    "sagemaker_session = sagemaker.Session()\n",
    "\n",
    "bucket = sagemaker_session.default_bucket()\n",
    "prefix = 'sagemaker/sentiment_rnn'\n",
    "\n",
    "role = sagemaker.get_execution_role()"
   ]
  },
  {
   "cell_type": "code",
   "execution_count": null,
   "metadata": {},
   "outputs": [],
   "source": [
    "input_data = sagemaker_session.upload_data(path=data_dir, bucket=bucket, key_prefix=prefix)"
   ]
  },
  {
   "cell_type": "markdown",
   "metadata": {},
   "source": [
    "**NOTE:** The cell above uploads the entire contents of our data directory. This includes the `word_dict.pkl` file. This is fortunate as we will need this later on when we create an endpoint that accepts an arbitrary review. For now, we will just take note of the fact that it resides in the data directory (and so also in the S3 training bucket) and that we will need to make sure it gets saved in the model directory."
   ]
  },
  {
   "cell_type": "markdown",
   "metadata": {},
   "source": [
    "## Step 4: Build and Train the PyTorch Model\n",
    "\n",
    "In the XGBoost notebook we discussed what a model is in the SageMaker framework. In particular, a model comprises three objects\n",
    "\n",
    " - Model Artifacts,\n",
    " - Training Code, and\n",
    " - Inference Code,\n",
    " \n",
    "each of which interact with one another. In the XGBoost example we used training and inference code that was provided by Amazon. Here we will still be using containers provided by Amazon with the added benefit of being able to include our own custom code.\n",
    "\n",
    "We will start by implementing our own neural network in PyTorch along with a training script. For the purposes of this project we have provided the necessary model object in the `model.py` file, inside of the `train` folder. You can see the provided implementation by running the cell below."
   ]
  },
  {
   "cell_type": "code",
   "execution_count": null,
   "metadata": {},
   "outputs": [],
   "source": [
    "!pygmentize train/model.py"
   ]
  },
  {
   "cell_type": "markdown",
   "metadata": {},
   "source": [
    "The important takeaway from the implementation provided is that there are three parameters that we may wish to tweak to improve the performance of our model. These are the embedding dimension, the hidden dimension and the size of the vocabulary. We will likely want to make these parameters configurable in the training script so that if we wish to modify them we do not need to modify the script itself. We will see how to do this later on. To start we will write some of the training code in the notebook so that we can more easily diagnose any issues that arise.\n",
    "\n",
    "First we will load a small portion of the training data set to use as a sample. It would be very time consuming to try and train the model completely in the notebook as we do not have access to a gpu and the compute instance that we are using is not particularly powerful. However, we can work on a small bit of the data to get a feel for how our training script is behaving."
   ]
  },
  {
   "cell_type": "code",
   "execution_count": null,
   "metadata": {},
   "outputs": [],
   "source": [
    "import torch\n",
    "import torch.utils.data\n",
    "\n",
    "# Read in only the first 250 rows\n",
    "train_sample = pd.read_csv(os.path.join(data_dir, 'train.csv'), header=None, names=None, nrows=250)\n",
    "\n",
    "# Turn the input pandas dataframe into tensors\n",
    "train_sample_y = torch.from_numpy(train_sample[[0]].values).float().squeeze()\n",
    "train_sample_X = torch.from_numpy(train_sample.drop([0], axis=1).values).long()\n",
    "\n",
    "# Build the dataset\n",
    "train_sample_ds = torch.utils.data.TensorDataset(train_sample_X, train_sample_y)\n",
    "# Build the dataloader\n",
    "train_sample_dl = torch.utils.data.DataLoader(train_sample_ds, batch_size=50)"
   ]
  },
  {
   "cell_type": "markdown",
   "metadata": {},
   "source": [
    "### (TODO) Writing the training method\n",
    "\n",
    "Next we need to write the training code itself. This should be very similar to training methods that you have written before to train PyTorch models. We will leave any difficult aspects such as model saving / loading and parameter loading until a little later."
   ]
  },
  {
   "cell_type": "code",
   "execution_count": null,
   "metadata": {},
   "outputs": [],
   "source": [
    "def train(model, train_loader, epochs, optimizer, loss_fn, device):\n",
    "    for epoch in range(1, epochs + 1):\n",
    "        model.train()\n",
    "        total_loss = 0\n",
    "        for batch in train_loader:         \n",
    "            batch_X, batch_y = batch\n",
    "            \n",
    "            batch_X = batch_X.to(device)\n",
    "            batch_y = batch_y.to(device)\n",
    "            \n",
    "            # TODO: Complete this train method to train the model provided.\n",
    "            \n",
    "            total_loss += loss.data.item()\n",
    "        print(\"Epoch: {}, BCELoss: {}\".format(epoch, total_loss / len(train_loader)))"
   ]
  },
  {
   "cell_type": "markdown",
   "metadata": {},
   "source": [
    "Supposing we have the training method above, we will test that it is working by writing a bit of code in the notebook that executes our training method on the small sample training set that we loaded earlier. The reason for doing this in the notebook is so that we have an opportunity to fix any errors that arise early when they are easier to diagnose."
   ]
  },
  {
   "cell_type": "code",
   "execution_count": null,
   "metadata": {},
   "outputs": [],
   "source": [
    "import torch.optim as optim\n",
    "from train.model import LSTMClassifier\n",
    "\n",
    "device = torch.device(\"cuda\" if torch.cuda.is_available() else \"cpu\")\n",
    "model = LSTMClassifier(32, 100, 5000).to(device)\n",
    "optimizer = optim.Adam(model.parameters())\n",
    "loss_fn = torch.nn.BCELoss()\n",
    "\n",
    "train(model, train_sample_dl, 5, optimizer, loss_fn, device)"
   ]
  },
  {
   "cell_type": "markdown",
   "metadata": {},
   "source": [
    "In order to construct a PyTorch model using SageMaker we must provide SageMaker with a training script. We may optionally include a directory which will be copied to the container and from which our training code will be run. When the training container is executed it will check the uploaded directory (if there is one) for a `requirements.txt` file and install any required Python libraries, after which the training script will be run."
   ]
  },
  {
   "cell_type": "markdown",
   "metadata": {},
   "source": [
    "### (TODO) Training the model\n",
    "\n",
    "When a PyTorch model is constructed in SageMaker, an entry point must be specified. This is the Python file which will be executed when the model is trained. Inside of the `train` directory is a file called `train.py` which has been provided and which contains most of the necessary code to train our model. The only thing that is missing is the implementation of the `train()` method which you wrote earlier in this notebook.\n",
    "\n",
    "**TODO**: Copy the `train()` method written above and paste it into the `train/train.py` file where required.\n",
    "\n",
    "The way that SageMaker passes hyperparameters to the training script is by way of arguments. These arguments can then be parsed and used in the training script. To see how this is done take a look at the provided `train/train.py` file."
   ]
  },
  {
   "cell_type": "code",
   "execution_count": null,
   "metadata": {},
   "outputs": [],
   "source": [
    "from sagemaker.pytorch import PyTorch\n",
    "\n",
    "estimator = PyTorch(entry_point=\"train.py\",\n",
    "                    source_dir=\"train\",\n",
    "                    role=role,\n",
    "                    framework_version='0.4.0',\n",
    "                    train_instance_count=1,\n",
    "                    train_instance_type='ml.p2.xlarge',\n",
    "                    hyperparameters={\n",
    "                        'epochs': 10,\n",
    "                        'hidden_dim': 200,\n",
    "                    })"
   ]
  },
  {
   "cell_type": "code",
   "execution_count": null,
   "metadata": {},
   "outputs": [],
   "source": [
    "estimator.fit({'training': input_data})"
   ]
  },
  {
   "cell_type": "markdown",
   "metadata": {},
   "source": [
    "## Step 5: Testing the model\n",
    "\n",
    "As mentioned at the top of this notebook, we will be testing this model by first deploying it and then sending the testing data to the deployed endpoint. We will do this so that we can make sure that the deployed model is working correctly.\n",
    "\n",
    "## Step 6: Deploy the model for testing\n",
    "\n",
    "Now that we have trained our model, we would like to test it to see how it performs. Currently our model takes input of the form `review_length, review[500]` where `review[500]` is a sequence of `500` integers which describe the words present in the review, encoded using `word_dict`. Fortunately for us, SageMaker provides built-in inference code for models with simple inputs such as this.\n",
    "\n",
    "There is one thing that we need to provide, however, and that is a function which loads the saved model. This function must be called `model_fn()` and takes as its only parameter a path to the directory where the model artifacts are stored. This function must also be present in the python file which we specified as the entry point. In our case the model loading function has been provided and so no changes need to be made.\n",
    "\n",
    "**NOTE**: When the built-in inference code is run it must import the `model_fn()` method from the `train.py` file. This is why the training code is wrapped in a main guard ( ie, `if __name__ == '__main__':` )\n",
    "\n",
    "Since we don't need to change anything in the code that was uploaded during training, we can simply deploy the current model as-is.\n",
    "\n",
    "**NOTE:** When deploying a model you are asking SageMaker to launch an compute instance that will wait for data to be sent to it. As a result, this compute instance will continue to run until *you* shut it down. This is important to know since the cost of a deployed endpoint depends on how long it has been running for.\n",
    "\n",
    "In other words **If you are no longer using a deployed endpoint, shut it down!**\n",
    "\n",
    "**TODO:** Deploy the trained model."
   ]
  },
  {
   "cell_type": "code",
   "execution_count": null,
   "metadata": {},
   "outputs": [],
   "source": [
    "# TODO: Deploy the trained model"
   ]
  },
  {
   "cell_type": "markdown",
   "metadata": {},
   "source": [
    "## Step 7 - Use the model for testing\n",
    "\n",
    "Once deployed, we can read in the test data and send it off to our deployed model to get some results. Once we collect all of the results we can determine how accurate our model is."
   ]
  },
  {
   "cell_type": "code",
   "execution_count": null,
   "metadata": {},
   "outputs": [],
   "source": [
    "test_X = pd.concat([pd.DataFrame(test_X_len), pd.DataFrame(test_X)], axis=1)"
   ]
  },
  {
   "cell_type": "code",
   "execution_count": null,
   "metadata": {},
   "outputs": [],
   "source": [
    "# We split the data into chunks and send each chunk seperately, accumulating the results.\n",
    "\n",
    "def predict(data, rows=512):\n",
    "    split_array = np.array_split(data, int(data.shape[0] / float(rows) + 1))\n",
    "    predictions = np.array([])\n",
    "    for array in split_array:\n",
    "        predictions = np.append(predictions, predictor.predict(array))\n",
    "    \n",
    "    return predictions"
   ]
  },
  {
   "cell_type": "code",
   "execution_count": null,
   "metadata": {},
   "outputs": [],
   "source": [
    "predictions = predict(test_X.values)\n",
    "predictions = [round(num) for num in predictions]"
   ]
  },
  {
   "cell_type": "code",
   "execution_count": null,
   "metadata": {},
   "outputs": [],
   "source": [
    "from sklearn.metrics import accuracy_score\n",
    "accuracy_score(test_y, predictions)"
   ]
  },
  {
   "cell_type": "markdown",
   "metadata": {},
   "source": [
    "**Question:** How does this model compare to the XGBoost model you created earlier? Why might these two models perform differently on this dataset? Which do *you* think is better for sentiment analysis?"
   ]
  },
  {
   "cell_type": "markdown",
   "metadata": {},
   "source": [
    "**Answer:**"
   ]
  },
  {
   "cell_type": "markdown",
   "metadata": {},
   "source": [
    "### (TODO) More testing\n",
    "\n",
    "We now have a trained model which has been deployed and which we can send processed reviews to and which returns the predicted sentiment. However, ultimately we would like to be able to send our model an unprocessed review. That is, we would like to send the review itself as a string. For example, suppose we wish to send the following review to our model."
   ]
  },
  {
   "cell_type": "code",
   "execution_count": null,
   "metadata": {},
   "outputs": [],
   "source": [
    "test_review = 'The simplest pleasures in life are the best, and this film is one of them. Combining a rather basic storyline of love and adventure this movie transcends the usual weekend fair with wit and unmitigated charm.'"
   ]
  },
  {
   "cell_type": "markdown",
   "metadata": {},
   "source": [
    "The question we now need to answer is, how do we send this review to our model?\n",
    "\n",
    "Recall in the first section of this notebook we did a bunch of data processing to the IMDb dataset. In particular, we did two specific things to the provided reviews.\n",
    " - Removed any html tags and stemmed the input\n",
    " - Encoded the review as a sequence of integers using `word_dict`\n",
    " \n",
    "In order process the review we will need to repeat these two steps.\n",
    "\n",
    "**TODO**: Using the `review_to_words` and `convert_and_pad` methods from section one, convert `test_review` into a numpy array `test_data` suitable to send to our model. Remember that our model expects input of the form `review_length, review[500]`."
   ]
  },
  {
   "cell_type": "code",
   "execution_count": null,
   "metadata": {},
   "outputs": [],
   "source": [
    "# TODO: Convert test_review into a form usable by the model and save the results in test_data\n",
    "test_data = None"
   ]
  },
  {
   "cell_type": "markdown",
   "metadata": {},
   "source": [
    "Now that we have processed the review, we can send the resulting array to our model to predict the sentiment of the review."
   ]
  },
  {
   "cell_type": "code",
   "execution_count": null,
   "metadata": {},
   "outputs": [],
   "source": [
    "predictor.predict(test_data)"
   ]
  },
  {
   "cell_type": "markdown",
   "metadata": {},
   "source": [
    "Since the return value of our model is close to `1`, we can be certain that the review we submitted is positive."
   ]
  },
  {
   "cell_type": "markdown",
   "metadata": {},
   "source": [
    "### Delete the endpoint\n",
    "\n",
    "Of course, just like in the XGBoost notebook, once we've deployed an endpoint it continues to run until we tell it to shut down. Since we are done using our endpoint for now, we can delete it."
   ]
  },
  {
   "cell_type": "code",
   "execution_count": null,
   "metadata": {},
   "outputs": [],
   "source": [
    "estimator.delete_endpoint()"
   ]
  },
  {
   "cell_type": "markdown",
   "metadata": {},
   "source": [
    "## Step 6 (again) - Deploy the model for the web app\n",
    "\n",
    "Now that we know that our model is working, it's time to create some custom inference code so that we can send the model a review which has not been processed and have it determine the sentiment of the review.\n",
    "\n",
    "As we saw above, by default the estimator which we created, when deployed, will use the entry script and directory which we provided when creating the model. However, since we now wish to accept a string as input and our model expects a processed review, we need to write some custom inference code.\n",
    "\n",
    "We will store the code that we write in the `serve` directory. Provided in this directory is the `model.py` file that we used to construct our model, a `utils.py` file which contains the `review_to_words` and `convert_and_pad` pre-processing functions which we used during the initial data processing, and `predict.py`, the file which will contain our custom inference code. Note also that `requirements.txt` is present which will tell SageMaker what Python libraries are required by our custom inference code.\n",
    "\n",
    "When deploying a PyTorch model in SageMaker, you are expected to provide four functions which the SageMaker inference container will use.\n",
    " - `model_fn`: This function is the same function that we used in the training script and it tells SageMaker how to load our model.\n",
    " - `input_fn`: This function receives the raw serialized input that has been sent to the model's endpoint and its job is to de-serialize and make the input available for the inference code.\n",
    " - `output_fn`: This function takes the output of the inference code and its job is to serialize this output and return it to the caller of the model's endpoint.\n",
    " - `predict_fn`: The heart of the inference script, this is where the actual prediction is done and is the function which you will need to complete.\n",
    "\n",
    "For the simple website that we are constructing during this project, the `input_fn` and `output_fn` methods are relatively straightforward. We only require being able to accept a string as input and we expect to return a single value as output. You might imagine though that in a more complex application the input or output may be image data or some other binary data which would require some effort to serialize.\n",
    "\n",
    "### (TODO) Writing inference code\n",
    "\n",
    "Before writing our custom inference code, we will begin by taking a look at the code which has been provided."
   ]
  },
  {
   "cell_type": "code",
   "execution_count": null,
   "metadata": {},
   "outputs": [],
   "source": [
    "!pygmentize serve/predict.py"
   ]
  },
  {
   "cell_type": "markdown",
   "metadata": {},
   "source": [
    "As mentioned earlier, the `model_fn` method is the same as the one provided in the training code and the `input_fn` and `output_fn` methods are very simple and your task will be to complete the `predict_fn` method. Make sure that you save the completed file as `predict.py` in the `serve` directory.\n",
    "\n",
    "**TODO**: Complete the `predict_fn()` method in the `serve/predict.py` file."
   ]
  },
  {
   "cell_type": "markdown",
   "metadata": {},
   "source": [
    "### Deploying the model\n",
    "\n",
    "Now that the custom inference code has been written, we will create and deploy our model. To begin with, we need to construct a new PyTorchModel object which points to the model artifacts created during training and also points to the inference code that we wish to use. Then we can call the deploy method to launch the deployment container.\n",
    "\n",
    "**NOTE**: The default behaviour for a deployed PyTorch model is to assume that any input passed to the predictor is a `numpy` array. In our case we want to send a string so we need to construct a simple wrapper around the `RealTimePredictor` class to accomodate simple strings. In a more complicated situation you may want to provide a serialization object, for example if you wanted to sent image data."
   ]
  },
  {
   "cell_type": "code",
   "execution_count": null,
   "metadata": {},
   "outputs": [],
   "source": [
    "from sagemaker.predictor import RealTimePredictor\n",
    "from sagemaker.pytorch import PyTorchModel\n",
    "\n",
    "class StringPredictor(RealTimePredictor):\n",
    "    def __init__(self, endpoint_name, sagemaker_session):\n",
    "        super(StringPredictor, self).__init__(endpoint_name, sagemaker_session, content_type='text/plain')\n",
    "\n",
    "model = PyTorchModel(model_data=estimator.model_data,\n",
    "                     role = role,\n",
    "                     framework_version='0.4.0',\n",
    "                     entry_point='predict.py',\n",
    "                     source_dir='serve',\n",
    "                     predictor_cls=StringPredictor)\n",
    "predictor = model.deploy(initial_instance_count=1, instance_type='ml.m4.xlarge')"
   ]
  },
  {
   "cell_type": "markdown",
   "metadata": {},
   "source": [
    "### Testing the model\n",
    "\n",
    "Now that we have deployed our model with the custom inference code, we should test to see if everything is working. Here we test our model by loading the first `250` positive and negative reviews and send them to the endpoint, then collect the results. The reason for only sending some of the data is that the amount of time it takes for our model to process the input and then perform inference is quite long and so testing the entire data set would be prohibitive."
   ]
  },
  {
   "cell_type": "code",
   "execution_count": null,
   "metadata": {},
   "outputs": [],
   "source": [
    "import glob\n",
    "\n",
    "def test_reviews(data_dir='../data/aclImdb', stop=250):\n",
    "    \n",
    "    results = []\n",
    "    ground = []\n",
    "    \n",
    "    # We make sure to test both positive and negative reviews    \n",
    "    for sentiment in ['pos', 'neg']:\n",
    "        \n",
    "        path = os.path.join(data_dir, 'test', sentiment, '*.txt')\n",
    "        files = glob.glob(path)\n",
    "        \n",
    "        files_read = 0\n",
    "        \n",
    "        print('Starting ', sentiment, ' files')\n",
    "        \n",
    "        # Iterate through the files and send them to the predictor\n",
    "        for f in files:\n",
    "            with open(f) as review:\n",
    "                # First, we store the ground truth (was the review positive or negative)\n",
    "                if sentiment == 'pos':\n",
    "                    ground.append(1)\n",
    "                else:\n",
    "                    ground.append(0)\n",
    "                # Read in the review and convert to 'utf-8' for transmission via HTTP\n",
    "                review_input = review.read().encode('utf-8')\n",
    "                # Send the review to the predictor and store the results\n",
    "                results.append(int(predictor.predict(review_input)))\n",
    "                \n",
    "            # Sending reviews to our endpoint one at a time takes a while so we\n",
    "            # only send a small number of reviews\n",
    "            files_read += 1\n",
    "            if files_read == stop:\n",
    "                break\n",
    "            \n",
    "    return ground, results"
   ]
  },
  {
   "cell_type": "code",
   "execution_count": null,
   "metadata": {},
   "outputs": [],
   "source": [
    "ground, results = test_reviews()"
   ]
  },
  {
   "cell_type": "code",
   "execution_count": null,
   "metadata": {},
   "outputs": [],
   "source": [
    "from sklearn.metrics import accuracy_score\n",
    "accuracy_score(ground, results)"
   ]
  },
  {
   "cell_type": "markdown",
   "metadata": {},
   "source": [
    "As an additional test, we can try sending the `test_review` that we looked at earlier."
   ]
  },
  {
   "cell_type": "code",
   "execution_count": null,
   "metadata": {},
   "outputs": [],
   "source": [
    "predictor.predict(test_review)"
   ]
  },
  {
   "cell_type": "markdown",
   "metadata": {},
   "source": [
    "Now that we know our endpoint is working as expected, we can set up the web page that will interact with it. If you don't have time to finish the project now, make sure to skip down to the end of this notebook and shut down your endpoint. You can deploy it again when you come back."
   ]
  },
  {
   "cell_type": "markdown",
   "metadata": {},
   "source": [
    "## Step 7 (again): Use the model for the web app\n",
    "\n",
    "> **TODO:** This entire section and the next contain tasks for you to complete, mostly using the AWS console.\n",
    "\n",
    "So far we have been accessing our model endpoint by constructing a predictor object which uses the endpoint and then just using the predictor object to perform inference. What if we wanted to create a web app which accessed our model? The way things are set up currently makes that not possible since in order to access a SageMaker endpoint the app would first have to authenticate with AWS using an IAM role which included access to SageMaker endpoints. However, there is an easier way! We just need to use some additional AWS services.\n",
    "\n",
    "<img src=\"Web App Diagram.svg\">\n",
    "\n",
    "The diagram above gives an overview of how the various services will work together. On the far right is the model which we trained above and which is deployed using SageMaker. On the far left is our web app that collects a user's movie review, sends it off and expects a positive or negative sentiment in return.\n",
    "\n",
    "In the middle is where some of the magic happens. We will construct a Lambda function, which you can think of as a straightforward Python function that can be executed whenever a specified event occurs. We will give this function permission to send and recieve data from a SageMaker endpoint.\n",
    "\n",
    "Lastly, the method we will use to execute the Lambda function is a new endpoint that we will create using API Gateway. This endpoint will be a url that listens for data to be sent to it. Once it gets some data it will pass that data on to the Lambda function and then return whatever the Lambda function returns. Essentially it will act as an interface that lets our web app communicate with the Lambda function.\n",
    "\n",
    "### Setting up a Lambda function\n",
    "\n",
    "The first thing we are going to do is set up a Lambda function. This Lambda function will be executed whenever our public API has data sent to it. When it is executed it will receive the data, perform any sort of processing that is required, send the data (the review) to the SageMaker endpoint we've created and then return the result.\n",
    "\n",
    "#### Part A: Create an IAM Role for the Lambda function\n",
    "\n",
    "Since we want the Lambda function to call a SageMaker endpoint, we need to make sure that it has permission to do so. To do this, we will construct a role that we can later give the Lambda function.\n",
    "\n",
    "Using the AWS Console, navigate to the **IAM** page and click on **Roles**. Then, click on **Create role**. Make sure that the **AWS service** is the type of trusted entity selected and choose **Lambda** as the service that will use this role, then click **Next: Permissions**.\n",
    "\n",
    "In the search box type `sagemaker` and select the check box next to the **AmazonSageMakerFullAccess** policy. Then, click on **Next: Review**.\n",
    "\n",
    "Lastly, give this role a name. Make sure you use a name that you will remember later on, for example `LambdaSageMakerRole`. Then, click on **Create role**.\n",
    "\n",
    "#### Part B: Create a Lambda function\n",
    "\n",
    "Now it is time to actually create the Lambda function.\n",
    "\n",
    "Using the AWS Console, navigate to the AWS Lambda page and click on **Create a function**. When you get to the next page, make sure that **Author from scratch** is selected. Now, name your Lambda function, using a name that you will remember later on, for example `sentiment_analysis_func`. Make sure that the **Python 3.6** runtime is selected and then choose the role that you created in the previous part. Then, click on **Create Function**.\n",
    "\n",
    "On the next page you will see some information about the Lambda function you've just created. If you scroll down you should see an editor in which you can write the code that will be executed when your Lambda function is triggered. In our example, we will use the code below. \n",
    "\n",
    "```python\n",
    "# We need to use the low-level library to interact with SageMaker since the SageMaker API\n",
    "# is not available natively through Lambda.\n",
    "import boto3\n",
    "\n",
    "def lambda_handler(event, context):\n",
    "\n",
    "    # The SageMaker runtime is what allows us to invoke the endpoint that we've created.\n",
    "    runtime = boto3.Session().client('sagemaker-runtime')\n",
    "\n",
    "    # Now we use the SageMaker runtime to invoke our endpoint, sending the review we were given\n",
    "    response = runtime.invoke_endpoint(EndpointName = '**ENDPOINT NAME HERE**',    # The name of the endpoint we created\n",
    "                                       ContentType = 'text/plain',                 # The data format that is expected\n",
    "                                       Body = event['body'])                       # The actual review\n",
    "\n",
    "    # The response is an HTTP response whose body contains the result of our inference\n",
    "    result = response['Body'].read().decode('utf-8')\n",
    "\n",
    "    return {\n",
    "        'statusCode' : 200,\n",
    "        'headers' : { 'Content-Type' : 'text/plain', 'Access-Control-Allow-Origin' : '*' },\n",
    "        'body' : result\n",
    "    }\n",
    "```\n",
    "\n",
    "Once you have copy and pasted the code above into the Lambda code editor, replace the `**ENDPOINT NAME HERE**` portion with the name of the endpoint that we deployed earlier. You can determine the name of the endpoint using the code cell below."
   ]
  },
  {
   "cell_type": "code",
   "execution_count": null,
   "metadata": {},
   "outputs": [],
   "source": [
    "predictor.endpoint"
   ]
  },
  {
   "cell_type": "markdown",
   "metadata": {},
   "source": [
    "Once you have added the endpoint name to the Lambda function, click on **Save**. Your Lambda function is now up and running. Next we need to create a way for our web app to execute the Lambda function.\n",
    "\n",
    "### Setting up API Gateway\n",
    "\n",
    "Now that our Lambda function is set up, it is time to create a new API using API Gateway that will trigger the Lambda function we have just created.\n",
    "\n",
    "Using AWS Console, navigate to **Amazon API Gateway** and then click on **Get started**.\n",
    "\n",
    "On the next page, make sure that **New API** is selected and give the new api a name, for example, `sentiment_analysis_api`. Then, click on **Create API**.\n",
    "\n",
    "Now we have created an API, however it doesn't currently do anything. What we want it to do is to trigger the Lambda function that we created earlier.\n",
    "\n",
    "Select the **Actions** dropdown menu and click **Create Method**. A new blank method will be created, select its dropdown menu and select **POST**, then click on the check mark beside it.\n",
    "\n",
    "For the integration point, make sure that **Lambda Function** is selected and click on the **Use Lambda Proxy integration**. This option makes sure that the data that is sent to the API is then sent directly to the Lambda function with no processing. It also means that the return value must be a proper response object as it will also not be processed by API Gateway.\n",
    "\n",
    "Type the name of the Lambda function you created earlier into the **Lambda Function** text entry box and then click on **Save**. Click on **OK** in the pop-up box that then appears, giving permission to API Gateway to invoke the Lambda function you created.\n",
    "\n",
    "The last step in creating the API Gateway is to select the **Actions** dropdown and click on **Deploy API**. You will need to create a new Deployment stage and name it anything you like, for example `prod`.\n",
    "\n",
    "You have now successfully set up a public API to access your SageMaker model. Make sure to copy or write down the URL provided to invoke your newly created public API as this will be needed in the next step. This URL can be found at the top of the page, highlighted in blue next to the text **Invoke URL**."
   ]
  },
  {
   "cell_type": "markdown",
   "metadata": {},
   "source": [
    "## Step 4: Deploying our web app\n",
    "\n",
    "Now that we have a publicly available API, we can start using it in a web app. For our purposes, we have provided a simple static html file which can make use of the public api you created earlier.\n",
    "\n",
    "In the `website` folder there should be a file called `index.html`. Download the file to your computer and open that file up in a text editor of your choice. There should be a line which contains **\\*\\*REPLACE WITH PUBLIC API URL\\*\\***. Replace this string with the url that you wrote down in the last step and then save the file.\n",
    "\n",
    "Now, if you open `index.html` on your local computer, your browser will behave as a local web server and you can use the provided site to interact with your SageMaker model.\n",
    "\n",
    "If you'd like to go further, you can host this html file anywhere you'd like, for example using github or hosting a static site on Amazon's S3. Once you have done this you can share the link with anyone you'd like and have them play with it too!\n",
    "\n",
    "> **Important Note** In order for the web app to communicate with the SageMaker endpoint, the endpoint has to actually be deployed and running. This means that you are paying for it. Make sure that the endpoint is running when you want to use the web app but that you shut it down when you don't need it, otherwise you will end up with a surprisingly large AWS bill.\n",
    "\n",
    "**TODO:** Make sure that you include the edited `index.html` file in your project submission."
   ]
  },
  {
   "cell_type": "markdown",
   "metadata": {},
   "source": [
    "Now that your web app is working, trying playing around with it and see how well it works.\n",
    "\n",
    "**Question**: Give an example of a review that you entered into your web app. What was the predicted sentiment of your example review?"
   ]
  },
  {
   "cell_type": "markdown",
   "metadata": {},
   "source": [
    "**Answer:**"
   ]
  },
  {
   "cell_type": "markdown",
   "metadata": {},
   "source": [
    "### Delete the endpoint\n",
    "\n",
    "Remember to always shut down your endpoint if you are no longer using it. You are charged for the length of time that the endpoint is running so if you forget and leave it on you could end up with an unexpectedly large bill."
   ]
  },
  {
   "cell_type": "code",
   "execution_count": null,
   "metadata": {},
   "outputs": [],
   "source": [
    "predictor.delete_endpoint()"
   ]
  },
  {
   "cell_type": "code",
   "execution_count": null,
   "metadata": {},
   "outputs": [],
   "source": []
  }
 ],
 "metadata": {
  "kernelspec": {
   "display_name": "conda_pytorch_p36",
   "language": "python",
   "name": "conda_pytorch_p36"
  },
  "language_info": {
   "codemirror_mode": {
    "name": "ipython",
    "version": 3
   },
   "file_extension": ".py",
   "mimetype": "text/x-python",
   "name": "python",
   "nbconvert_exporter": "python",
   "pygments_lexer": "ipython3",
   "version": "3.6.5"
  }
 },
 "nbformat": 4,
 "nbformat_minor": 2
}
